{
 "cells": [
  {
   "cell_type": "markdown",
   "id": "bb3e6dfc-c5e7-416e-ae0a-005ed97a698c",
   "metadata": {},
   "source": [
    "# Temporally Dependent TV/TGV Regularisation\n",
    "\n",
    "## Training Script\n",
    "\n",
    "1. Loading inputs and labels\n",
    "2. Partitioning in training and validation data \n",
    "3. Visualization of a sample\n",
    "4. Defining the models\n",
    "5. Loss function and optimizer\n",
    "6. Training loop\n",
    "7. Results"
   ]
  },
  {
   "cell_type": "code",
   "execution_count": 1,
   "id": "bd858fdc-f488-486b-890f-fa7a5d70b398",
   "metadata": {
    "tags": []
   },
   "outputs": [],
   "source": [
    "# Imports\n",
    "import sys\n",
    "import torch\n",
    "from torch.utils.tensorboard import SummaryWriter\n",
    "from datetime import datetime\n",
    "sys.path.append(\"/home/jovyan/P1-Temp-Reg/nns_based_approach\")\n",
    "from cnn_blocks.unet import UNet\n",
    "from utilities.dataset import ImageDataset, collate_func\n",
    "from utilities.plot import animated_imshow\n",
    "from tv_recon_network.network import LearnedTVMapCNN\n",
    "import matplotlib.pyplot as plt\n",
    "import numpy as np"
   ]
  },
  {
   "cell_type": "code",
   "execution_count": 2,
   "id": "9fcc5e33-1916-44f5-ba8e-636429acb22d",
   "metadata": {},
   "outputs": [
    {
     "name": "stdout",
     "output_type": "stream",
     "text": [
      "Total: 488\n",
      "Training: 390\n",
      "Validation: 98\n"
     ]
    }
   ],
   "source": [
    "data_path = \"/home/jovyan/data/\"\n",
    "valid_fraction = 0.2\n",
    "\n",
    "dataset = ImageDataset(input_data_path=f\"{data_path}input_data/\", \n",
    "                       label_data_path=f\"{data_path}label_data/\")\n",
    "\n",
    "train_set_len = int((1-valid_fraction)*len(dataset))\n",
    "dataset_train, dataset_valid = torch.utils.data.random_split(dataset, [train_set_len, len(dataset)-train_set_len])\n",
    "\n",
    "print(f\"Total: {len(dataset)}\\nTraining: {len(dataset_train)}\\nValidation: {len(dataset_valid)}\")"
   ]
  },
  {
   "cell_type": "code",
   "execution_count": 3,
   "id": "594eea71-3e63-4aeb-a4be-e9b02554831b",
   "metadata": {},
   "outputs": [],
   "source": [
    "# Parameters\n",
    "epochs = 100\n",
    "n_batch = 1\n",
    "learning_rate = 1e-4"
   ]
  },
  {
   "cell_type": "code",
   "execution_count": 4,
   "id": "f2697ccd-1ca5-448c-9b1b-eb858678306c",
   "metadata": {
    "tags": []
   },
   "outputs": [],
   "source": [
    "# Define data loaders\n",
    "train_loader = torch.utils.data.DataLoader(dataset_train, batch_size=n_batch, shuffle=True, collate_fn=collate_func)\n",
    "valid_loader = torch.utils.data.DataLoader(dataset_valid, batch_size=n_batch, shuffle=False, collate_fn=collate_func)"
   ]
  },
  {
   "cell_type": "code",
   "execution_count": 5,
   "id": "e86c8870-16b4-42f8-ba0d-b1020c0a981b",
   "metadata": {},
   "outputs": [],
   "source": [
    "# Test Data Loader\n",
    "\n",
    "# next(iter(train_loader))"
   ]
  },
  {
   "cell_type": "code",
   "execution_count": 6,
   "id": "5c17260b-d793-4214-bbd2-702717111c26",
   "metadata": {
    "tags": []
   },
   "outputs": [
    {
     "name": "stdout",
     "output_type": "stream",
     "text": [
      "Started reading acquisitions from /home/jovyan/data/input_data/y_221.h5\n",
      "0%..10%..20%..30%..40%..50%..60%..70%..80%..90%..99%..\n",
      "Finished reading acquisitions from /home/jovyan/data/input_data/y_221.h5\n",
      "tensor([[[[  4.,   5.,   4.,  ..., 301., 261., 201.],\n",
      "          [  4.,   4.,   4.,  ..., 311., 310., 276.],\n",
      "          [  4.,   4.,   5.,  ..., 300., 307., 310.],\n",
      "          ...,\n",
      "          [  8.,   9.,   7.,  ..., 162., 157., 163.],\n",
      "          [  8.,   9.,   8.,  ..., 153., 160., 158.],\n",
      "          [  8.,  10.,   8.,  ..., 150., 160., 155.]],\n",
      "\n",
      "         [[  4.,   4.,   4.,  ..., 297., 255., 197.],\n",
      "          [  4.,   5.,   5.,  ..., 309., 305., 275.],\n",
      "          [  4.,   4.,   4.,  ..., 308., 308., 308.],\n",
      "          ...,\n",
      "          [  8.,  10.,   9.,  ..., 170., 166., 164.],\n",
      "          [  8.,  10.,   9.,  ..., 168., 157., 153.],\n",
      "          [  7.,  10.,   9.,  ..., 160., 153., 150.]],\n",
      "\n",
      "         [[  4.,   4.,   5.,  ..., 297., 259., 200.],\n",
      "          [  4.,   4.,   5.,  ..., 312., 307., 274.],\n",
      "          [  4.,   4.,   4.,  ..., 302., 313., 311.],\n",
      "          ...,\n",
      "          [  7.,   9.,   8.,  ..., 176., 183., 177.],\n",
      "          [  7.,   9.,   8.,  ..., 194., 177., 159.],\n",
      "          [  7.,   9.,   8.,  ..., 155., 148., 153.]],\n",
      "\n",
      "         ...,\n",
      "\n",
      "         [[  4.,   4.,   4.,  ..., 298., 261., 203.],\n",
      "          [  4.,   4.,   5.,  ..., 306., 303., 274.],\n",
      "          [  5.,   4.,   4.,  ..., 307., 308., 301.],\n",
      "          ...,\n",
      "          [  7.,   9.,   8.,  ..., 151., 158., 169.],\n",
      "          [  7.,   9.,   9.,  ..., 152., 164., 167.],\n",
      "          [  7.,   9.,   9.,  ..., 155., 158., 163.]],\n",
      "\n",
      "         [[  4.,   4.,   5.,  ..., 294., 254., 198.],\n",
      "          [  4.,   5.,   5.,  ..., 310., 305., 276.],\n",
      "          [  5.,   4.,   5.,  ..., 309., 311., 308.],\n",
      "          ...,\n",
      "          [  7.,   9.,   8.,  ..., 165., 159., 159.],\n",
      "          [  7.,   9.,   8.,  ..., 161., 165., 161.],\n",
      "          [  7.,   9.,   8.,  ..., 149., 161., 167.]],\n",
      "\n",
      "         [[  4.,   4.,   5.,  ..., 299., 255., 206.],\n",
      "          [  4.,   5.,   4.,  ..., 317., 304., 277.],\n",
      "          [  4.,   5.,   4.,  ..., 307., 314., 309.],\n",
      "          ...,\n",
      "          [  7.,   9.,   8.,  ..., 152., 161., 163.],\n",
      "          [  8.,   9.,   8.,  ..., 157., 161., 166.],\n",
      "          [  7.,   9.,   9.,  ..., 159., 156., 163.]]]])\n"
     ]
    }
   ],
   "source": [
    "# Visualize the data\n",
    "data, label, acq_model = dataset_valid[20]\n",
    "animated_imshow(label[0, ...])\n",
    "\n",
    "print(label.float())"
   ]
  },
  {
   "cell_type": "markdown",
   "id": "3883a857-1fa8-4b15-89dc-1f9f15226d93",
   "metadata": {},
   "source": [
    "## Data Format\n",
    "\n",
    "- `data` is a SIRF AcquisitionData object, time and readout dimensions are mixed in array dimension 0 due to call `as_array()`\n",
    "- `label` is a nifti image\n",
    "- `model` is a SIRF AcquisitionModel object "
   ]
  },
  {
   "cell_type": "code",
   "execution_count": 7,
   "id": "287b44b0-2962-44e6-a754-c9505ec87fc0",
   "metadata": {},
   "outputs": [
    {
     "data": {
      "image/png": "[encoded data removed]",
      "text/plain": [
       "<Figure size 432x288 with 1 Axes>"
      ]
     },
     "metadata": {
      "needs_background": "light"
     },
     "output_type": "display_data"
    }
   ],
   "source": [
    "plt.imshow(np.abs(data.as_array()[:, 0, :]))\n",
    "plt.show()"
   ]
  },
  {
   "cell_type": "code",
   "execution_count": 8,
   "id": "72c97179-af13-4aa5-ab48-c39017e40086",
   "metadata": {
    "tags": []
   },
   "outputs": [],
   "source": [
    "# Define the model\n",
    "unet = UNet(dim=3, \n",
    "          n_ch_in=2, \n",
    "          n_ch_out=3, \n",
    "          n_enc_stages=3,\n",
    "          n_convs_per_stage=2, \n",
    "          n_filters=16,\n",
    "          kernel_size=3, \n",
    "          res_connection=False,\n",
    "          bias=True)\n",
    "\n",
    "# print(unet)"
   ]
  },
  {
   "cell_type": "code",
   "execution_count": 9,
   "id": "6d7767f7-1d7c-453a-b040-5b96b3f19a53",
   "metadata": {
    "tags": []
   },
   "outputs": [],
   "source": [
    "model = LearnedTVMapCNN(unet, T=10, beta_reg)\n",
    "# print(tv)\n",
    "\n",
    "# test, _ = model(data, acq_model)\n",
    "# test.dtype"
   ]
  },
  {
   "cell_type": "code",
   "execution_count": 10,
   "id": "44ec94f9-66cb-41f8-ad3f-d4bb169c0665",
   "metadata": {
    "tags": []
   },
   "outputs": [],
   "source": [
    "# Loss function\n",
    "loss_func = torch.nn.MSELoss()\n",
    "\n",
    "# Optimizer\n",
    "optimizer = torch.optim.Adam(model.parameters(), lr=learning_rate)"
   ]
  },
  {
   "cell_type": "code",
   "execution_count": 12,
   "id": "c3bccab9-20a3-42a9-aea2-059fe16ee101",
   "metadata": {},
   "outputs": [],
   "source": [
    "# Define training routine for one batch\n",
    "def train_one_epoch(epoch_index, tb_writer):\n",
    "    running_loss = 0.\n",
    "    last_loss = 0.\n",
    "\n",
    "    for i, data in enumerate(train_loader):\n",
    "        # Every data instance is an input + label pair\n",
    "        inputs, labels, acq_model = data\n",
    "\n",
    "        # Zero your gradients for every batch!\n",
    "        optimizer.zero_grad()\n",
    "\n",
    "        # Make predictions for this batch\n",
    "        outputs, _ = model(inputs, acq_model)\n",
    "\n",
    "        # Compute the loss and its gradients\n",
    "        loss = loss_func(outputs.abs(), labels)\n",
    "        print(f\"IT {i+1}, EPOCH {epoch_index+1}: LOSS={loss}\")\n",
    "        loss.backward()\n",
    "\n",
    "        # Adjust learning weights\n",
    "        optimizer.step()\n",
    "\n",
    "        # Gather data and report\n",
    "        running_loss += loss.item()\n",
    "        if i % 100 == 99:\n",
    "            last_loss = running_loss / 100 # loss per batch\n",
    "            print(f\"BATCH {i+1} MEAN LOSS={last_loss}\")\n",
    "            tb_x = epoch_index * len(training_loader) + i + 1\n",
    "            tb_writer.add_scalar('Loss/train', last_loss, tb_x)\n",
    "            running_loss = 0.\n",
    "\n",
    "    return last_loss"
   ]
  },
  {
   "cell_type": "code",
   "execution_count": null,
   "id": "b9530801-846a-43a5-8695-0ed0b8158840",
   "metadata": {},
   "outputs": [
    {
     "name": "stdout",
     "output_type": "stream",
     "text": [
      "EPOCH 1:\n",
      "Started reading acquisitions from /home/jovyan/data/input_data/y_169.h5\n",
      "0%..10%..20%..30%..40%..50%..60%..70%..80%..90%..99%..\n",
      "Finished reading acquisitions from /home/jovyan/data/input_data/y_169.h5\n",
      "0\n",
      "IT 0, EPOCH 0: LOSS=463.2574462890625\n",
      "Started reading acquisitions from /home/jovyan/data/input_data/y_34.h5\n",
      "0%..10%..20%..30%..40%..50%..60%..70%..80%..90%..99%..\n",
      "Finished reading acquisitions from /home/jovyan/data/input_data/y_34.h5\n",
      "0\n",
      "IT 1, EPOCH 0: LOSS=4178.68505859375\n",
      "Started reading acquisitions from /home/jovyan/data/input_data/y_5.h5\n",
      "0%..10%..20%..30%..40%..50%..60%..70%..80%..90%..99%..\n",
      "Finished reading acquisitions from /home/jovyan/data/input_data/y_5.h5\n",
      "0\n",
      "IT 2, EPOCH 0: LOSS=576.3952026367188\n",
      "Started reading acquisitions from /home/jovyan/data/input_data/y_420.h5\n",
      "0%..10%..20%..30%..40%..50%..60%..70%..80%..90%..99%..\n",
      "Finished reading acquisitions from /home/jovyan/data/input_data/y_420.h5\n",
      "0\n",
      "IT 3, EPOCH 0: LOSS=332.8435363769531\n",
      "Started reading acquisitions from /home/jovyan/data/input_data/y_318.h5\n",
      "0%..10%..20%..30%..40%..50%..60%..70%..80%..90%..99%..\n",
      "Finished reading acquisitions from /home/jovyan/data/input_data/y_318.h5\n",
      "0\n",
      "IT 4, EPOCH 0: LOSS=108.56878662109375\n",
      "Started reading acquisitions from /home/jovyan/data/input_data/y_487.h5\n",
      "0%..10%..20%..30%..40%..50%..60%..70%..80%..90%..99%..\n",
      "Finished reading acquisitions from /home/jovyan/data/input_data/y_487.h5\n",
      "0\n",
      "IT 5, EPOCH 0: LOSS=94.5863265991211\n",
      "Started reading acquisitions from /home/jovyan/data/input_data/y_480.h5\n",
      "0%..10%..20%..30%..40%..50%..60%..70%..80%..90%..99%..\n",
      "Finished reading acquisitions from /home/jovyan/data/input_data/y_480.h5\n",
      "0\n",
      "IT 6, EPOCH 0: LOSS=113.35125732421875\n",
      "Started reading acquisitions from /home/jovyan/data/input_data/y_199.h5\n",
      "0%..10%..20%..30%..40%..50%..60%..70%..80%..90%..99%..\n",
      "Finished reading acquisitions from /home/jovyan/data/input_data/y_199.h5\n",
      "0\n",
      "IT 7, EPOCH 0: LOSS=239.96575927734375\n",
      "Started reading acquisitions from /home/jovyan/data/input_data/y_325.h5\n",
      "0%..10%..20%..30%..40%..50%..60%..70%..80%..90%..99%..\n",
      "Finished reading acquisitions from /home/jovyan/data/input_data/y_325.h5\n",
      "0\n",
      "IT 8, EPOCH 0: LOSS=486.0500183105469\n",
      "Started reading acquisitions from /home/jovyan/data/input_data/y_393.h5\n",
      "0%..10%..20%..30%..40%..50%..60%..70%..80%..90%..99%..\n",
      "Finished reading acquisitions from /home/jovyan/data/input_data/y_393.h5\n",
      "0\n",
      "IT 9, EPOCH 0: LOSS=5783.615234375\n",
      "Started reading acquisitions from /home/jovyan/data/input_data/y_376.h5\n",
      "0%..10%..20%..30%..40%..50%..60%..70%..80%..90%..99%..\n",
      "Finished reading acquisitions from /home/jovyan/data/input_data/y_376.h5\n",
      "0\n",
      "IT 10, EPOCH 0: LOSS=426.5328674316406\n",
      "Started reading acquisitions from /home/jovyan/data/input_data/y_300.h5\n",
      "0%..10%..20%..30%..40%..50%..60%..70%..80%..90%..99%..\n",
      "Finished reading acquisitions from /home/jovyan/data/input_data/y_300.h5\n",
      "0\n",
      "IT 11, EPOCH 0: LOSS=215.9759521484375\n",
      "Started reading acquisitions from /home/jovyan/data/input_data/y_116.h5\n",
      "0%..10%..20%..30%..40%..50%..60%..70%..80%..90%..99%..\n",
      "Finished reading acquisitions from /home/jovyan/data/input_data/y_116.h5\n",
      "0\n",
      "IT 12, EPOCH 0: LOSS=97.85157012939453\n",
      "Started reading acquisitions from /home/jovyan/data/input_data/y_14.h5\n",
      "0%..10%..20%..30%..40%..50%..60%..70%..80%..90%..99%..\n",
      "Finished reading acquisitions from /home/jovyan/data/input_data/y_14.h5\n",
      "0\n",
      "IT 13, EPOCH 0: LOSS=451.5856628417969\n",
      "Started reading acquisitions from /home/jovyan/data/input_data/y_422.h5\n",
      "0%..10%..20%..30%..40%..50%..60%..70%..80%..90%..99%..\n",
      "Finished reading acquisitions from /home/jovyan/data/input_data/y_422.h5\n",
      "0\n",
      "IT 14, EPOCH 0: LOSS=329.7463684082031\n",
      "Started reading acquisitions from /home/jovyan/data/input_data/y_211.h5\n",
      "0%..10%..20%..30%..40%..50%..60%..70%..80%..90%..99%..\n",
      "Finished reading acquisitions from /home/jovyan/data/input_data/y_211.h5\n",
      "0\n",
      "IT 15, EPOCH 0: LOSS=796.6718139648438\n",
      "Started reading acquisitions from /home/jovyan/data/input_data/y_189.h5\n",
      "0%..10%..20%..30%..40%..50%..60%..70%..80%..90%..99%..\n",
      "Finished reading acquisitions from /home/jovyan/data/input_data/y_189.h5\n",
      "0\n",
      "IT 16, EPOCH 0: LOSS=429.5696105957031\n",
      "Started reading acquisitions from /home/jovyan/data/input_data/y_107.h5\n",
      "0%..10%..20%..30%..40%..50%..60%..70%..80%..90%..99%..\n",
      "Finished reading acquisitions from /home/jovyan/data/input_data/y_107.h5\n",
      "0\n",
      "IT 17, EPOCH 0: LOSS=65.00056457519531\n",
      "Started reading acquisitions from /home/jovyan/data/input_data/y_131.h5\n",
      "0%..10%..20%..30%..40%..50%..60%..70%..80%..90%..99%..\n",
      "Finished reading acquisitions from /home/jovyan/data/input_data/y_131.h5\n",
      "0\n",
      "IT 18, EPOCH 0: LOSS=619.6450805664062\n",
      "Started reading acquisitions from /home/jovyan/data/input_data/y_402.h5\n",
      "0%..10%..20%..30%..40%..50%..60%..70%..80%..90%..99%..\n",
      "Finished reading acquisitions from /home/jovyan/data/input_data/y_402.h5\n",
      "0\n",
      "IT 19, EPOCH 0: LOSS=380.66552734375\n",
      "Started reading acquisitions from /home/jovyan/data/input_data/y_338.h5\n",
      "0%..10%..20%..30%..40%..50%..60%..70%..80%..90%..99%..\n",
      "Finished reading acquisitions from /home/jovyan/data/input_data/y_338.h5\n",
      "0\n",
      "IT 20, EPOCH 0: LOSS=176.62046813964844\n",
      "Started reading acquisitions from /home/jovyan/data/input_data/y_114.h5\n",
      "0%..10%..20%..30%..40%..50%..60%..70%..80%..90%..99%..\n",
      "Finished reading acquisitions from /home/jovyan/data/input_data/y_114.h5\n",
      "0\n",
      "IT 21, EPOCH 0: LOSS=109.75790405273438\n",
      "Started reading acquisitions from /home/jovyan/data/input_data/y_158.h5\n",
      "0%..10%..20%..30%..40%..50%..60%..70%..80%..90%..99%..\n",
      "Finished reading acquisitions from /home/jovyan/data/input_data/y_158.h5\n",
      "0\n",
      "IT 22, EPOCH 0: LOSS=3312.6044921875\n",
      "Started reading acquisitions from /home/jovyan/data/input_data/y_153.h5\n",
      "0%..10%..20%..30%..40%..50%..60%..70%..80%..90%..99%..\n",
      "Finished reading acquisitions from /home/jovyan/data/input_data/y_153.h5\n",
      "0\n",
      "IT 23, EPOCH 0: LOSS=544.6179809570312\n",
      "Started reading acquisitions from /home/jovyan/data/input_data/y_377.h5\n",
      "0%..10%..20%..30%..40%..50%..60%..70%..80%..90%..99%..\n",
      "Finished reading acquisitions from /home/jovyan/data/input_data/y_377.h5\n",
      "0\n",
      "IT 24, EPOCH 0: LOSS=313.3360290527344\n",
      "Started reading acquisitions from /home/jovyan/data/input_data/y_98.h5\n",
      "0%..10%..20%..30%..40%..50%..60%..70%..80%..90%..99%..\n",
      "Finished reading acquisitions from /home/jovyan/data/input_data/y_98.h5\n",
      "0\n",
      "IT 25, EPOCH 0: LOSS=111.81529998779297\n",
      "Started reading acquisitions from /home/jovyan/data/input_data/y_356.h5\n",
      "0%..10%..20%..30%..40%..50%..60%..70%..80%..90%..99%..\n",
      "Finished reading acquisitions from /home/jovyan/data/input_data/y_356.h5\n",
      "0\n",
      "IT 26, EPOCH 0: LOSS=89.37732696533203\n",
      "Started reading acquisitions from /home/jovyan/data/input_data/y_432.h5\n",
      "0%..10%..20%..30%..40%..50%..60%..70%..80%..90%..99%..\n",
      "Finished reading acquisitions from /home/jovyan/data/input_data/y_432.h5\n",
      "0\n",
      "IT 27, EPOCH 0: LOSS=591.3482055664062\n",
      "Started reading acquisitions from /home/jovyan/data/input_data/y_123.h5\n",
      "0%..10%..20%..30%..40%..50%..60%..70%..80%..90%..99%..\n",
      "Finished reading acquisitions from /home/jovyan/data/input_data/y_123.h5\n",
      "0\n",
      "IT 28, EPOCH 0: LOSS=350.9826354980469\n",
      "Started reading acquisitions from /home/jovyan/data/input_data/y_343.h5\n",
      "0%..10%..20%..30%..40%..50%..60%..70%..80%..90%..99%..\n",
      "Finished reading acquisitions from /home/jovyan/data/input_data/y_343.h5\n",
      "0\n",
      "IT 29, EPOCH 0: LOSS=95.12139892578125\n"
     ]
    }
   ],
   "source": [
    "# TRAINING LOOP\n",
    "\n",
    "timestamp = datetime.now().strftime('%Y%m%d_%H%M%S')\n",
    "writer = SummaryWriter('/home/jovyan/runs/trainer_{}'.format(timestamp))\n",
    "epoch_number = 0\n",
    "\n",
    "for epoch in range(epochs):\n",
    "    print('EPOCH {}:'.format(epoch_number + 1))\n",
    "\n",
    "    model.train(True)\n",
    "    avg_loss = train_one_epoch(epoch_number, writer)\n",
    "\n",
    "    model.train(False)\n",
    "\n",
    "    running_vloss = 0.0\n",
    "    for i, vdata in enumerate(valid_loader):\n",
    "        vinputs, vlabels, v_acq_model = vdata\n",
    "        voutputs, _ = model(vinputs, v_acq_model)\n",
    "        vloss = loss_fn(voutputs.abs(), vlabels)\n",
    "        running_vloss += vloss\n",
    "\n",
    "    avg_vloss = running_vloss / (i + 1)\n",
    "    print('LOSS train {} valid {}'.format(avg_loss, avg_vloss))\n",
    "\n",
    "    # Log the running loss averaged per batch\n",
    "    # for both training and validation\n",
    "    writer.add_scalars('Training vs. Validation Loss',\n",
    "                    { 'Training' : avg_loss, 'Validation' : avg_vloss },\n",
    "                    epoch_number + 1)\n",
    "    writer.flush()\n",
    "\n",
    "    model_path = 'model_{}_{}'.format(timestamp, epoch_number)\n",
    "    torch.save(model.state_dict(), model_path)\n",
    "\n",
    "    epoch_number += 1"
   ]
  },
  {
   "cell_type": "code",
   "execution_count": null,
   "id": "6a4a1520-e533-4f24-b1f6-722e1a357d80",
   "metadata": {},
   "outputs": [],
   "source": []
  },
  {
   "cell_type": "code",
   "execution_count": null,
   "id": "651d032b-f9e8-4b41-aaf7-6e77b35d8b97",
   "metadata": {},
   "outputs": [],
   "source": []
  }
 ],
 "metadata": {
  "kernelspec": {
   "display_name": "Python 3 (ipykernel)",
   "language": "python",
   "name": "python3"
  },
  "language_info": {
   "codemirror_mode": {
    "name": "ipython",
    "version": 3
   },
   "file_extension": ".py",
   "mimetype": "text/x-python",
   "name": "python",
   "nbconvert_exporter": "python",
   "pygments_lexer": "ipython3",
   "version": "3.9.10"
  }
 },
 "nbformat": 4,
 "nbformat_minor": 5
}
