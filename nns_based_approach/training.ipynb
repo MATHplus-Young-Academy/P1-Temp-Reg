{
 "cells": [
  {
   "cell_type": "markdown",
   "id": "bb3e6dfc-c5e7-416e-ae0a-005ed97a698c",
   "metadata": {},
   "source": [
    "Training Script"
   ]
  },
  {
   "cell_type": "code",
   "execution_count": 9,
   "id": "bd858fdc-f488-486b-890f-fa7a5d70b398",
   "metadata": {
    "tags": []
   },
   "outputs": [
    {
     "name": "stdout",
     "output_type": "stream",
     "text": [
      "Total: 488\n",
      "Training: 390\n",
      "Validation: 98\n"
     ]
    }
   ],
   "source": [
    "import sys\n",
    "import torch\n",
    "sys.path.append(\"/home/jovyan/P1-Temp-Reg/nns_based_approach\")\n",
    "from cnn_blocks.unet import UNet\n",
    "from utilities.dataset import ImageDataset\n",
    "\n",
    "data_path = \"/home/jovyan/data/\"\n",
    "valid_fraction = 0.2\n",
    "\n",
    "dataset = ImageDataset(data_path)\n",
    "\n",
    "train_set_len = int((1-valid_fraction)*len(dataset))\n",
    "dataset_train, datset_valid = torch.utils.data.random_split(dataset, [train_set_len, len(dataset)-train_set_len])\n",
    "\n",
    "print(f\"Total: {len(dataset)}\\nTraining: {len(train_set)}\\nValidation: {len(valid_set)}\")"
   ]
  },
  {
   "cell_type": "code",
   "execution_count": null,
   "id": "594eea71-3e63-4aeb-a4be-e9b02554831b",
   "metadata": {},
   "outputs": [],
   "source": [
    "# Parameters\n",
    "\n",
    "epochs = 100\n",
    "n_batch = 1\n",
    "learning_rate = 1e-4"
   ]
  },
  {
   "cell_type": "code",
   "execution_count": null,
   "id": "f2697ccd-1ca5-448c-9b1b-eb858678306c",
   "metadata": {
    "tags": []
   },
   "outputs": [],
   "source": [
    "# Define data loaders\n",
    "train = torch.utils.data.DataLoader(dataset_train, batch_size=n_batch, shuffle=True)\n",
    "valid = torch.utils.data.DataLoader(dataset_valid, batch_size=n_batch, shuffle=False)"
   ]
  },
  {
   "cell_type": "code",
   "execution_count": null,
   "id": "5c17260b-d793-4214-bbd2-702717111c26",
   "metadata": {
    "tags": []
   },
   "outputs": [],
   "source": [
    "# TODO: Visualize the data\n"
   ]
  },
  {
   "cell_type": "code",
   "execution_count": 10,
   "id": "72c97179-af13-4aa5-ab48-c39017e40086",
   "metadata": {
    "collapsed": true,
    "jupyter": {
     "outputs_hidden": true
    },
    "tags": []
   },
   "outputs": [
    {
     "name": "stdout",
     "output_type": "stream",
     "text": [
      "UNet(\n",
      "  (encoder): Encoder(\n",
      "    (enc_blocks): ModuleList(\n",
      "      (0): ConvBlock(\n",
      "        (conv_block): Sequential(\n",
      "          (0): Conv3d(2, 16, kernel_size=(3, 3, 3), stride=(1, 1, 1), padding=(1, 1, 1))\n",
      "          (1): LeakyReLU(negative_slope=0.01)\n",
      "          (2): Conv3d(16, 16, kernel_size=(3, 3, 3), stride=(1, 1, 1), padding=(1, 1, 1))\n",
      "          (3): LeakyReLU(negative_slope=0.01)\n",
      "        )\n",
      "      )\n",
      "      (1): ConvBlock(\n",
      "        (conv_block): Sequential(\n",
      "          (0): Conv3d(16, 32, kernel_size=(3, 3, 3), stride=(1, 1, 1), padding=(1, 1, 1))\n",
      "          (1): LeakyReLU(negative_slope=0.01)\n",
      "          (2): Conv3d(32, 32, kernel_size=(3, 3, 3), stride=(1, 1, 1), padding=(1, 1, 1))\n",
      "          (3): LeakyReLU(negative_slope=0.01)\n",
      "        )\n",
      "      )\n",
      "      (2): ConvBlock(\n",
      "        (conv_block): Sequential(\n",
      "          (0): Conv3d(32, 64, kernel_size=(3, 3, 3), stride=(1, 1, 1), padding=(1, 1, 1))\n",
      "          (1): LeakyReLU(negative_slope=0.01)\n",
      "          (2): Conv3d(64, 64, kernel_size=(3, 3, 3), stride=(1, 1, 1), padding=(1, 1, 1))\n",
      "          (3): LeakyReLU(negative_slope=0.01)\n",
      "        )\n",
      "      )\n",
      "    )\n",
      "    (pool): MaxPool3d(kernel_size=2, stride=2, padding=0, dilation=1, ceil_mode=False)\n",
      "  )\n",
      "  (decoder): Decoder(\n",
      "    (upconvs): ModuleList(\n",
      "      (0): Conv3d(64, 32, kernel_size=(3, 3, 3), stride=(1, 1, 1), padding=(1, 1, 1))\n",
      "      (1): Conv3d(32, 16, kernel_size=(3, 3, 3), stride=(1, 1, 1), padding=(1, 1, 1))\n",
      "    )\n",
      "    (dec_blocks): ModuleList(\n",
      "      (0): ConvBlock(\n",
      "        (conv_block): Sequential(\n",
      "          (0): Conv3d(64, 32, kernel_size=(3, 3, 3), stride=(1, 1, 1), padding=(1, 1, 1))\n",
      "          (1): LeakyReLU(negative_slope=0.01)\n",
      "          (2): Conv3d(32, 32, kernel_size=(3, 3, 3), stride=(1, 1, 1), padding=(1, 1, 1))\n",
      "          (3): LeakyReLU(negative_slope=0.01)\n",
      "        )\n",
      "      )\n",
      "      (1): ConvBlock(\n",
      "        (conv_block): Sequential(\n",
      "          (0): Conv3d(32, 16, kernel_size=(3, 3, 3), stride=(1, 1, 1), padding=(1, 1, 1))\n",
      "          (1): LeakyReLU(negative_slope=0.01)\n",
      "          (2): Conv3d(16, 16, kernel_size=(3, 3, 3), stride=(1, 1, 1), padding=(1, 1, 1))\n",
      "          (3): LeakyReLU(negative_slope=0.01)\n",
      "        )\n",
      "      )\n",
      "    )\n",
      "  )\n",
      "  (c1x1): Conv3d(16, 2, kernel_size=(1, 1, 1), stride=(1, 1, 1))\n",
      ")\n"
     ]
    }
   ],
   "source": [
    "# Define the model\n",
    "nn = UNet(dim=3, \n",
    "          n_ch_in=2, \n",
    "          n_ch_out=2, \n",
    "          n_enc_stages=3,\n",
    "          n_convs_per_stage=2, \n",
    "          n_filters=16,\n",
    "          kernel_size=3, \n",
    "          res_connection=True,\n",
    "          bias=True)\n",
    "\n",
    "print(nn)"
   ]
  },
  {
   "cell_type": "code",
   "execution_count": null,
   "id": "44ec94f9-66cb-41f8-ad3f-d4bb169c0665",
   "metadata": {
    "tags": []
   },
   "outputs": [],
   "source": [
    "# Loss function\n",
    "class mse_loss(torch.nn.Module):\n",
    "    def __init__(self):\n",
    "        super(mse_loss, self).__init__()\n",
    "        self.mse = torch.nn.MSELoss()\n",
    "    def forward(self, model, x: torch.Tensor, y: torch.Tensor) -> torch.Tensor:\n",
    "        x_nn = model(x)\n",
    "        return self.mse(x_nn.float(), y.float())\n",
    "\n",
    "# Optimizer\n",
    "optimizer = torch.optim.Adam(model.parameters(), lr=learning_rate)"
   ]
  },
  {
   "cell_type": "code",
   "execution_count": null,
   "id": "c3bccab9-20a3-42a9-aea2-059fe16ee101",
   "metadata": {},
   "outputs": [],
   "source": [
    "# Define training routine for one batch\n",
    "def train_one_epoch(epoch_index, tb_writer):\n",
    "    running_loss = 0.\n",
    "    last_loss = 0.\n",
    "\n",
    "    for i, data in enumerate(training_loader):\n",
    "        # Every data instance is an input + label pair\n",
    "        inputs, labels = data\n",
    "\n",
    "        # Zero your gradients for every batch!\n",
    "        optimizer.zero_grad()\n",
    "\n",
    "        # Make predictions for this batch\n",
    "        outputs = model(inputs)\n",
    "\n",
    "        # Compute the loss and its gradients\n",
    "        loss = mse_loss(nn, outputs, labels)\n",
    "        loss.backward()\n",
    "\n",
    "        # Adjust learning weights\n",
    "        optimizer.step()\n",
    "\n",
    "        # Gather data and report\n",
    "        running_loss += loss.item()\n",
    "        if i % 100 == 99:\n",
    "            last_loss = running_loss / 100 # loss per batch\n",
    "            print('  batch {} loss: {}'.format(i + 1, last_loss))\n",
    "            tb_x = epoch_index * len(training_loader) + i + 1\n",
    "            tb_writer.add_scalar('Loss/train', last_loss, tb_x)\n",
    "            running_loss = 0.\n",
    "\n",
    "    return last_loss"
   ]
  },
  {
   "cell_type": "code",
   "execution_count": null,
   "id": "b9530801-846a-43a5-8695-0ed0b8158840",
   "metadata": {},
   "outputs": [],
   "source": [
    "# TRAINING LOOP\n",
    "\n",
    "timestamp = datetime.now().strftime('%Y%m%d_%H%M%S')\n",
    "writer = SummaryWriter('/home/jovyan/runs/trainer_{}'.format(timestamp))\n",
    "epoch_number = 0\n",
    "\n",
    "for epoch in range(epochs):\n",
    "    print('EPOCH {}:'.format(epoch_number + 1))\n",
    "\n",
    "    model.train(True)\n",
    "    avg_loss = train_one_epoch(epoch_number, writer)\n",
    "\n",
    "    model.train(False)\n",
    "\n",
    "    running_vloss = 0.0\n",
    "    for i, vdata in enumerate(validation_loader):\n",
    "        vinputs, vlabels = vdata\n",
    "        voutputs = model(vinputs)\n",
    "        vloss = loss_fn(voutputs, vlabels)\n",
    "        running_vloss += vloss\n",
    "\n",
    "    avg_vloss = running_vloss / (i + 1)\n",
    "    print('LOSS train {} valid {}'.format(avg_loss, avg_vloss))\n",
    "\n",
    "    # Log the running loss averaged per batch\n",
    "    # for both training and validation\n",
    "    writer.add_scalars('Training vs. Validation Loss',\n",
    "                    { 'Training' : avg_loss, 'Validation' : avg_vloss },\n",
    "                    epoch_number + 1)\n",
    "    writer.flush()\n",
    "\n",
    "    model_path = 'model_{}_{}'.format(timestamp, epoch_number)\n",
    "    torch.save(model.state_dict(), model_path)\n",
    "\n",
    "    epoch_number += 1"
   ]
  },
  {
   "cell_type": "code",
   "execution_count": null,
   "id": "84013436-91eb-4b42-bcb6-79dd688b5783",
   "metadata": {},
   "outputs": [],
   "source": []
  }
 ],
 "metadata": {
  "kernelspec": {
   "display_name": "Python 3 (ipykernel)",
   "language": "python",
   "name": "python3"
  },
  "language_info": {
   "codemirror_mode": {
    "name": "ipython",
    "version": 3
   },
   "file_extension": ".py",
   "mimetype": "text/x-python",
   "name": "python",
   "nbconvert_exporter": "python",
   "pygments_lexer": "ipython3",
   "version": "3.9.10"
  }
 },
 "nbformat": 4,
 "nbformat_minor": 5
}
