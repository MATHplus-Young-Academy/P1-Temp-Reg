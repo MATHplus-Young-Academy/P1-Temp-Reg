{
 "cells": [
  {
   "cell_type": "code",
   "execution_count": 1,
   "id": "5098a8e3-e59e-4299-890c-92cfde8df07c",
   "metadata": {},
   "outputs": [],
   "source": [
    "import sys\n",
    "sys.path.append(\"/home/jovyan/P1-Temp-Reg/nns_based_approach\")\n",
    "from utilities.dataset import ImageDataset\n"
   ]
  },
  {
   "cell_type": "code",
   "execution_count": 2,
   "id": "9401d603-3e5b-4a14-a271-0f21d70282e1",
   "metadata": {},
   "outputs": [
    {
     "name": "stdout",
     "output_type": "stream",
     "text": [
      "Length of dataset: 488\n",
      "Started reading acquisitions from /home/jovyan/data/y_0.h5\n",
      "0%..10%..20%..30%..40%..50%..60%..70%..80%..90%..99%..\n",
      "Finished reading acquisitions from /home/jovyan/data/y_0.h5\n"
     ]
    }
   ],
   "source": [
    "# Directory of the hdf5 data files\n",
    "data_path = \"/home/jovyan/data/\"\n",
    "\n",
    "set = ImageDataset(data_path)\n",
    "print(f\"Length of dataset: {len(set)}\")\n",
    "\n",
    "data = set[0]"
   ]
  },
  {
   "cell_type": "code",
   "execution_count": 3,
   "id": "97af39db-5dc6-42fb-a2a8-4a969843ad8f",
   "metadata": {},
   "outputs": [
    {
     "name": "stdout",
     "output_type": "stream",
     "text": [
      "<class 'sirf.Gadgetron.AcquisitionData'>\n"
     ]
    }
   ],
   "source": [
    "print(type(data))"
   ]
  },
  {
   "cell_type": "code",
   "execution_count": 4,
   "id": "51f65b7e-4997-4950-8d09-8c52abdf7948",
   "metadata": {},
   "outputs": [
    {
     "data": {
      "text/plain": [
       "<bound method AcquisitionData.dimensions of <sirf.Gadgetron.AcquisitionData object at 0x7f25d43c8460>>"
      ]
     },
     "execution_count": 4,
     "metadata": {},
     "output_type": "execute_result"
    }
   ],
   "source": []
  },
  {
   "cell_type": "code",
   "execution_count": null,
   "id": "62be56b4-f4db-4e16-b7a7-b84755c0b1f5",
   "metadata": {},
   "outputs": [],
   "source": []
  }
 ],
 "metadata": {
  "kernelspec": {
   "display_name": "Python 3 (ipykernel)",
   "language": "python",
   "name": "python3"
  },
  "language_info": {
   "codemirror_mode": {
    "name": "ipython",
    "version": 3
   },
   "file_extension": ".py",
   "mimetype": "text/x-python",
   "name": "python",
   "nbconvert_exporter": "python",
   "pygments_lexer": "ipython3",
   "version": "3.9.10"
  }
 },
 "nbformat": 4,
 "nbformat_minor": 5
}
