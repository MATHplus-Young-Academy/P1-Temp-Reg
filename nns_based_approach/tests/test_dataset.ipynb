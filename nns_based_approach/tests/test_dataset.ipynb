{
 "cells": [
  {
   "cell_type": "code",
   "execution_count": 1,
   "id": "5098a8e3-e59e-4299-890c-92cfde8df07c",
   "metadata": {},
   "outputs": [],
   "source": [
    "import sys\n",
    "import torch\n",
    "sys.path.append(\"/home/jovyan/P1-Temp-Reg/nns_based_approach\")\n",
    "from utilities.dataset import ImageDataset\n"
   ]
  },
  {
   "cell_type": "code",
   "execution_count": 10,
   "id": "9401d603-3e5b-4a14-a271-0f21d70282e1",
   "metadata": {},
   "outputs": [
    {
     "ename": "ValueError",
     "evalue": "Number of inputs and labels don't agree. 487 inputs and 488 labels.",
     "output_type": "error",
     "traceback": [
      "\u001b[0;31m---------------------------------------------------------------------------\u001b[0m",
      "\u001b[0;31mValueError\u001b[0m                                Traceback (most recent call last)",
      "Input \u001b[0;32mIn [10]\u001b[0m, in \u001b[0;36m<module>\u001b[0;34m\u001b[0m\n\u001b[1;32m      1\u001b[0m \u001b[38;5;66;03m# Directory of the hdf5 data files\u001b[39;00m\n\u001b[1;32m      2\u001b[0m data_path \u001b[38;5;241m=\u001b[39m \u001b[38;5;124m\"\u001b[39m\u001b[38;5;124m/home/jovyan/data/\u001b[39m\u001b[38;5;124m\"\u001b[39m\n\u001b[0;32m----> 4\u001b[0m \u001b[38;5;28mset\u001b[39m \u001b[38;5;241m=\u001b[39m \u001b[43mImageDataset\u001b[49m\u001b[43m(\u001b[49m\u001b[43minput_data_path\u001b[49m\u001b[38;5;241;43m=\u001b[39;49m\u001b[38;5;124;43mf\u001b[39;49m\u001b[38;5;124;43m\"\u001b[39;49m\u001b[38;5;132;43;01m{\u001b[39;49;00m\u001b[43mdata_path\u001b[49m\u001b[38;5;132;43;01m}\u001b[39;49;00m\u001b[38;5;124;43minput_data/\u001b[39;49m\u001b[38;5;124;43m\"\u001b[39;49m\u001b[43m,\u001b[49m\u001b[43m \u001b[49m\n\u001b[1;32m      5\u001b[0m \u001b[43m                   \u001b[49m\u001b[43mlabel_data_path\u001b[49m\u001b[38;5;241;43m=\u001b[39;49m\u001b[38;5;124;43mf\u001b[39;49m\u001b[38;5;124;43m\"\u001b[39;49m\u001b[38;5;132;43;01m{\u001b[39;49;00m\u001b[43mdata_path\u001b[49m\u001b[38;5;132;43;01m}\u001b[39;49;00m\u001b[38;5;124;43mlabel_data/\u001b[39;49m\u001b[38;5;124;43m\"\u001b[39;49m\u001b[43m)\u001b[49m\n\u001b[1;32m      6\u001b[0m \u001b[38;5;28mprint\u001b[39m(\u001b[38;5;124mf\u001b[39m\u001b[38;5;124m\"\u001b[39m\u001b[38;5;124mLength of dataset: \u001b[39m\u001b[38;5;132;01m{\u001b[39;00m\u001b[38;5;28mlen\u001b[39m(\u001b[38;5;28mset\u001b[39m)\u001b[38;5;132;01m}\u001b[39;00m\u001b[38;5;124m\"\u001b[39m)\n\u001b[1;32m      8\u001b[0m data, label \u001b[38;5;241m=\u001b[39m \u001b[38;5;28mset\u001b[39m[\u001b[38;5;241m100\u001b[39m]\n",
      "File \u001b[0;32m~/P1-Temp-Reg/nns_based_approach/utilities/dataset.py:19\u001b[0m, in \u001b[0;36mImageDataset.__init__\u001b[0;34m(self, input_data_path, label_data_path, transform)\u001b[0m\n\u001b[1;32m     16\u001b[0m label_files \u001b[38;5;241m=\u001b[39m glob(\u001b[38;5;124mf\u001b[39m\u001b[38;5;124m\"\u001b[39m\u001b[38;5;132;01m{\u001b[39;00m\u001b[38;5;28mself\u001b[39m\u001b[38;5;241m.\u001b[39mlabel_dir\u001b[38;5;132;01m}\u001b[39;00m\u001b[38;5;124mimg_*.nii\u001b[39m\u001b[38;5;124m\"\u001b[39m)\n\u001b[1;32m     18\u001b[0m \u001b[38;5;28;01mif\u001b[39;00m \u001b[38;5;129;01mnot\u001b[39;00m \u001b[38;5;28mlen\u001b[39m(input_files) \u001b[38;5;241m==\u001b[39m \u001b[38;5;28mlen\u001b[39m(label_files):\n\u001b[0;32m---> 19\u001b[0m     \u001b[38;5;28;01mraise\u001b[39;00m \u001b[38;5;167;01mValueError\u001b[39;00m(\u001b[38;5;124mf\u001b[39m\u001b[38;5;124m\"\u001b[39m\u001b[38;5;124mNumber of inputs and labels don\u001b[39m\u001b[38;5;124m'\u001b[39m\u001b[38;5;124mt agree. \u001b[39m\u001b[38;5;132;01m{\u001b[39;00m\u001b[38;5;28mlen\u001b[39m(input_files)\u001b[38;5;132;01m}\u001b[39;00m\u001b[38;5;124m inputs and \u001b[39m\u001b[38;5;132;01m{\u001b[39;00m\u001b[38;5;28mlen\u001b[39m(label_files)\u001b[38;5;132;01m}\u001b[39;00m\u001b[38;5;124m labels.\u001b[39m\u001b[38;5;124m\"\u001b[39m)\n\u001b[1;32m     21\u001b[0m \u001b[38;5;28mself\u001b[39m\u001b[38;5;241m.\u001b[39mdata_len \u001b[38;5;241m=\u001b[39m \u001b[38;5;28mlen\u001b[39m(input_files)\n\u001b[1;32m     23\u001b[0m \u001b[38;5;28mself\u001b[39m\u001b[38;5;241m.\u001b[39mtransform \u001b[38;5;241m=\u001b[39m transform\n",
      "\u001b[0;31mValueError\u001b[0m: Number of inputs and labels don't agree. 487 inputs and 488 labels."
     ]
    }
   ],
   "source": [
    "# Directory of the hdf5 data files\n",
    "data_path = \"/home/jovyan/data/\"\n",
    "\n",
    "set = ImageDataset(input_data_path=f\"{data_path}input_data/\", \n",
    "                   label_data_path=f\"{data_path}label_data/\")\n",
    "print(f\"Length of dataset: {len(set)}\")\n",
    "\n",
    "data, label = set[100]"
   ]
  },
  {
   "cell_type": "code",
   "execution_count": 8,
   "id": "97af39db-5dc6-42fb-a2a8-4a969843ad8f",
   "metadata": {},
   "outputs": [
    {
     "name": "stdout",
     "output_type": "stream",
     "text": [
      "<class 'sirf.Gadgetron.AcquisitionData'>\n",
      "<class 'nibabel.nifti1.Nifti1Image'>\n",
      "<sirf.Gadgetron.AcquisitionData object at 0x7f8d705ab880>\n"
     ]
    }
   ],
   "source": [
    "print(type(data))\n",
    "print(type(label))"
   ]
  },
  {
   "cell_type": "code",
   "execution_count": 4,
   "id": "51f65b7e-4997-4950-8d09-8c52abdf7948",
   "metadata": {},
   "outputs": [
    {
     "name": "stdout",
     "output_type": "stream",
     "text": [
      "Training set: 390\n",
      "Validation set: 98\n"
     ]
    }
   ],
   "source": [
    "valid_fraction = 0.2\n",
    "train_set_len = int((1-0.2)*len(set))\n",
    "train_set, valid_set = torch.utils.data.random_split(set, [train_set_len, len(set)-train_set_len])\n",
    "\n",
    "print(f\"Training set: {len(train_set)}\\nValidation set: {len(valid_set)}\")"
   ]
  },
  {
   "cell_type": "code",
   "execution_count": 5,
   "id": "62be56b4-f4db-4e16-b7a7-b84755c0b1f5",
   "metadata": {},
   "outputs": [
    {
     "name": "stdout",
     "output_type": "stream",
     "text": [
      "Started reading acquisitions from /home/jovyan/data/input_data/y_440.h5\n",
      "(<sirf.Gadgetron.AcquisitionData object at 0x7f8c9850ab50>, <nibabel.nifti1.Nifti1Image object at 0x7f8c98514970>)\n",
      "0%..10%..20%..30%..40%..50%..60%..70%..80%..90%..99%..\n",
      "Finished reading acquisitions from /home/jovyan/data/input_data/y_440.h5\n"
     ]
    }
   ],
   "source": []
  },
  {
   "cell_type": "code",
   "execution_count": 6,
   "id": "ffb31eff-a703-4d03-aeb4-391528037aa4",
   "metadata": {},
   "outputs": [
    {
     "ename": "SyntaxError",
     "evalue": "invalid syntax (3428121820.py, line 1)",
     "output_type": "error",
     "traceback": [
      "\u001b[0;36m  Input \u001b[0;32mIn [6]\u001b[0;36m\u001b[0m\n\u001b[0;31m    train_set[0].\u001b[0m\n\u001b[0m                 ^\u001b[0m\n\u001b[0;31mSyntaxError\u001b[0m\u001b[0;31m:\u001b[0m invalid syntax\n"
     ]
    }
   ],
   "source": []
  }
 ],
 "metadata": {
  "kernelspec": {
   "display_name": "Python 3 (ipykernel)",
   "language": "python",
   "name": "python3"
  },
  "language_info": {
   "codemirror_mode": {
    "name": "ipython",
    "version": 3
   },
   "file_extension": ".py",
   "mimetype": "text/x-python",
   "name": "python",
   "nbconvert_exporter": "python",
   "pygments_lexer": "ipython3",
   "version": "3.9.10"
  }
 },
 "nbformat": 4,
 "nbformat_minor": 5
}
