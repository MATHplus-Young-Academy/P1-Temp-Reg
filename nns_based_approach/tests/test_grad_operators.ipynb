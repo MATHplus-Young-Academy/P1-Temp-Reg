{
 "cells": [
  {
   "cell_type": "code",
   "execution_count": 11,
   "id": "96a9f16a-d586-4897-92f4-026432643b01",
   "metadata": {},
   "outputs": [],
   "source": [
    "import torch\n",
    "import sys\n",
    "import numpy as np\n",
    "sys.path.append('../operators/')\n",
    "\n",
    "from grad_operators import GradOperators\n",
    "\n",
    "#stack real and imaginary part\n",
    "x = torch.rand(1,2,160,160,16)\n",
    "\n",
    "dim=3\n",
    "GOps = GradOperators(dim)\n",
    "\n",
    "#apply G to x, then G^H\n",
    "Gx = GOps.apply_G(x)\n",
    "GHGx = GOps.apply_GH(Gx)"
   ]
  },
  {
   "cell_type": "code",
   "execution_count": 12,
   "id": "fcbf75ea-d345-4fcb-a336-6b1a7d4d8a45",
   "metadata": {},
   "outputs": [
    {
     "name": "stdout",
     "output_type": "stream",
     "text": [
      "torch.Size([1, 6, 160, 160, 16])\n",
      "torch.Size([1, 2, 160, 160, 16])\n"
     ]
    }
   ],
   "source": [
    "print(Gx.shape)\n",
    "print(GHGx.shape)"
   ]
  },
  {
   "cell_type": "code",
   "execution_count": 13,
   "id": "82b8fb58-4f10-4492-ae37-a5381a75c635",
   "metadata": {},
   "outputs": [
    {
     "name": "stdout",
     "output_type": "stream",
     "text": [
      "tensor(-131.2009)\n",
      "tensor(-131.2009)\n"
     ]
    }
   ],
   "source": [
    "#check whether G^H is the adjoint of G\n",
    "u = torch.rand(x.shape)\n",
    "v = torch.rand(Gx.shape)\n",
    "\n",
    "Gu = GOps.apply_G(u)\n",
    "GHv = GOps.apply_GH(v)\n",
    "\n",
    "print((Gu * v).sum())\n",
    "print((u * GHv).sum())"
   ]
  },
  {
   "cell_type": "code",
   "execution_count": null,
   "id": "5b0826e5-3311-4079-b0b5-704b742c508a",
   "metadata": {},
   "outputs": [],
   "source": []
  }
 ],
 "metadata": {
  "kernelspec": {
   "display_name": "Python 3 (ipykernel)",
   "language": "python",
   "name": "python3"
  },
  "language_info": {
   "codemirror_mode": {
    "name": "ipython",
    "version": 3
   },
   "file_extension": ".py",
   "mimetype": "text/x-python",
   "name": "python",
   "nbconvert_exporter": "python",
   "pygments_lexer": "ipython3",
   "version": "3.9.10"
  }
 },
 "nbformat": 4,
 "nbformat_minor": 5
}
