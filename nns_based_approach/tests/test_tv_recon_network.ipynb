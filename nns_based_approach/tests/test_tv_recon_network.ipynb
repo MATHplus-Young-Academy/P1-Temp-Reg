{
 "cells": [
  {
   "cell_type": "code",
   "execution_count": 1,
   "id": "a906afc1-f481-4195-9b51-7f6a3b9b96ae",
   "metadata": {},
   "outputs": [],
   "source": [
    "import torch\n",
    "import sys\n",
    "import numpy as np\n",
    "sys.path.append('../tv_recon_network/')\n",
    "sys.path.append('../cnn_blocks/')\n",
    "\n",
    "from tv_recon_network import LearnedTVMapCNN\n",
    "from unet import UNet"
   ]
  },
  {
   "cell_type": "markdown",
   "id": "e77500b0-707a-46a6-8356-8215827ac691",
   "metadata": {},
   "source": [
    "1) define the CNN-block"
   ]
  },
  {
   "cell_type": "code",
   "execution_count": 2,
   "id": "9e642c6c-7a1c-4936-9aa6-62f33d50a168",
   "metadata": {},
   "outputs": [],
   "source": [
    "dim = 3 \n",
    "\n",
    "dim=3 #for 3D data, we use a 3D Unet\n",
    "n_enc_stagse=3\n",
    "n_convs_per_stage=2\n",
    "n_filters=16\n",
    "n_ch_in = 2 \n",
    "n_ch_out = 3 #number of output channels (3 for x-,y- and t-direction)\n",
    "\n",
    "#define the UNet\n",
    "cnn_block = UNet(dim,\n",
    "         n_ch_in=2, \n",
    "         n_ch_out = 2, \n",
    "         n_enc_stages=3, \n",
    "         n_convs_per_stage=2, \n",
    "         n_filters=16)"
   ]
  },
  {
   "cell_type": "markdown",
   "id": "1b8d5375-f962-4e56-9e9d-322f2625f3fc",
   "metadata": {},
   "source": [
    "2) define the TV-reconstruction networ"
   ]
  },
  {
   "cell_type": "code",
   "execution_count": 3,
   "id": "6a66db0e-7d73-4c55-a5d7-851ba38b74b8",
   "metadata": {},
   "outputs": [],
   "source": [
    "#define the reconstruction network\n",
    "#choose beta (can be made trainable or not)\n",
    "beta_reg= 1\n",
    "log_beta_reg = np.log(beta_reg) # will result in exp(log_beta_reg) = beta_reg within the NN\n",
    "\n",
    "#length of the network\n",
    "T=8\n",
    "\n",
    "#the network\n",
    "tv_nn = LearnedTVMapCNN(cnn_block,\n",
    "                        T=T,\n",
    "                        beta_reg=beta_reg)"
   ]
  }
 ],
 "metadata": {
  "kernelspec": {
   "display_name": "Python 3 (ipykernel)",
   "language": "python",
   "name": "python3"
  },
  "language_info": {
   "codemirror_mode": {
    "name": "ipython",
    "version": 3
   },
   "file_extension": ".py",
   "mimetype": "text/x-python",
   "name": "python",
   "nbconvert_exporter": "python",
   "pygments_lexer": "ipython3",
   "version": "3.9.10"
  }
 },
 "nbformat": 4,
 "nbformat_minor": 5
}
