{
 "cells": [
  {
   "cell_type": "code",
   "execution_count": 4,
   "id": "e0cf88cb-f5c5-4ff2-b0f7-c102c488bfea",
   "metadata": {},
   "outputs": [],
   "source": [
    "import torch\n",
    "import sys\n",
    "sys.path.append('../cnn_blocks/')\n",
    "from unet import UNet"
   ]
  },
  {
   "cell_type": "code",
   "execution_count": 8,
   "id": "e951697d-867a-45a5-b765-0ed96d35d8f9",
   "metadata": {},
   "outputs": [],
   "source": [
    "#the dimensionality of the UNet (either 2D or 3D)\n",
    "dim=2\n",
    "n_enc_stagse=3\n",
    "n_convs_per_stage=2\n",
    "n_filters=16\n",
    "n_ch_in=2\n",
    "n_ch_out=6\n",
    "u = UNet(dim,\n",
    "         n_ch_in=2, \n",
    "         n_ch_out = 2, \n",
    "         n_enc_stages=3, \n",
    "         n_convs_per_stage=2, \n",
    "         n_filters=16)"
   ]
  },
  {
   "cell_type": "code",
   "execution_count": 7,
   "id": "cfa6c527-065d-467b-8eec-36e500c59644",
   "metadata": {},
   "outputs": [
    {
     "name": "stdout",
     "output_type": "stream",
     "text": [
      "UNet(\n",
      "  (encoder): Encoder(\n",
      "    (enc_blocks): ModuleList(\n",
      "      (0): ConvBlock(\n",
      "        (conv_block): Sequential(\n",
      "          (0): Conv3d(2, 16, kernel_size=(3, 3, 3), stride=(1, 1, 1), padding=(1, 1, 1))\n",
      "          (1): LeakyReLU(negative_slope=0.01)\n",
      "          (2): Conv3d(16, 16, kernel_size=(3, 3, 3), stride=(1, 1, 1), padding=(1, 1, 1))\n",
      "          (3): LeakyReLU(negative_slope=0.01)\n",
      "        )\n",
      "      )\n",
      "      (1): ConvBlock(\n",
      "        (conv_block): Sequential(\n",
      "          (0): Conv3d(16, 32, kernel_size=(3, 3, 3), stride=(1, 1, 1), padding=(1, 1, 1))\n",
      "          (1): LeakyReLU(negative_slope=0.01)\n",
      "          (2): Conv3d(32, 32, kernel_size=(3, 3, 3), stride=(1, 1, 1), padding=(1, 1, 1))\n",
      "          (3): LeakyReLU(negative_slope=0.01)\n",
      "        )\n",
      "      )\n",
      "      (2): ConvBlock(\n",
      "        (conv_block): Sequential(\n",
      "          (0): Conv3d(32, 64, kernel_size=(3, 3, 3), stride=(1, 1, 1), padding=(1, 1, 1))\n",
      "          (1): LeakyReLU(negative_slope=0.01)\n",
      "          (2): Conv3d(64, 64, kernel_size=(3, 3, 3), stride=(1, 1, 1), padding=(1, 1, 1))\n",
      "          (3): LeakyReLU(negative_slope=0.01)\n",
      "        )\n",
      "      )\n",
      "    )\n",
      "    (pool): MaxPool3d(kernel_size=2, stride=2, padding=0, dilation=1, ceil_mode=False)\n",
      "  )\n",
      "  (decoder): Decoder(\n",
      "    (upconvs): ModuleList(\n",
      "      (0): Conv3d(64, 32, kernel_size=(3, 3, 3), stride=(1, 1, 1), padding=(1, 1, 1))\n",
      "      (1): Conv3d(32, 16, kernel_size=(3, 3, 3), stride=(1, 1, 1), padding=(1, 1, 1))\n",
      "    )\n",
      "    (dec_blocks): ModuleList(\n",
      "      (0): ConvBlock(\n",
      "        (conv_block): Sequential(\n",
      "          (0): Conv3d(64, 32, kernel_size=(3, 3, 3), stride=(1, 1, 1), padding=(1, 1, 1))\n",
      "          (1): LeakyReLU(negative_slope=0.01)\n",
      "          (2): Conv3d(32, 32, kernel_size=(3, 3, 3), stride=(1, 1, 1), padding=(1, 1, 1))\n",
      "          (3): LeakyReLU(negative_slope=0.01)\n",
      "        )\n",
      "      )\n",
      "      (1): ConvBlock(\n",
      "        (conv_block): Sequential(\n",
      "          (0): Conv3d(32, 16, kernel_size=(3, 3, 3), stride=(1, 1, 1), padding=(1, 1, 1))\n",
      "          (1): LeakyReLU(negative_slope=0.01)\n",
      "          (2): Conv3d(16, 16, kernel_size=(3, 3, 3), stride=(1, 1, 1), padding=(1, 1, 1))\n",
      "          (3): LeakyReLU(negative_slope=0.01)\n",
      "        )\n",
      "      )\n",
      "    )\n",
      "  )\n",
      "  (c1x1): Conv3d(16, 2, kernel_size=(1, 1, 1), stride=(1, 1, 1))\n",
      ")\n"
     ]
    }
   ],
   "source": [
    "print(u)"
   ]
  }
 ],
 "metadata": {
  "kernelspec": {
   "display_name": "Python 3 (ipykernel)",
   "language": "python",
   "name": "python3"
  },
  "language_info": {
   "codemirror_mode": {
    "name": "ipython",
    "version": 3
   },
   "file_extension": ".py",
   "mimetype": "text/x-python",
   "name": "python",
   "nbconvert_exporter": "python",
   "pygments_lexer": "ipython3",
   "version": "3.9.10"
  }
 },
 "nbformat": 4,
 "nbformat_minor": 5
}
