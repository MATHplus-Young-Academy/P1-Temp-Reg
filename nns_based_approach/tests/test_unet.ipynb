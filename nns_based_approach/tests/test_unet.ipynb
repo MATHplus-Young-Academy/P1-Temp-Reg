{
 "cells": [
  {
   "cell_type": "code",
   "execution_count": 7,
   "id": "e0cf88cb-f5c5-4ff2-b0f7-c102c488bfea",
   "metadata": {},
   "outputs": [],
   "source": [
    "import torch\n",
    "import sys\n",
    "sys.path.append('../cnn_blocks/')\n",
    "from unet import UNet"
   ]
  },
  {
   "cell_type": "code",
   "execution_count": 8,
   "id": "e951697d-867a-45a5-b765-0ed96d35d8f9",
   "metadata": {},
   "outputs": [],
   "source": [
    "#the dimensionality of the UNet (either 2D or 3D)\n",
    "dim=2\n",
    "n_enc_stagse=3\n",
    "n_convs_per_stage=2\n",
    "n_filters=16\n",
    "n_ch_in=2\n",
    "n_ch_out=3\n",
    "u = UNet(dim,\n",
    "         n_ch_in=2, \n",
    "         n_ch_out = 2, \n",
    "         n_enc_stages=3, \n",
    "         n_convs_per_stage=2, \n",
    "         n_filters=16)"
   ]
  },
  {
   "cell_type": "code",
   "execution_count": 9,
   "id": "cfa6c527-065d-467b-8eec-36e500c59644",
   "metadata": {},
   "outputs": [],
   "source": [
    "#print(u)"
   ]
  },
  {
   "cell_type": "code",
   "execution_count": 10,
   "id": "db031651-61d2-41eb-88f6-617a8c4878a5",
   "metadata": {},
   "outputs": [
    {
     "name": "stdout",
     "output_type": "stream",
     "text": [
      "torch.Size([2, 2, 64, 96])\n"
     ]
    }
   ],
   "source": [
    "#define random input\n",
    "Nx = 64\n",
    "Ny = 96\n",
    "x = torch.rand(2,n_ch_in,Nx,Ny)\n",
    "\n",
    "xcnn = u(x)\n",
    "print(xcnn.shape)"
   ]
  },
  {
   "cell_type": "code",
   "execution_count": null,
   "id": "3cd2b4ac-31b3-4263-856e-a1d220b449d2",
   "metadata": {},
   "outputs": [],
   "source": []
  }
 ],
 "metadata": {
  "kernelspec": {
   "display_name": "Python 3 (ipykernel)",
   "language": "python",
   "name": "python3"
  },
  "language_info": {
   "codemirror_mode": {
    "name": "ipython",
    "version": 3
   },
   "file_extension": ".py",
   "mimetype": "text/x-python",
   "name": "python",
   "nbconvert_exporter": "python",
   "pygments_lexer": "ipython3",
   "version": "3.9.10"
  }
 },
 "nbformat": 4,
 "nbformat_minor": 5
}
