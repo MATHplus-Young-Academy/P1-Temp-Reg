{
 "cells": [
  {
   "cell_type": "code",
   "execution_count": 1,
   "id": "d1bf42d8-6426-49a5-8d6d-ac652869dcd9",
   "metadata": {},
   "outputs": [],
   "source": [
    "from sirf.Gadgetron import AcquisitionData, CoilSensitivityData, AcquisitionModel, ImageData\n",
    "from sirf.Utilities import assert_validity"
   ]
  },
  {
   "cell_type": "code",
   "execution_count": 3,
   "id": "0517c47b-2a01-43a3-885b-ccafe9994bb2",
   "metadata": {},
   "outputs": [
    {
     "name": "stdout",
     "output_type": "stream",
     "text": [
      "Started reading acquisitions from /home/jovyan/InputData/y_4.h5\n",
      "0%..10%..20%..30%..40%..50%..60%..70%..80%..90%..100%..\n",
      "Finished reading acquisitions from /home/jovyan/InputData/y_4.h5\n"
     ]
    }
   ],
   "source": [
    "def get_test_img():\n",
    "\n",
    "    filepath_y = \"/home/jovyan/InputData/y_4.h5\"\n",
    "    y = AcquisitionData(filepath_y)\n",
    "    u = ImageData()\n",
    "    u.from_acquisition_data(y)\n",
    "\n",
    "\n",
    "    csm = CoilSensitivityData()\n",
    "    csm.calculate(y)\n",
    "\n",
    "    A = AcquisitionModel(acqs=y, imgs=u)\n",
    "    A.set_coil_sensitivity_maps(csm)\n",
    "\n",
    "    u_test = A.backward(y)\n",
    "\n",
    "    return u_test"
   ]
  },
  {
   "cell_type": "code",
   "execution_count": 6,
   "id": "a607872d-c7aa-4ce3-9ed0-0ae3ed5c0252",
   "metadata": {},
   "outputs": [],
   "source": [
    "import numpy as np\n",
    "def np_diff(arr: np.array, axis: int):\n",
    "    return np.diff(\n",
    "        arr, \n",
    "        axis=axis, \n",
    "        prepend=np.expand_dims(np.take(arr, 0, axis=axis), axis=axis)\n",
    "    )\n",
    "\n",
    "\n",
    "\n",
    "# class Tv():\n",
    "#     \"\"\"\n",
    "#     Class Tv\n",
    "    \n",
    "#     Finite difference transformation of input image along arbitrary dimensions.\n",
    "#    \"\"\"\n",
    "#     def __init__(self, axis):\n",
    "#         # Check axis\n",
    "#         if type(axis) is not list and type(axis) is not tuple:\n",
    "#            raise KeyError('Axis has to be list or tuple') \n",
    "#         if any(x > 5 for x in axis):\n",
    "#            raise KeyError('Axis has to be <= 5') \n",
    "#         self.axis = axis\n",
    "        \n",
    "        \n",
    "#     def grad(self, u):\n",
    "#         gu = np.zeros(u.shape + (len(self.axis),), dtype=u.dtype)\n",
    "#         for ind, idx in enumerate(self.axis):\n",
    "#             gu[...,ind] = self.grad_axis(u, idx)\n",
    "#         return(gu)\n",
    "        \n",
    "        \n",
    "#     def adj_grad(self, v):\n",
    "#         gv = 0\n",
    "#         for ind, idx in enumerate(self.axis):\n",
    "#             gv += self.adj_grad_axis(v[...,ind], idx)\n",
    "#         return(gv)\n",
    "        \n",
    "        \n",
    "#     def grad_axis(self, u, axis):\n",
    "#         du = np.roll(u, -1, axis=axis) - u\n",
    "#         return(du)\n",
    "            \n",
    "        \n",
    "#     def adj_grad_axis(self, v, axis):\n",
    "#         dv = np.roll(v, 1, axis=axis) - v\n",
    "#         return(dv)\n",
    "\n",
    "class Gradient1D:\n",
    "    \n",
    "    def __init__(self, axis):\n",
    "        self.axis = axis\n",
    "\n",
    "    def forward(self, u ):\n",
    "        assert_validity(u, ImageData)\n",
    "        u = u.fill(np.roll(u.as_array(), -1, axis=self.axis) - u.as_array())\n",
    "        \n",
    "        return u\n",
    "\n",
    "    def backward(self, u ):\n",
    "        assert_validity(u, ImageData)\n",
    "        u = u.fill(np.roll(u.as_array(), 1, axis=self.axis) - u.as_array())\n",
    "        \n",
    "        return u\n",
    "\n",
    "    "
   ]
  },
  {
   "cell_type": "code",
   "execution_count": 8,
   "id": "bfa24c29-9335-46b5-a202-5d93cbbab55d",
   "metadata": {},
   "outputs": [
    {
     "data": {
      "image/png": "[encoded data removed]",
      "text/plain": [
       "<Figure size 432x288 with 3 Axes>"
      ]
     },
     "metadata": {
      "needs_background": "light"
     },
     "output_type": "display_data"
    },
    {
     "data": {
      "text/plain": [
       "True"
      ]
     },
     "execution_count": 8,
     "metadata": {},
     "output_type": "execute_result"
    }
   ],
   "source": [
    "import matplotlib.pyplot as plt\n",
    "def test_Gradient1D(u):\n",
    "#     weights = ImageData()\n",
    "# weights.from_acquisition_data(y)\n",
    "# weights.fill(1.0)\n",
    "\n",
    "    Gx = Gradient1D(axis=0)\n",
    "    Gy = Gradient1D(axis=1)\n",
    "\n",
    "    dxu = Gx.forward(u)\n",
    "    dyu = Gy.forward(u)\n",
    "\n",
    "    f,ax = plt.subplots(1,3)\n",
    "    ax[0].imshow( np.abs(u.as_array()[0,:,:]),cmap='gray' ) \n",
    "    ax[1].imshow( np.abs(dxu.as_array()[0,:,:]),cmap='gray' ) \n",
    "    ax[2].imshow( np.abs(dyu.as_array()[0,:,:]),cmap='gray' )\n",
    "    plt.show()\n",
    "    \n",
    "    return True\n",
    "\n",
    "test_Gradient1D(u_test)"
   ]
  },
  {
   "cell_type": "code",
   "execution_count": null,
   "id": "50e1e9f0-1f98-4c5a-9027-7748ba9a7e7a",
   "metadata": {},
   "outputs": [],
   "source": []
  }
 ],
 "metadata": {
  "kernelspec": {
   "display_name": "Python 3 (ipykernel)",
   "language": "python",
   "name": "python3"
  },
  "language_info": {
   "codemirror_mode": {
    "name": "ipython",
    "version": 3
   },
   "file_extension": ".py",
   "mimetype": "text/x-python",
   "name": "python",
   "nbconvert_exporter": "python",
   "pygments_lexer": "ipython3",
   "version": "3.9.10"
  }
 },
 "nbformat": 4,
 "nbformat_minor": 5
}
