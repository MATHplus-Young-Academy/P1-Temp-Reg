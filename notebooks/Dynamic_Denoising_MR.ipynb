{
 "cells": [
  {
   "cell_type": "code",
   "execution_count": 1,
   "id": "870439ff-75b3-4f41-ac06-dcf1bdc54a71",
   "metadata": {},
   "outputs": [],
   "source": [
    "# First version: 18th of March 2022\n",
    "# Author: Evangelos Papoutsellis\n",
    "# Copyright 2022 Science and Techonology Facilities Council\n",
    "\n",
    "# This software was developed during the Math+ “Maths meets Image” hackathon 2022.\n",
    "\n",
    "# Licensed under the Apache License, Version 2.0 (the \"License\"); you may not use this file except in compliance\n",
    "# with the License. You may obtain a copy of the License at http://www.apache.org/licenses/LICENSE-2.0 Unless\n",
    "# required by applicable law or agreed to in writing, software distributed under the License is distributed on an\n",
    "# \"AS IS\" BASIS, WITHOUT WARRANTIES OR CONDITIONS OF ANY KIND, either express or implied. See the License\n",
    "# for the specific language governing permissions and limitations under the License.\n",
    "\n",
    "\n",
    "from cil.utilities.noise import gaussian\n",
    "from cil.utilities.display import show2D\n",
    "from cil.optimisation.operators import FiniteDifferenceOperator, GradientOperator, BlockOperator\n",
    "from cil.optimisation.functions import L1Norm, MixedL21Norm, L2NormSquared, BlockFunction\n",
    "from cil.optimisation.algorithms import PDHG\n",
    "from cil.utilities.jupyter import islicer\n",
    "from cil.framework import ImageGeometry\n",
    "\n",
    "import nibabel as nib\n",
    "import os\n",
    "import numpy as np\n"
   ]
  },
  {
   "cell_type": "markdown",
   "id": "25e77101-0547-435a-ba6e-4e20b4423c5f",
   "metadata": {},
   "source": [
    "# Dynamic denoising with isotropic-spatial TV coupled anisotropic with temporal TV\n",
    "\n",
    "$$ \\underset{u}{\\mathrm{argmin}} \\big\\{\\frac{1}{2}\\| u - g \\|^{2} + \\alpha\\|\\partial_{t} u\\|_{1} + \\beta\\|\\nabla u\\|_{2} \\big\\}$$\n",
    "\n",
    "\n",
    "$$ \\underset{u}{\\mathrm{argmin}} \\mathcal{F}(Ku) + \\mathcal{G}(u)$$\n",
    "\n",
    "\n",
    "### Algorithm used :  Primal-Dual Hybrid algorithm"
   ]
  },
  {
   "cell_type": "code",
   "execution_count": 2,
   "id": "ccab6e5c-d1ff-4cd5-bfb0-da3c33848f10",
   "metadata": {},
   "outputs": [],
   "source": [
    "def plot_2d_image(idx,vol,title,clims=None,cmap=\"viridis\"):\n",
    "    \"\"\"Customized version of subplot to plot 2D image\"\"\"\n",
    "    plt.subplot(*idx)\n",
    "    plt.imshow(vol,cmap=cmap)\n",
    "    if not clims is None:\n",
    "        plt.clim(clims)\n",
    "    plt.colorbar()\n",
    "    plt.title(title)\n",
    "    plt.axis(\"off\")\n",
    "\n",
    "\n",
    "def crop_and_fill(templ_im, vol):\n",
    "    \"\"\"Crop volumetric image data and replace image content in template image object\"\"\"\n",
    "    # Get size of template image and crop\n",
    "    idim_orig = templ_im.as_array().shape\n",
    "    idim = (1,)*(3-len(idim_orig)) + idim_orig\n",
    "    offset = (numpy.array(vol.shape) - numpy.array(idim)) // 2\n",
    "    vol = vol[offset[0]:offset[0]+idim[0], offset[1]:offset[1]+idim[1], offset[2]:offset[2]+idim[2]]\n",
    "    \n",
    "    # Make a copy of the template to ensure we do not overwrite it\n",
    "    templ_im_out = templ_im.copy()\n",
    "    \n",
    "    # Fill image content \n",
    "    templ_im_out.fill(numpy.reshape(vol, idim_orig))\n",
    "    return(templ_im_out)"
   ]
  },
  {
   "cell_type": "code",
   "execution_count": 3,
   "id": "0fed4d99-c824-48aa-b8b3-37a6a1a3bd06",
   "metadata": {},
   "outputs": [],
   "source": [
    "\n",
    "data_path = '/mnt/materials/SIRF/MathPlusBerlin/DATA/ACDC-Daten/NOR/patient071/'\n",
    "example_ni1 = os.path.join(data_path, 'image.nii.gz')\n",
    "n1_img = nib.load(example_ni1).get_fdata() #get a numpy\n"
   ]
  },
  {
   "cell_type": "code",
   "execution_count": 4,
   "id": "12836c0d-ed7f-41be-bdcf-249eab6d2f07",
   "metadata": {},
   "outputs": [
    {
     "name": "stdout",
     "output_type": "stream",
     "text": [
      " Shape is (192, 256, 30)\n"
     ]
    }
   ],
   "source": [
    "dynamic_img = n1_img[:,:,5,0,:,0] # what are the last 3 slices???\n",
    "print(\" Shape is {}\".format(dynamic_img.shape))"
   ]
  },
  {
   "cell_type": "markdown",
   "id": "05464d0c-f898-47a0-b270-5926e6a038da",
   "metadata": {},
   "source": [
    "### Make a cil object, Add gaussian noise"
   ]
  },
  {
   "cell_type": "code",
   "execution_count": 5,
   "id": "60f8b18e-a907-43bb-9a72-129e12f637bb",
   "metadata": {},
   "outputs": [],
   "source": [
    "\n",
    "ig = ImageGeometry(voxel_num_x = dynamic_img.shape[1], \n",
    "                   voxel_num_y = dynamic_img.shape[0], \n",
    "                   channels = 30)\n",
    "tmp_data = ig.allocate()\n",
    "tmp_data.fill(np.moveaxis(dynamic_img, 2, 0)) # change order of axis\n",
    "tmp_data_res = tmp_data/tmp_data.max() \n",
    "noisy_data = gaussian(tmp_data_res, seed=10, var = 0.001) # add noise gaussian"
   ]
  },
  {
   "cell_type": "code",
   "execution_count": 6,
   "id": "8f53c2fc-e104-4660-92d9-47c97ad386e3",
   "metadata": {},
   "outputs": [
    {
     "data": {
      "application/vnd.jupyter.widget-view+json": {
       "model_id": "31549b86135e4e25b6bfb266909f5d6d",
       "version_major": 2,
       "version_minor": 0
      },
      "text/plain": [
       "interactive(children=(IntSlider(value=15, continuous_update=False, description='X', max=29), FloatRangeSlider(…"
      ]
     },
     "metadata": {},
     "output_type": "display_data"
    },
    {
     "data": {
      "application/vnd.jupyter.widget-view+json": {
       "model_id": "87ef11942980420095c6bee7be181fac",
       "version_major": 2,
       "version_minor": 0
      },
      "text/plain": [
       "IntSlider(value=15, continuous_update=False, description='X', max=29)"
      ]
     },
     "metadata": {},
     "output_type": "display_data"
    }
   ],
   "source": [
    "islicer(tmp_data.array, direction=0)"
   ]
  },
  {
   "cell_type": "code",
   "execution_count": 7,
   "id": "bc9794ce-055f-4b03-84d0-a2e6f3aed0da",
   "metadata": {},
   "outputs": [
    {
     "data": {
      "text/plain": [
       "\u001b[0;31mSignature:\u001b[0m \u001b[0mL1Norm\u001b[0m\u001b[0;34m.\u001b[0m\u001b[0mconvex_conjugate\u001b[0m\u001b[0;34m(\u001b[0m\u001b[0mself\u001b[0m\u001b[0;34m,\u001b[0m \u001b[0mx\u001b[0m\u001b[0;34m)\u001b[0m\u001b[0;34m\u001b[0m\u001b[0;34m\u001b[0m\u001b[0m\n",
       "\u001b[0;31mDocstring:\u001b[0m\n",
       "Returns the value of the convex conjugate of the L1Norm function at x.\n",
       "Here, we need to use the convex conjugate of L1Norm, which is the Indicator of the unit \n",
       ":math:`L^{\\infty}` norm\n",
       "\n",
       "Consider the following cases:\n",
       "        \n",
       "        a) .. math:: F^{*}(x^{*}) = \\mathbb{I}_{\\{\\|\\cdot\\|_{\\infty}\\leq1\\}}(x^{*}) \n",
       "        b) .. math:: F^{*}(x^{*}) = \\mathbb{I}_{\\{\\|\\cdot\\|_{\\infty}\\leq1\\}}(x^{*}) + <x^{*},b>      \n",
       "\n",
       "\n",
       ".. math:: \\mathbb{I}_{\\{\\|\\cdot\\|_{\\infty}\\leq1\\}}(x^{*}) \n",
       "    = \\begin{cases} \n",
       "    0, \\mbox{if } \\|x^{*}\\|_{\\infty}\\leq1\\\\\n",
       "    \\infty, \\mbox{otherwise}\n",
       "    \\end{cases}\n",
       "\u001b[0;31mSource:\u001b[0m   \n",
       "    \u001b[0;32mdef\u001b[0m \u001b[0mconvex_conjugate\u001b[0m\u001b[0;34m(\u001b[0m\u001b[0mself\u001b[0m\u001b[0;34m,\u001b[0m\u001b[0mx\u001b[0m\u001b[0;34m)\u001b[0m\u001b[0;34m:\u001b[0m\u001b[0;34m\u001b[0m\n",
       "\u001b[0;34m\u001b[0m        \u001b[0;34m\u001b[0m\n",
       "\u001b[0;34m\u001b[0m        \u001b[0;34mr\"\"\"Returns the value of the convex conjugate of the L1Norm function at x.\u001b[0m\n",
       "\u001b[0;34m        Here, we need to use the convex conjugate of L1Norm, which is the Indicator of the unit \u001b[0m\n",
       "\u001b[0;34m        :math:`L^{\\infty}` norm\u001b[0m\n",
       "\u001b[0;34m        \u001b[0m\n",
       "\u001b[0;34m        Consider the following cases:\u001b[0m\n",
       "\u001b[0;34m                \u001b[0m\n",
       "\u001b[0;34m                a) .. math:: F^{*}(x^{*}) = \\mathbb{I}_{\\{\\|\\cdot\\|_{\\infty}\\leq1\\}}(x^{*}) \u001b[0m\n",
       "\u001b[0;34m                b) .. math:: F^{*}(x^{*}) = \\mathbb{I}_{\\{\\|\\cdot\\|_{\\infty}\\leq1\\}}(x^{*}) + <x^{*},b>      \u001b[0m\n",
       "\u001b[0;34m        \u001b[0m\n",
       "\u001b[0;34m    \u001b[0m\n",
       "\u001b[0;34m        .. math:: \\mathbb{I}_{\\{\\|\\cdot\\|_{\\infty}\\leq1\\}}(x^{*}) \u001b[0m\n",
       "\u001b[0;34m            = \\begin{cases} \u001b[0m\n",
       "\u001b[0;34m            0, \\mbox{if } \\|x^{*}\\|_{\\infty}\\leq1\\\\\u001b[0m\n",
       "\u001b[0;34m            \\infty, \\mbox{otherwise}\u001b[0m\n",
       "\u001b[0;34m            \\end{cases}\u001b[0m\n",
       "\u001b[0;34m    \u001b[0m\n",
       "\u001b[0;34m        \"\"\"\u001b[0m        \u001b[0;34m\u001b[0m\n",
       "\u001b[0;34m\u001b[0m        \u001b[0;34m\u001b[0m\n",
       "\u001b[0;34m\u001b[0m        \u001b[0mtmp\u001b[0m \u001b[0;34m=\u001b[0m \u001b[0mx\u001b[0m\u001b[0;34m.\u001b[0m\u001b[0mabs\u001b[0m\u001b[0;34m(\u001b[0m\u001b[0;34m)\u001b[0m\u001b[0;34m.\u001b[0m\u001b[0mmax\u001b[0m\u001b[0;34m(\u001b[0m\u001b[0;34m)\u001b[0m \u001b[0;34m-\u001b[0m \u001b[0;36m1\u001b[0m\u001b[0;34m\u001b[0m\n",
       "\u001b[0;34m\u001b[0m        \u001b[0;32mif\u001b[0m \u001b[0mtmp\u001b[0m\u001b[0;34m<=\u001b[0m\u001b[0;36m1e-5\u001b[0m\u001b[0;34m:\u001b[0m            \u001b[0;34m\u001b[0m\n",
       "\u001b[0;34m\u001b[0m            \u001b[0;32mif\u001b[0m \u001b[0mself\u001b[0m\u001b[0;34m.\u001b[0m\u001b[0mb\u001b[0m \u001b[0;32mis\u001b[0m \u001b[0;32mnot\u001b[0m \u001b[0;32mNone\u001b[0m\u001b[0;34m:\u001b[0m\u001b[0;34m\u001b[0m\n",
       "\u001b[0;34m\u001b[0m                \u001b[0;32mreturn\u001b[0m \u001b[0mself\u001b[0m\u001b[0;34m.\u001b[0m\u001b[0mb\u001b[0m\u001b[0;34m.\u001b[0m\u001b[0mdot\u001b[0m\u001b[0;34m(\u001b[0m\u001b[0mx\u001b[0m\u001b[0;34m)\u001b[0m\u001b[0;34m\u001b[0m\n",
       "\u001b[0;34m\u001b[0m            \u001b[0;32melse\u001b[0m\u001b[0;34m:\u001b[0m\u001b[0;34m\u001b[0m\n",
       "\u001b[0;34m\u001b[0m                \u001b[0;32mreturn\u001b[0m \u001b[0;36m0.\u001b[0m\u001b[0;34m\u001b[0m\n",
       "\u001b[0;34m\u001b[0m        \u001b[0;32mreturn\u001b[0m \u001b[0mnp\u001b[0m\u001b[0;34m.\u001b[0m\u001b[0minf\u001b[0m\u001b[0;34m\u001b[0m\u001b[0;34m\u001b[0m\u001b[0m\n",
       "\u001b[0;31mFile:\u001b[0m      /opt/SIRF-SuperBuild/INSTALL/python/cil/optimisation/functions/L1Norm.py\n",
       "\u001b[0;31mType:\u001b[0m      function\n"
      ]
     },
     "metadata": {},
     "output_type": "display_data"
    }
   ],
   "source": [
    "L1Norm.convex_conjugate??"
   ]
  },
  {
   "cell_type": "code",
   "execution_count": 12,
   "id": "0524f002-9417-499b-ad4f-a2b6991e3efc",
   "metadata": {},
   "outputs": [
    {
     "name": "stdout",
     "output_type": "stream",
     "text": [
      "Initialised GradientOperator with numpy backend\n",
      " Range of Dt = (30, 192, 256)\n",
      " Range of Grad = (2, 1)\n"
     ]
    }
   ],
   "source": [
    "alpha = 0.001\n",
    "beta = 0.1\n",
    "Dt = FiniteDifferenceOperator(ig, direction=0) # time is first\n",
    "Grad = GradientOperator(ig, correlation=\"Space\")\n",
    "\n",
    "print(\" Range of Dt = {}\".format(Dt.range.shape))\n",
    "print(\" Range of Grad = {}\".format(Grad.range.shape))\n",
    "\n",
    "f1 = alpha * L1Norm()\n",
    "f2 = beta * MixedL21Norm()\n",
    "\n",
    "# return 0 for the Indicator function, avoid inf\n",
    "from cil.framework import BlockDataContainer\n",
    "def convex_conjugate_l21(x):\n",
    "\n",
    "    if not isinstance(x, BlockDataContainer):\n",
    "        raise ValueError('__call__ expected BlockDataContainer, got {}'.format(type(x))) \n",
    "\n",
    "    return 0.\n",
    "    \n",
    "def convex_conjugate_l1(x):\n",
    "\n",
    "     return 0.\n",
    "\n",
    "f1.convex_conjugate = convex_conjugate_l1\n",
    "f2.convex_conjugate = convex_conjugate_l21\n",
    "\n",
    "\n",
    "K = BlockOperator(Dt, Grad)\n",
    "F = BlockFunction(f1, f2)\n",
    "G = L2NormSquared(b = noisy_data)"
   ]
  },
  {
   "cell_type": "code",
   "execution_count": 13,
   "id": "be83f640-c5d5-4308-9963-e3be2c2f7d1c",
   "metadata": {},
   "outputs": [
    {
     "name": "stdout",
     "output_type": "stream",
     "text": [
      "PDHG setting up\n",
      "PDHG configured\n",
      "     Iter   Max Iter     Time/Iter        Primal          Dual     Primal-Dual\n",
      "                               [s]     Objective     Objective             Gap\n",
      "        0        100         0.000    2.03755e+04  -0.00000e+00    2.03755e+04\n"
     ]
    },
    {
     "name": "stderr",
     "output_type": "stream",
     "text": [
      "/opt/SIRF-SuperBuild/INSTALL/python/cil/framework/framework.py:2381: RuntimeWarning: invalid value encountered in true_divide\n",
      "  pwop(self.as_array(), x2.as_array(), *args, **kwargs )\n"
     ]
    },
    {
     "name": "stdout",
     "output_type": "stream",
     "text": [
      "       10        100         0.127    2.90766e+03   2.43577e+03    4.71891e+02\n",
      "       20        100         0.118    2.75287e+03   2.53324e+03    2.19629e+02\n",
      "       30        100         0.115    2.70975e+03   2.56602e+03    1.43736e+02\n",
      "       40        100         0.114    2.68928e+03   2.58287e+03    1.06407e+02\n",
      "       50        100         0.108    2.67708e+03   2.59316e+03    8.39197e+01\n",
      "       60        100         0.103    2.66890e+03   2.60004e+03    6.88533e+01\n",
      "       70        100         0.099    2.66302e+03   2.60495e+03    5.80795e+01\n",
      "       80        100         0.096    2.65861e+03   2.60859e+03    5.00249e+01\n",
      "       90        100         0.094    2.65519e+03   2.61139e+03    4.38028e+01\n",
      "      100        100         0.093    2.65247e+03   2.61361e+03    3.88642e+01\n",
      "----------------------------------------------------------------------------\n",
      "      100        100         0.093    2.65247e+03   2.61361e+03    3.88642e+01\n",
      "Stop criterion has been reached.\n",
      "\n"
     ]
    }
   ],
   "source": [
    "pdhg = PDHG(f=F, g=G, operator=K, max_iteration=100, \n",
    "            update_objective_interval=10, check_convergence=False)\n",
    "pdhg.run(verbose=2)"
   ]
  },
  {
   "cell_type": "code",
   "execution_count": null,
   "id": "357c0681-8673-4d5e-a74d-320335b9ddd0",
   "metadata": {},
   "outputs": [],
   "source": [
    "sol = pdhg.solution\n",
    "islicer(sol, direction=0)"
   ]
  },
  {
   "cell_type": "markdown",
   "id": "689cd66b-a4e1-4d69-9c76-1b900b13f429",
   "metadata": {},
   "source": [
    "# Dynamic denoising with anisotropic spatiotemporal TV, i.e. uncouple all dims.\n",
    "\n",
    "$$ \\underset{u}{\\mathrm{argmin}} \\big\\{\\| u - g \\|^{2} + \\alpha ( \\|\\partial_{t} u\\|_{1} + \\|\\partial_{y} u\\|_{1} + \\|\\partial_{x} u\\|_{1})$$\n"
   ]
  },
  {
   "cell_type": "code",
   "execution_count": null,
   "id": "1e13adc6-59cd-435d-a755-56efc416d206",
   "metadata": {},
   "outputs": [],
   "source": [
    "Dt = FiniteDifferenceOperator(ig, direction=0) \n",
    "Dy = FiniteDifferenceOperator(ig, direction=1) \n",
    "Dx = FiniteDifferenceOperator(ig, direction=2) \n",
    "K = BlockOperator(Dt, Dy, Dx)\n",
    "\n",
    "# avoid inf values, dual objective\n",
    "def convex_conjugate(self,x):\n",
    "\n",
    "    tmp = x.abs().max()\n",
    "    if tmp<=1.+1e-4:            \n",
    "        if self.b is not None:\n",
    "            return self.b.dot(x)\n",
    "        else:\n",
    "            return 0.\n",
    "    return np.inf\n",
    "\n",
    "L1Norm.convex_conjugate = convex_conjugate\n",
    "f1 = L1Norm()\n",
    "f2 = L1Norm()\n",
    "f3 = L1Norm()\n",
    "\n",
    "alpha = 0.5\n",
    "F = alpha * BlockFunction(f1, f2, f3)\n",
    "G = L2NormSquared(b=noisy_data)\n",
    "\n",
    "pdhg_uncouple = PDHG(f=F, g=G, operator=K, max_iteration=100, \n",
    "            update_objective_interval=10, check_convergence=False)\n",
    "pdhg_uncouple.run(verbose=2)\n",
    "\n",
    "\n"
   ]
  },
  {
   "cell_type": "code",
   "execution_count": null,
   "id": "2910485a-fa3d-4800-ab40-1b3697237620",
   "metadata": {},
   "outputs": [],
   "source": [
    "sol = pdhg_uncouple.solution\n",
    "islicer(sol, direction=0)"
   ]
  },
  {
   "cell_type": "code",
   "execution_count": null,
   "id": "68f5096e-0361-4f19-9992-7bbb98c88ca3",
   "metadata": {},
   "outputs": [],
   "source": []
  }
 ],
 "metadata": {
  "kernelspec": {
   "display_name": "Python 3 (ipykernel)",
   "language": "python",
   "name": "python3"
  },
  "language_info": {
   "codemirror_mode": {
    "name": "ipython",
    "version": 3
   },
   "file_extension": ".py",
   "mimetype": "text/x-python",
   "name": "python",
   "nbconvert_exporter": "python",
   "pygments_lexer": "ipython3",
   "version": "3.9.10"
  }
 },
 "nbformat": 4,
 "nbformat_minor": 5
}
