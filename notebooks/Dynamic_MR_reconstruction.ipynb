{
 "cells": [
  {
   "cell_type": "code",
   "execution_count": 1,
   "id": "321be7b7-e88f-40f2-a3e4-9a39a26e71b1",
   "metadata": {},
   "outputs": [],
   "source": [
    "# First version: 18th of March 2022\n",
    "# Author: Evangelos Papoutsellis\n",
    "# Copyright 2022 Science and Techonology Facilities Council\n",
    "\n",
    "# This software was developed during the Math+ “Maths meets Image” hackathon 2022.\n",
    "\n",
    "# Licensed under the Apache License, Version 2.0 (the \"License\"); you may not use this file except in compliance\n",
    "# with the License. You may obtain a copy of the License at http://www.apache.org/licenses/LICENSE-2.0 Unless\n",
    "# required by applicable law or agreed to in writing, software distributed under the License is distributed on an\n",
    "# \"AS IS\" BASIS, WITHOUT WARRANTIES OR CONDITIONS OF ANY KIND, either express or implied. See the License\n",
    "# for the specific language governing permissions and limitations under the License.\n",
    "\n",
    "\n",
    "from cil.optimisation.algorithms import PDHG\n",
    "import sirf.Gadgetron as mr\n",
    "from cil.optimisation.functions import L2NormSquared, BlockFunction, L1Norm, ZeroFunction\n",
    "from cil.plugins.ccpi_regularisation.functions import FGP_TV\n",
    "from cil.optimisation.operators import FiniteDifferenceOperator, BlockOperator\n",
    "from cil.utilities.jupyter import islicer"
   ]
  },
  {
   "cell_type": "markdown",
   "id": "c686e61a-bd5d-4f4c-9b46-9e59f283fdc9",
   "metadata": {},
   "source": [
    "The `.abs` method in SIRF creates some problems so we need to overwrite some methods where this method is used. \n"
   ]
  },
  {
   "cell_type": "code",
   "execution_count": 2,
   "id": "72feb404-ed94-4326-90f6-8d719987e45e",
   "metadata": {},
   "outputs": [],
   "source": [
    "#################\n",
    "# overwrite because the abs method of SIRF does not work well\n",
    "# return complex\n",
    "def new_call_l1(self, x):\n",
    "    \n",
    "    tmp = np.abs(x.as_array()).sum()\n",
    "    return tmp\n",
    "L1Norm.__call__ = new_call_l1\n",
    "#################\n",
    "\n",
    "\n",
    "# fix convex_conjguate for the L21NormSquared, because we get complex vals using the dot product\n",
    "def convex_conjugate_l2squared(self, x):             \n",
    "    if self.b is not None:        \n",
    "        tmp = (0.25*((np.abs((x + 2*self.b).as_array())**2) - 4.*np.abs(self.b.as_array())**2)).sum()\n",
    "    else:\n",
    "        pass\n",
    "    return tmp\n",
    "L2NormSquared.convex_conjugate = convex_conjugate_l2squared \n",
    "\n",
    "\n",
    "# input has no attribute geometry, this is for SIRF objects and CIL\n",
    "# compatibility\n",
    "def check_input(self, input):\n",
    "    input.geometry = input.shape\n",
    "    if len(input.geometry) > 3:\n",
    "        raise ValueError('{} cannot work on more than 3D. Got {}'.format(self.__class__.__name__, input.geometry.length))\n",
    "FGP_TV.check_input = check_input\n",
    "\n",
    "\n",
    "# abs method for SIRF objects does not have out as kwarg\n",
    "# therefore soft-shrinkage from the L1Norm fails.\n",
    "# fails at the proximal method\n",
    "# create a proximal_conjugate method for L1Norm to overwrite it\n",
    "\n",
    "\n",
    "import numpy as np\n",
    "def new_proximal_conjugate_l1(self,x, tau, out=None):\n",
    "    \n",
    "    if out is not None:\n",
    "        \n",
    "        tmp = x.as_array()\n",
    "        out.fill(tmp/np.maximum(np.abs(tmp), 1.0))\n",
    "L1Norm.proximal_conjugate = new_proximal_conjugate_l1        \n",
    "\n",
    "def new_convex_conjugate(self,x):\n",
    "    # in theory this is the indicator function of the L^{\\infty} norm\n",
    "    # 0 if \\|x\\|_{\\infty}<=1 or infinity\n",
    "    # however this does not hold in practice and we could have infinity values\n",
    "    # it is better to return x.abs().max()-1 expecting to be close to 0 in many iterations\n",
    "    return np.max(np.abs(x.as_array()))-1.0\n",
    "L1Norm.convex_conjugate = new_convex_conjugate \n",
    "\n",
    "\n",
    "# as above, see also here https://github.com/TomographicImaging/CIL/blob/26f863aea98b339cc4f8f53f0d33f61a44742d5c/Wrappers/Python/cil/optimisation/functions/Function.py#L525\n",
    "def convex_conjugate_zero_function(self, x):  \n",
    "    \n",
    "    return np.maximum(x.as_array(),0).sum()\n",
    "\n",
    "ZeroFunction.convex_conjugate = new_convex_conjugate\n",
    "\n",
    "def call_l2squared(self, x):\n",
    "     \n",
    "    return (np.abs((x - self.b).as_array())**2).sum()\n",
    "L2NormSquared.__call__ = call_l2squared\n",
    "\n",
    "    "
   ]
  },
  {
   "cell_type": "code",
   "execution_count": 3,
   "id": "3279700d-0958-4121-b6ae-8145bfdae30e",
   "metadata": {},
   "outputs": [],
   "source": [
    "def plot_2d_image(idx,vol,title,clims=None,cmap=\"viridis\"):\n",
    "    \"\"\"Customized version of subplot to plot 2D image\"\"\"\n",
    "    plt.subplot(*idx)\n",
    "    plt.imshow(vol,cmap=cmap)\n",
    "    if not clims is None:\n",
    "        plt.clim(clims)\n",
    "    plt.colorbar()\n",
    "    plt.title(title)\n",
    "    plt.axis(\"off\")\n",
    "\n",
    "\n",
    "def crop_and_fill(templ_im, vol):\n",
    "    \"\"\"Crop volumetric image data and replace image content in template image object\"\"\"\n",
    "    # Get size of template image and crop\n",
    "    idim_orig = templ_im.as_array().shape\n",
    "    idim = (1,)*(3-len(idim_orig)) + idim_orig\n",
    "    offset = (numpy.array(vol.shape) - numpy.array(idim)) // 2\n",
    "    vol = vol[offset[0]:offset[0]+idim[0], offset[1]:offset[1]+idim[1], offset[2]:offset[2]+idim[2]]\n",
    "    \n",
    "    # Make a copy of the template to ensure we do not overwrite it\n",
    "    templ_im_out = templ_im.copy()\n",
    "    \n",
    "    # Fill image content \n",
    "    templ_im_out.fill(numpy.reshape(vol, idim_orig))\n",
    "    return(templ_im_out)"
   ]
  },
  {
   "cell_type": "code",
   "execution_count": 4,
   "id": "f43fd620-6615-454c-b8fa-53466de14050",
   "metadata": {},
   "outputs": [
    {
     "name": "stdout",
     "output_type": "stream",
     "text": [
      "Started reading acquisitions from johannes_y_4.h5\n",
      "0%..10%..20%..30%..40%..50%..60%..70%..80%..90%..99%..\n",
      "Finished reading acquisitions from johannes_y_4.h5\n"
     ]
    }
   ],
   "source": [
    "# Load MR AcquisitionData\n",
    "# mr_acq = mr.AcquisitionData('../cine_64_32ph.h5')\n",
    "mr_acq = mr.AcquisitionData('johannes_y_4.h5') # undersampled data by Johannes\n",
    "# preprocessed_data = mr.preprocess_acquisition_data(mr_acq)\n",
    "preprocessed_data = mr_acq\n",
    "preprocessed_data.sort()\n"
   ]
  },
  {
   "cell_type": "code",
   "execution_count": 5,
   "id": "e88ae061-c8d1-4c4b-83f5-070ee89b5e35",
   "metadata": {},
   "outputs": [],
   "source": [
    "# Calculate image\n",
    "recon = mr.FullySampledReconstructor()\n",
    "recon.set_input(preprocessed_data)\n",
    "recon.process()\n",
    "im_mr = recon.get_output()"
   ]
  },
  {
   "cell_type": "code",
   "execution_count": 6,
   "id": "3ea1377b-eb64-4bce-bbed-59372100c111",
   "metadata": {},
   "outputs": [],
   "source": [
    "# 4. create AcquisitionModel\n",
    "acq_mod_mr = mr.AcquisitionModel(preprocessed_data, im_mr)\n",
    "csm = mr.CoilSensitivityData()\n",
    "csm.calculate(preprocessed_data)\n",
    "acq_mod_mr.set_coil_sensitivity_maps(csm)"
   ]
  },
  {
   "cell_type": "markdown",
   "id": "95669278-f15e-4507-bd23-abe403017f9a",
   "metadata": {},
   "source": [
    "# Dynamic MR reconstruction with anisotropic spatiotemporal TV, i.e. uncouple all dims.\n",
    "\n",
    "$$ \\underset{u}{\\mathrm{argmin}} \\big\\{\\| Au - g \\|^{2} +  \\|\\lambda_{1} \\partial_{t}  u\\|_{1} + \\|\\lambda_{2} \\partial_{y}   u\\|_{1} +  \\|\\lambda_{3} \\partial_{x}   u\\|_{1}\\}$$\n",
    "\n",
    "\n",
    "$$  \\lambda_{i}, i = 1,\\dots,3 $$ are spatially & temporally dependent."
   ]
  },
  {
   "cell_type": "code",
   "execution_count": 7,
   "id": "1c745766-22ce-4268-b5bf-42fa037e4e71",
   "metadata": {},
   "outputs": [
    {
     "name": "stdout",
     "output_type": "stream",
     "text": [
      "PDHG setting up\n",
      "PDHG configured\n",
      "     Iter   Max Iter     Time/Iter        Primal          Dual     Primal-Dual\n",
      "                               [s]     Objective     Objective             Gap\n",
      "        0        500         0.000    3.39433e+09   1.00000e+00    3.39433e+09\n",
      "       50        500         0.530    1.45283e+11   4.43530e+08    1.44840e+11\n",
      "      100        500         0.530    1.03452e+11   5.51069e+08    1.02901e+11\n",
      "      150        500         0.528    8.76408e+10   6.24080e+08    8.70167e+10\n",
      "      200        500         0.526    7.74824e+10   6.79417e+08    7.68030e+10\n",
      "      250        500         0.523    6.98643e+10   7.24016e+08    6.91403e+10\n",
      "      300        500         0.524    6.38431e+10   7.61144e+08    6.30819e+10\n",
      "      350        500         0.521    5.89126e+10   7.92681e+08    5.81200e+10\n",
      "      400        500         0.520    5.47780e+10   8.19840e+08    5.39582e+10\n",
      "      450        500         0.520    5.12387e+10   8.43471e+08    5.03952e+10\n",
      "      500        500         0.519    4.81492e+10   8.64201e+08    4.72850e+10\n",
      "----------------------------------------------------------------------------\n",
      "      500        500         0.519    4.81492e+10   8.64201e+08    4.72850e+10\n",
      "Stop criterion has been reached.\n",
      "\n"
     ]
    }
   ],
   "source": [
    "### Let's try with spatially dependent lambdas, need to remove the geometry attirbutes in\n",
    "### in the diagonal operator\n",
    "\n",
    "from cil.optimisation.functions import Function\n",
    "import numbers\n",
    "# weighted L1 Norm for the lambdas\n",
    "class WeightedL1Norm(Function):\n",
    "\n",
    "    def __init__(self, weight):\n",
    "        super(WeightedL1Norm, self).__init__()\n",
    "        self.weight = weight\n",
    "    \n",
    "    def __call__(self,x):\n",
    "        \n",
    "        if isinstance(self.weight, numbers.Number):\n",
    "            return (self.weight * np.abs(x.as_array())).sum()\n",
    "        else:\n",
    "            return (self.weight.as_array() * np.abs(x.as_array())).sum()\n",
    "        return tmp\n",
    "            \n",
    "    def convex_conjugate(self, x):\n",
    "        return 0.\n",
    "\n",
    "    def proximal_conjugate(self, x, tau, out=None):\n",
    "        \n",
    "        if isinstance(self.weight, numbers.Number):\n",
    "            tmp_weight = self.weight\n",
    "        else:\n",
    "            tmp_weight = self.weight.as_array()\n",
    "        \n",
    "        tmp = x.as_array()\n",
    "        tmp1 = np.maximum(np.abs(tmp/tmp_weight), 1.0)        \n",
    "        out.fill(tmp/tmp1)\n",
    "                \n",
    "    \n",
    "lambda1 = 1e5#im_mr.allocate(10)  # for time but arrays\n",
    "lambda2 = 1e5#im_mr.allocate(1e5)  # for spatial y\n",
    "lambda3 = 1e5#im_mr.allocate(1e5)  # for spatial x\n",
    "\n",
    "F = L2NormSquared(b=mr_acq)\n",
    "\n",
    "Dt = FiniteDifferenceOperator(im_mr, direction=0)\n",
    "Dy = FiniteDifferenceOperator(im_mr, direction=1)\n",
    "Dx = FiniteDifferenceOperator(im_mr, direction=2)\n",
    "\n",
    "K = BlockOperator(acq_mod_mr, Dt, Dy, Dx)\n",
    "F = BlockFunction(L2NormSquared(b=mr_acq), WeightedL1Norm(lambda1), WeightedL1Norm(lambda2), WeightedL1Norm(lambda3))\n",
    "G = ZeroFunction()\n",
    "\n",
    "normK = 3.15090734179149 #K.norm() \n",
    "sigma = 1./normK\n",
    "tau = 1./normK\n",
    "\n",
    "pdhg_implicit_weights_spatiotemporal = PDHG(f = F, g = G, operator = K, \n",
    "            max_iteration = 500, sigma=sigma, tau=tau,\n",
    "            update_objective_interval = 50, check_convergence=False)\n",
    "pdhg_implicit_weights_spatiotemporal.run(verbose=2) # verbose to 0 do reduce computation time and avoid computing primal/dual objective\n",
    "                             # verbose to 1, computes only primal objective.\n",
    "\n"
   ]
  },
  {
   "cell_type": "code",
   "execution_count": 10,
   "id": "5e919e8f-526a-4c72-8e7b-33612d9bb1c2",
   "metadata": {},
   "outputs": [
    {
     "data": {
      "application/vnd.jupyter.widget-view+json": {
       "model_id": "8aa9ff8aab1e411e8c8ebbfd92d2db91",
       "version_major": 2,
       "version_minor": 0
      },
      "text/plain": [
       "interactive(children=(IntSlider(value=6, continuous_update=False, description='X', max=11), FloatRangeSlider(v…"
      ]
     },
     "metadata": {},
     "output_type": "display_data"
    },
    {
     "data": {
      "image/png": "[encoded data removed]",
      "text/plain": [
       "<Figure size 432x288 with 1 Axes>"
      ]
     },
     "metadata": {
      "needs_background": "light"
     },
     "output_type": "display_data"
    },
    {
     "name": "stdout",
     "output_type": "stream",
     "text": [
      "For large lambdas we expect to have a solution close to the mean value 105.66776529947917 \n"
     ]
    }
   ],
   "source": [
    "sol = pdhg_implicit_weights_spatiotemporal.solution.abs()\n",
    "islicer(sol, direction=0)\n",
    "\n",
    "import nibabel as nib\n",
    "gtruth = nib.load('../../johannes_img_4.nii').get_fdata() #get a numpy\n",
    "\n",
    "import matplotlib.pyplot as plt\n",
    "plt.figure()\n",
    "plt.plot(gtruth[10,50,:], label=\"truth\")\n",
    "plt.plot(sol.as_array()[10,50,:], label=\"Spatiotemporal weights\")\n",
    "plt.legend()\n",
    "plt.show()\n",
    "\n",
    "print(\"For large lambdas we expect to have a solution close to the mean value {} \".format(np.mean(gtruth)))"
   ]
  },
  {
   "cell_type": "markdown",
   "id": "f28c8329-187b-4f8a-b57f-4b8429e72940",
   "metadata": {},
   "source": [
    "### misc code"
   ]
  },
  {
   "cell_type": "code",
   "execution_count": 11,
   "id": "1ee99590-09c8-4ca8-8a58-0dff22155834",
   "metadata": {},
   "outputs": [],
   "source": [
    "# F = L2NormSquared(b=mr_acq)\n",
    "\n",
    "# lambda1 = 10. # for time\n",
    "# lambda2 = 1e5 # for spatial y\n",
    "# lambda3 = 1e5 # for spatial x\n",
    "\n",
    "\n",
    "# Dt = lambda1*FiniteDifferenceOperator(im_mr, direction=0)\n",
    "# Dy = lambda2*FiniteDifferenceOperator(im_mr, direction=1)\n",
    "# Dx = lambda3*FiniteDifferenceOperator(im_mr, direction=2)\n",
    "\n",
    "# K = BlockOperator(acq_mod_mr, Dt, Dy, Dx)\n",
    "# F = BlockFunction(L2NormSquared(b=mr_acq), L1Norm(), L1Norm(), L1Norm())\n",
    "# G = ZeroFunction()\n",
    "\n",
    "# normK = K.norm() # norm depends on the weights\n",
    "# sigma = 1./normK\n",
    "# tau = 1./normK\n",
    "\n",
    "# pdhg_implicit_different_weights= PDHG(f = F, g = G, operator = K, \n",
    "#             max_iteration = 100, sigma=sigma, tau=tau,\n",
    "#             update_objective_interval = 10, check_convergence=False)\n",
    "# pdhg_implicit_different_weights.run(verbose=2) # verbose to 0 do reduce computation time and avoid computing primal/dual objective\n",
    "#                              # verbose to 1, computes only primal objective.\n",
    "\n",
    "# sol = np.abs(pdhg_implicit_different_weights.solution.as_array())\n",
    "# islicer(sol, direction=0)\n"
   ]
  },
  {
   "cell_type": "code",
   "execution_count": null,
   "id": "7b6f5005-945e-4877-89c2-7cf75cda6fc8",
   "metadata": {},
   "outputs": [],
   "source": []
  }
 ],
 "metadata": {
  "kernelspec": {
   "display_name": "Python 3 (ipykernel)",
   "language": "python",
   "name": "python3"
  },
  "language_info": {
   "codemirror_mode": {
    "name": "ipython",
    "version": 3
   },
   "file_extension": ".py",
   "mimetype": "text/x-python",
   "name": "python",
   "nbconvert_exporter": "python",
   "pygments_lexer": "ipython3",
   "version": "3.9.10"
  }
 },
 "nbformat": 4,
 "nbformat_minor": 5
}
