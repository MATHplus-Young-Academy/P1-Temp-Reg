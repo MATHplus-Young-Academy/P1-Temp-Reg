{
 "cells": [
  {
   "cell_type": "code",
   "execution_count": 1,
   "id": "83de4b6c-82ac-410f-8ca4-f0eb4904ae2c",
   "metadata": {},
   "outputs": [],
   "source": [
    "from pathlib import Path\n",
    "\n",
    "\n",
    "root_path = Path(\"/mnt/materials/SIRF/MathPlusBerlin/DATA/ACDC-Daten/\")\n",
    "\n",
    "fpath_output = Path(\"/home/jovyan/InputData/\")\n",
    "fpath_output.mkdir(exist_ok=True, parents=True)\n",
    "\n",
    "\n"
   ]
  },
  {
   "cell_type": "code",
   "execution_count": 2,
   "id": "87fc548a-4124-422f-8e5b-e0a41ea2e287",
   "metadata": {},
   "outputs": [
    {
     "name": "stdout",
     "output_type": "stream",
     "text": [
      "[PosixPath('/mnt/materials/SIRF/MathPlusBerlin/DATA/ACDC-Daten/DCM'), PosixPath('/mnt/materials/SIRF/MathPlusBerlin/DATA/ACDC-Daten/HCM'), PosixPath('/mnt/materials/SIRF/MathPlusBerlin/DATA/ACDC-Daten/MINF'), PosixPath('/mnt/materials/SIRF/MathPlusBerlin/DATA/ACDC-Daten/NOR')]\n"
     ]
    }
   ],
   "source": [
    "def get_subdirs(path: Path):\n",
    "    list_paths = []\n",
    "    for path in Path(path).iterdir():\n",
    "        if path.is_dir():\n",
    "            list_paths.append(path)\n",
    "    \n",
    "    return list_paths\n",
    "\n",
    "\n",
    "dirs_acdc = get_subdirs(root_path)\n",
    "print(dirs_acdc)\n"
   ]
  },
  {
   "cell_type": "code",
   "execution_count": 3,
   "id": "89d211fe-145f-4d19-bcb3-b8d7ec390587",
   "metadata": {},
   "outputs": [],
   "source": [
    "\n",
    "import nibabel as nib\n",
    "\n",
    "import numpy as np\n",
    "\n",
    "def crop_image(imgarr, cropped_size):\n",
    "    \n",
    "    imgdims = np.array(imgarr.shape)//2\n",
    "    xstart = imgdims[0] - cropped_size//2\n",
    "    xend = imgdims[0] + cropped_size//2\n",
    "    \n",
    "    ystart = imgdims[1] - cropped_size//2\n",
    "    yend = imgdims[1] + cropped_size//2\n",
    "    \n",
    "\n",
    "    return imgarr[xstart:xend, ystart:yend,...]\n",
    "\n",
    "def get_cropped_image(path: Path):\n",
    "    \n",
    "    img = nib.load(str(path / \"image.nii.gz\"))\n",
    "\n",
    "    cropsize=128\n",
    "    cropped_arr = crop_image(img.get_fdata(), cropsize)\n",
    "\n",
    "    return np.squeeze(cropped_arr)\n",
    "\n",
    "min_num_phases = 24\n",
    "time_usf = 2\n",
    "\n",
    "    "
   ]
  },
  {
   "cell_type": "code",
   "execution_count": 4,
   "id": "c0e28194-8f91-42bb-a3a7-c92b65e7e38c",
   "metadata": {},
   "outputs": [
    {
     "name": "stdout",
     "output_type": "stream",
     "text": [
      "/mnt/materials/SIRF/MathPlusBerlin/DATA/ACDC-Daten/DCM\n"
     ]
    },
    {
     "ename": "KeyboardInterrupt",
     "evalue": "",
     "output_type": "error",
     "traceback": [
      "\u001b[0;31m---------------------------------------------------------------------------\u001b[0m",
      "\u001b[0;31mKeyboardInterrupt\u001b[0m                         Traceback (most recent call last)",
      "Input \u001b[0;32mIn [4]\u001b[0m, in \u001b[0;36m<module>\u001b[0;34m\u001b[0m\n\u001b[1;32m     14\u001b[0m \u001b[38;5;28;01mfor\u001b[39;00m islice \u001b[38;5;129;01min\u001b[39;00m \u001b[38;5;28mrange\u001b[39m(img\u001b[38;5;241m.\u001b[39mshape[\u001b[38;5;241m2\u001b[39m]):\n\u001b[1;32m     15\u001b[0m     dat \u001b[38;5;241m=\u001b[39m np\u001b[38;5;241m.\u001b[39msqueeze(img[:,:,islice,:])\n\u001b[0;32m---> 16\u001b[0m     nii \u001b[38;5;241m=\u001b[39m \u001b[43mnib\u001b[49m\u001b[38;5;241;43m.\u001b[39;49m\u001b[43mNifti1Image\u001b[49m\u001b[43m(\u001b[49m\u001b[43mdat\u001b[49m\u001b[43m,\u001b[49m\u001b[43m \u001b[49m\u001b[43mnp\u001b[49m\u001b[38;5;241;43m.\u001b[39;49m\u001b[43meye\u001b[49m\u001b[43m(\u001b[49m\u001b[38;5;241;43m4\u001b[39;49m\u001b[43m)\u001b[49m\u001b[43m)\u001b[49m\n\u001b[1;32m     17\u001b[0m     nib\u001b[38;5;241m.\u001b[39msave(nii, \u001b[38;5;28mstr\u001b[39m(fpath_output \u001b[38;5;241m/\u001b[39m \u001b[38;5;124m\"\u001b[39m\u001b[38;5;124mimg_\u001b[39m\u001b[38;5;132;01m{}\u001b[39;00m\u001b[38;5;124m.nii\u001b[39m\u001b[38;5;124m\"\u001b[39m\u001b[38;5;241m.\u001b[39mformat(i)))\n\u001b[1;32m     18\u001b[0m     i \u001b[38;5;241m+\u001b[39m\u001b[38;5;241m=\u001b[39m \u001b[38;5;241m1\u001b[39m\n",
      "File \u001b[0;32m/opt/conda/lib/python3.9/site-packages/nibabel/nifti1.py:1758\u001b[0m, in \u001b[0;36mNifti1Pair.__init__\u001b[0;34m(self, dataobj, affine, header, extra, file_map)\u001b[0m\n\u001b[1;32m   1756\u001b[0m \u001b[38;5;28;01mdef\u001b[39;00m \u001b[38;5;21m__init__\u001b[39m(\u001b[38;5;28mself\u001b[39m, dataobj, affine, header\u001b[38;5;241m=\u001b[39m\u001b[38;5;28;01mNone\u001b[39;00m,\n\u001b[1;32m   1757\u001b[0m              extra\u001b[38;5;241m=\u001b[39m\u001b[38;5;28;01mNone\u001b[39;00m, file_map\u001b[38;5;241m=\u001b[39m\u001b[38;5;28;01mNone\u001b[39;00m):\n\u001b[0;32m-> 1758\u001b[0m     \u001b[38;5;28;43msuper\u001b[39;49m\u001b[43m(\u001b[49m\u001b[43mNifti1Pair\u001b[49m\u001b[43m,\u001b[49m\u001b[43m \u001b[49m\u001b[38;5;28;43mself\u001b[39;49m\u001b[43m)\u001b[49m\u001b[38;5;241;43m.\u001b[39;49m\u001b[38;5;21;43m__init__\u001b[39;49m\u001b[43m(\u001b[49m\u001b[43mdataobj\u001b[49m\u001b[43m,\u001b[49m\n\u001b[1;32m   1759\u001b[0m \u001b[43m                                     \u001b[49m\u001b[43maffine\u001b[49m\u001b[43m,\u001b[49m\n\u001b[1;32m   1760\u001b[0m \u001b[43m                                     \u001b[49m\u001b[43mheader\u001b[49m\u001b[43m,\u001b[49m\n\u001b[1;32m   1761\u001b[0m \u001b[43m                                     \u001b[49m\u001b[43mextra\u001b[49m\u001b[43m,\u001b[49m\n\u001b[1;32m   1762\u001b[0m \u001b[43m                                     \u001b[49m\u001b[43mfile_map\u001b[49m\u001b[43m)\u001b[49m\n\u001b[1;32m   1763\u001b[0m     \u001b[38;5;66;03m# Force set of s/q form when header is None unless affine is also None\u001b[39;00m\n\u001b[1;32m   1764\u001b[0m     \u001b[38;5;28;01mif\u001b[39;00m header \u001b[38;5;129;01mis\u001b[39;00m \u001b[38;5;28;01mNone\u001b[39;00m \u001b[38;5;129;01mand\u001b[39;00m affine \u001b[38;5;129;01mis\u001b[39;00m \u001b[38;5;129;01mnot\u001b[39;00m \u001b[38;5;28;01mNone\u001b[39;00m:\n",
      "File \u001b[0;32m/opt/conda/lib/python3.9/site-packages/nibabel/analyze.py:918\u001b[0m, in \u001b[0;36mAnalyzeImage.__init__\u001b[0;34m(self, dataobj, affine, header, extra, file_map)\u001b[0m\n\u001b[1;32m    916\u001b[0m \u001b[38;5;28;01mdef\u001b[39;00m \u001b[38;5;21m__init__\u001b[39m(\u001b[38;5;28mself\u001b[39m, dataobj, affine, header\u001b[38;5;241m=\u001b[39m\u001b[38;5;28;01mNone\u001b[39;00m,\n\u001b[1;32m    917\u001b[0m              extra\u001b[38;5;241m=\u001b[39m\u001b[38;5;28;01mNone\u001b[39;00m, file_map\u001b[38;5;241m=\u001b[39m\u001b[38;5;28;01mNone\u001b[39;00m):\n\u001b[0;32m--> 918\u001b[0m     \u001b[38;5;28;43msuper\u001b[39;49m\u001b[43m(\u001b[49m\u001b[43mAnalyzeImage\u001b[49m\u001b[43m,\u001b[49m\u001b[43m \u001b[49m\u001b[38;5;28;43mself\u001b[39;49m\u001b[43m)\u001b[49m\u001b[38;5;241;43m.\u001b[39;49m\u001b[38;5;21;43m__init__\u001b[39;49m\u001b[43m(\u001b[49m\n\u001b[1;32m    919\u001b[0m \u001b[43m        \u001b[49m\u001b[43mdataobj\u001b[49m\u001b[43m,\u001b[49m\u001b[43m \u001b[49m\u001b[43maffine\u001b[49m\u001b[43m,\u001b[49m\u001b[43m \u001b[49m\u001b[43mheader\u001b[49m\u001b[43m,\u001b[49m\u001b[43m \u001b[49m\u001b[43mextra\u001b[49m\u001b[43m,\u001b[49m\u001b[43m \u001b[49m\u001b[43mfile_map\u001b[49m\u001b[43m)\u001b[49m\n\u001b[1;32m    920\u001b[0m     \u001b[38;5;66;03m# Reset consumable values\u001b[39;00m\n\u001b[1;32m    921\u001b[0m     \u001b[38;5;28mself\u001b[39m\u001b[38;5;241m.\u001b[39m_header\u001b[38;5;241m.\u001b[39mset_data_offset(\u001b[38;5;241m0\u001b[39m)\n",
      "File \u001b[0;32m/opt/conda/lib/python3.9/site-packages/nibabel/spatialimages.py:469\u001b[0m, in \u001b[0;36mSpatialImage.__init__\u001b[0;34m(self, dataobj, affine, header, extra, file_map)\u001b[0m\n\u001b[1;32m    467\u001b[0m         \u001b[38;5;28mself\u001b[39m\u001b[38;5;241m.\u001b[39m_header\u001b[38;5;241m.\u001b[39mset_data_dtype(dataobj\u001b[38;5;241m.\u001b[39mdtype)\n\u001b[1;32m    468\u001b[0m \u001b[38;5;66;03m# make header correspond with image and affine\u001b[39;00m\n\u001b[0;32m--> 469\u001b[0m \u001b[38;5;28;43mself\u001b[39;49m\u001b[38;5;241;43m.\u001b[39;49m\u001b[43mupdate_header\u001b[49m\u001b[43m(\u001b[49m\u001b[43m)\u001b[49m\n\u001b[1;32m    470\u001b[0m \u001b[38;5;28mself\u001b[39m\u001b[38;5;241m.\u001b[39m_data_cache \u001b[38;5;241m=\u001b[39m \u001b[38;5;28;01mNone\u001b[39;00m\n",
      "File \u001b[0;32m/opt/conda/lib/python3.9/site-packages/nibabel/nifti1.py:2034\u001b[0m, in \u001b[0;36mNifti1Image.update_header\u001b[0;34m(self)\u001b[0m\n\u001b[1;32m   2032\u001b[0m \u001b[38;5;28;01mdef\u001b[39;00m \u001b[38;5;21mupdate_header\u001b[39m(\u001b[38;5;28mself\u001b[39m):\n\u001b[1;32m   2033\u001b[0m     \u001b[38;5;124;03m\"\"\" Harmonize header with image data and affine \"\"\"\u001b[39;00m\n\u001b[0;32m-> 2034\u001b[0m     \u001b[38;5;28;43msuper\u001b[39;49m\u001b[43m(\u001b[49m\u001b[43mNifti1Image\u001b[49m\u001b[43m,\u001b[49m\u001b[43m \u001b[49m\u001b[38;5;28;43mself\u001b[39;49m\u001b[43m)\u001b[49m\u001b[38;5;241;43m.\u001b[39;49m\u001b[43mupdate_header\u001b[49m\u001b[43m(\u001b[49m\u001b[43m)\u001b[49m\n\u001b[1;32m   2035\u001b[0m     hdr \u001b[38;5;241m=\u001b[39m \u001b[38;5;28mself\u001b[39m\u001b[38;5;241m.\u001b[39m_header\n\u001b[1;32m   2036\u001b[0m     hdr[\u001b[38;5;124m'\u001b[39m\u001b[38;5;124mmagic\u001b[39m\u001b[38;5;124m'\u001b[39m] \u001b[38;5;241m=\u001b[39m hdr\u001b[38;5;241m.\u001b[39msingle_magic\n",
      "File \u001b[0;32m/opt/conda/lib/python3.9/site-packages/nibabel/nifti1.py:1797\u001b[0m, in \u001b[0;36mNifti1Pair.update_header\u001b[0;34m(self)\u001b[0m\n\u001b[1;32m   1781\u001b[0m \u001b[38;5;28;01mdef\u001b[39;00m \u001b[38;5;21mupdate_header\u001b[39m(\u001b[38;5;28mself\u001b[39m):\n\u001b[1;32m   1782\u001b[0m     \u001b[38;5;124;03m\"\"\" Harmonize header with image data and affine\u001b[39;00m\n\u001b[1;32m   1783\u001b[0m \n\u001b[1;32m   1784\u001b[0m \u001b[38;5;124;03m    See AnalyzeImage.update_header for more examples\u001b[39;00m\n\u001b[0;32m   (...)\u001b[0m\n\u001b[1;32m   1795\u001b[0m \u001b[38;5;124;03m    True\u001b[39;00m\n\u001b[1;32m   1796\u001b[0m \u001b[38;5;124;03m    \"\"\"\u001b[39;00m\n\u001b[0;32m-> 1797\u001b[0m     \u001b[38;5;28;43msuper\u001b[39;49m\u001b[43m(\u001b[49m\u001b[43mNifti1Pair\u001b[49m\u001b[43m,\u001b[49m\u001b[43m \u001b[49m\u001b[38;5;28;43mself\u001b[39;49m\u001b[43m)\u001b[49m\u001b[38;5;241;43m.\u001b[39;49m\u001b[43mupdate_header\u001b[49m\u001b[43m(\u001b[49m\u001b[43m)\u001b[49m\n\u001b[1;32m   1798\u001b[0m     hdr \u001b[38;5;241m=\u001b[39m \u001b[38;5;28mself\u001b[39m\u001b[38;5;241m.\u001b[39m_header\n\u001b[1;32m   1799\u001b[0m     hdr[\u001b[38;5;124m'\u001b[39m\u001b[38;5;124mmagic\u001b[39m\u001b[38;5;124m'\u001b[39m] \u001b[38;5;241m=\u001b[39m hdr\u001b[38;5;241m.\u001b[39mpair_magic\n",
      "File \u001b[0;32m/opt/conda/lib/python3.9/site-packages/nibabel/spatialimages.py:503\u001b[0m, in \u001b[0;36mSpatialImage.update_header\u001b[0;34m(self)\u001b[0m\n\u001b[1;32m    501\u001b[0m \u001b[38;5;28;01mif\u001b[39;00m np\u001b[38;5;241m.\u001b[39mallclose(\u001b[38;5;28mself\u001b[39m\u001b[38;5;241m.\u001b[39m_affine, hdr\u001b[38;5;241m.\u001b[39mget_best_affine()):\n\u001b[1;32m    502\u001b[0m     \u001b[38;5;28;01mreturn\u001b[39;00m\n\u001b[0;32m--> 503\u001b[0m \u001b[38;5;28;43mself\u001b[39;49m\u001b[38;5;241;43m.\u001b[39;49m\u001b[43m_affine2header\u001b[49m\u001b[43m(\u001b[49m\u001b[43m)\u001b[49m\n",
      "File \u001b[0;32m/opt/conda/lib/python3.9/site-packages/nibabel/nifti1.py:1807\u001b[0m, in \u001b[0;36mNifti1Pair._affine2header\u001b[0;34m(self)\u001b[0m\n\u001b[1;32m   1805\u001b[0m hdr\u001b[38;5;241m.\u001b[39mset_sform(\u001b[38;5;28mself\u001b[39m\u001b[38;5;241m.\u001b[39m_affine, code\u001b[38;5;241m=\u001b[39m\u001b[38;5;124m'\u001b[39m\u001b[38;5;124maligned\u001b[39m\u001b[38;5;124m'\u001b[39m)\n\u001b[1;32m   1806\u001b[0m \u001b[38;5;66;03m# Make qform 'unknown'\u001b[39;00m\n\u001b[0;32m-> 1807\u001b[0m \u001b[43mhdr\u001b[49m\u001b[38;5;241;43m.\u001b[39;49m\u001b[43mset_qform\u001b[49m\u001b[43m(\u001b[49m\u001b[38;5;28;43mself\u001b[39;49m\u001b[38;5;241;43m.\u001b[39;49m\u001b[43m_affine\u001b[49m\u001b[43m,\u001b[49m\u001b[43m \u001b[49m\u001b[43mcode\u001b[49m\u001b[38;5;241;43m=\u001b[39;49m\u001b[38;5;124;43m'\u001b[39;49m\u001b[38;5;124;43munknown\u001b[39;49m\u001b[38;5;124;43m'\u001b[39;49m\u001b[43m)\u001b[49m\n",
      "File \u001b[0;32m/opt/conda/lib/python3.9/site-packages/nibabel/nifti1.py:1011\u001b[0m, in \u001b[0;36mNifti1Header.set_qform\u001b[0;34m(self, affine, code, strip_shears)\u001b[0m\n\u001b[1;32m   1009\u001b[0m trans \u001b[38;5;241m=\u001b[39m affine[:\u001b[38;5;241m3\u001b[39m, \u001b[38;5;241m3\u001b[39m]\n\u001b[1;32m   1010\u001b[0m RZS \u001b[38;5;241m=\u001b[39m affine[:\u001b[38;5;241m3\u001b[39m, :\u001b[38;5;241m3\u001b[39m]\n\u001b[0;32m-> 1011\u001b[0m zooms \u001b[38;5;241m=\u001b[39m np\u001b[38;5;241m.\u001b[39msqrt(\u001b[43mnp\u001b[49m\u001b[38;5;241;43m.\u001b[39;49m\u001b[43msum\u001b[49m\u001b[43m(\u001b[49m\u001b[43mRZS\u001b[49m\u001b[43m \u001b[49m\u001b[38;5;241;43m*\u001b[39;49m\u001b[43m \u001b[49m\u001b[43mRZS\u001b[49m\u001b[43m,\u001b[49m\u001b[43m \u001b[49m\u001b[43maxis\u001b[49m\u001b[38;5;241;43m=\u001b[39;49m\u001b[38;5;241;43m0\u001b[39;49m\u001b[43m)\u001b[49m)\n\u001b[1;32m   1012\u001b[0m R \u001b[38;5;241m=\u001b[39m RZS \u001b[38;5;241m/\u001b[39m zooms\n\u001b[1;32m   1013\u001b[0m \u001b[38;5;66;03m# Set qfac to make R determinant positive\u001b[39;00m\n",
      "File \u001b[0;32m<__array_function__ internals>:4\u001b[0m, in \u001b[0;36msum\u001b[0;34m(*args, **kwargs)\u001b[0m\n",
      "\u001b[0;31mKeyboardInterrupt\u001b[0m: "
     ]
    }
   ],
   "source": [
    "\n",
    "i=0\n",
    "for curr_dir in dirs_acdc:\n",
    "    print(curr_dir)\n",
    "    list_patients = get_subdirs(curr_dir)\n",
    "    \n",
    "    for pat in list_patients:\n",
    "        img = get_cropped_image(pat)\n",
    "        \n",
    "        if img.shape[3] < min_num_phases:\n",
    "            continue\n",
    "        \n",
    "        img = img[...,1:min_num_phases:time_usf]\n",
    "        \n",
    "        for islice in range(img.shape[2]):\n",
    "            dat = np.squeeze(img[:,:,islice,:])\n",
    "            nii = nib.Nifti1Image(dat, np.eye(4))\n",
    "            nib.save(nii, str(fpath_output / \"img_{}.nii\".format(i)))\n",
    "            i += 1\n",
    "        "
   ]
  },
  {
   "cell_type": "code",
   "execution_count": 4,
   "id": "5b274deb-0c85-419c-9e05-a8d849beba3c",
   "metadata": {},
   "outputs": [
    {
     "name": "stdout",
     "output_type": "stream",
     "text": [
      "Started reading acquisitions from /home/jovyan/InputData/template/cine_128_30ph_bc.h5\n",
      "0%..10%..20%..30%..40%..50%..60%..70%..80%..90%..100%..\n",
      "Finished reading acquisitions from /home/jovyan/InputData/template/cine_128_30ph_bc.h5\n"
     ]
    }
   ],
   "source": [
    "import sirf.Gadgetron as pMR\n",
    "import numpy as np\n",
    "\n",
    "\n",
    "fname_template = fpath_output / \"template/cine_128_30ph_bc.h5\"\n",
    "template_data = pMR.AcquisitionData(str(fname_template))\n",
    "\n",
    "template_data = pMR.preprocess_acquisition_data(template_data)\n",
    "template_phase = template_data.get_ISMRMRD_info(\"phase\")\n",
    "\n",
    "index_all_acquis = np.arange(template_data.number())\n",
    "\n",
    "index_interesting_acquis = template_phase < (min_num_phases// time_usf)\n",
    "index_interesting_acquis = index_all_acquis[index_interesting_acquis]\n",
    "template_data = template_data.get_subset(index_interesting_acquis)\n",
    "\n"
   ]
  },
  {
   "cell_type": "code",
   "execution_count": 5,
   "id": "ee79c5b0-cbfc-4655-9d04-bca5f91f4a21",
   "metadata": {},
   "outputs": [
    {
     "ename": "SyntaxError",
     "evalue": "invalid syntax (mathplus_p1_auxiliary_functions.py, line 12)",
     "output_type": "error",
     "traceback": [
      "Traceback \u001b[0;36m(most recent call last)\u001b[0m:\n",
      "  File \u001b[1;32m/opt/conda/lib/python3.9/site-packages/IPython/core/interactiveshell.py:3251\u001b[0m in \u001b[1;35mrun_code\u001b[0m\n    exec(code_obj, self.user_global_ns, self.user_ns)\n",
      "\u001b[0;36m  Input \u001b[0;32mIn [5]\u001b[0;36m in \u001b[0;35m<module>\u001b[0;36m\u001b[0m\n\u001b[0;31m    import mathplus_p1_auxiliary_functions as aux\u001b[0m\n",
      "\u001b[0;36m  File \u001b[0;32m~/P1-Temp-Reg/notebooks/mathplus_p1_auxiliary_functions.py:12\u001b[0;36m\u001b[0m\n\u001b[0;31m    %matplotlib inline\u001b[0m\n\u001b[0m    ^\u001b[0m\n\u001b[0;31mSyntaxError\u001b[0m\u001b[0;31m:\u001b[0m invalid syntax\n"
     ]
    }
   ],
   "source": [
    "import mathplus_p1_auxiliary_functions as aux \n",
    "\n",
    "def undersample_cartesian_data(ad: pMR.AcquisitionData):\n",
    "\n",
    "    ky_index = ad.get_ISMRMRD_info('kspace_encode_step_1')\n",
    "    cph_index = ad.get_ISMRMRD_info('phase')\n",
    "    ky_num = int(np.max(ky_index)+1)\n",
    "    cph_num = int(np.max(cph_index)+1)\n",
    "    print(f'Nky {ky_num} - Ncph {cph_num}')\n",
    "\n",
    "    R = 4\n",
    "    F = int(ky_num/10)\n",
    "    msk = aux.cartesian_mask([cph_num, ky_num, 1], R, sample_n=F)\n",
    "\n",
    "\n",
    "    acq_us = ad.new_acquisition_data(empty=True)\n",
    "\n",
    "    # Create raw data\n",
    "    for cnd in range(cph_num):\n",
    "        for ynd in range(ky_num):\n",
    "            if msk[cnd, ynd, 0] == 1:\n",
    "                cidx = np.where((ky_index == ynd) & (cph_index == cnd))[0]\n",
    "                if len(cidx) > 0:\n",
    "                    cacq = ad.acquisition(cidx)\n",
    "                    acq_us.append_acquisition(cacq)\n",
    "                else:\n",
    "                    print(f'ky {ynd} - cph {cnd} not found')\n",
    "\n",
    "    acq_us.sort()     \n",
    "\n",
    "    return acq_us\n",
    "\n",
    "print(template_data.number())\n",
    "template_data = undersample_cartesian_data(template_data)\n",
    "print(template_data.number())"
   ]
  },
  {
   "cell_type": "code",
   "execution_count": 10,
   "id": "f9ffd870-aff3-44c0-bea2-cd63e6a73852",
   "metadata": {},
   "outputs": [
    {
     "name": "stdout",
     "output_type": "stream",
     "text": [
      "GO 0/488!\n",
      "GO 1/488!\n",
      "GO 2/488!\n",
      "GO 3/488!\n",
      "GO 4/488!\n",
      "GO 5/488!\n",
      "GO 6/488!\n",
      "GO 7/488!\n",
      "GO 8/488!\n",
      "GO 9/488!\n",
      "GO 10/488!\n",
      "GO 11/488!\n",
      "GO 12/488!\n",
      "GO 13/488!\n",
      "GO 14/488!\n",
      "GO 15/488!\n",
      "GO 16/488!\n",
      "GO 17/488!\n",
      "GO 18/488!\n"
     ]
    },
    {
     "ename": "KeyboardInterrupt",
     "evalue": "",
     "output_type": "error",
     "traceback": [
      "\u001b[0;31m---------------------------------------------------------------------------\u001b[0m",
      "\u001b[0;31mKeyboardInterrupt\u001b[0m                         Traceback (most recent call last)",
      "Input \u001b[0;32mIn [10]\u001b[0m, in \u001b[0;36m<module>\u001b[0;34m\u001b[0m\n\u001b[1;32m     27\u001b[0m rd \u001b[38;5;241m=\u001b[39m E\u001b[38;5;241m.\u001b[39mforward(template_fwd)\n\u001b[1;32m     29\u001b[0m fout \u001b[38;5;241m=\u001b[39m fpath_output \u001b[38;5;241m/\u001b[39m \u001b[38;5;124m\"\u001b[39m\u001b[38;5;124my_\u001b[39m\u001b[38;5;132;01m{}\u001b[39;00m\u001b[38;5;124m.h5\u001b[39m\u001b[38;5;124m\"\u001b[39m\u001b[38;5;241m.\u001b[39mformat(iy)\n\u001b[0;32m---> 30\u001b[0m \u001b[43mrd\u001b[49m\u001b[38;5;241;43m.\u001b[39;49m\u001b[43mwrite\u001b[49m\u001b[43m(\u001b[49m\u001b[38;5;28;43mstr\u001b[39;49m\u001b[43m(\u001b[49m\u001b[43mfout\u001b[49m\u001b[43m)\u001b[49m\u001b[43m)\u001b[49m\n\u001b[1;32m     31\u001b[0m iy \u001b[38;5;241m+\u001b[39m\u001b[38;5;241m=\u001b[39m \u001b[38;5;241m1\u001b[39m\n",
      "File \u001b[0;32m/opt/SIRF-SuperBuild/INSTALL/python/sirf/SIRF.py:324\u001b[0m, in \u001b[0;36mDataContainer.write\u001b[0;34m(self, filename)\u001b[0m\n\u001b[1;32m    320\u001b[0m \u001b[38;5;124;03m'''\u001b[39;00m\n\u001b[1;32m    321\u001b[0m \u001b[38;5;124;03mWrites to file.\u001b[39;00m\n\u001b[1;32m    322\u001b[0m \u001b[38;5;124;03m'''\u001b[39;00m\n\u001b[1;32m    323\u001b[0m \u001b[38;5;28;01massert\u001b[39;00m \u001b[38;5;28mself\u001b[39m\u001b[38;5;241m.\u001b[39mhandle \u001b[38;5;129;01mis\u001b[39;00m \u001b[38;5;129;01mnot\u001b[39;00m \u001b[38;5;28;01mNone\u001b[39;00m\n\u001b[0;32m--> 324\u001b[0m try_calling(\u001b[43mpysirf\u001b[49m\u001b[38;5;241;43m.\u001b[39;49m\u001b[43mcSIRF_write\u001b[49m\u001b[43m(\u001b[49m\u001b[38;5;28;43mself\u001b[39;49m\u001b[38;5;241;43m.\u001b[39;49m\u001b[43mhandle\u001b[49m\u001b[43m,\u001b[49m\u001b[43m \u001b[49m\u001b[43mfilename\u001b[49m\u001b[43m)\u001b[49m)\n",
      "\u001b[0;31mKeyboardInterrupt\u001b[0m: "
     ]
    }
   ],
   "source": [
    "import sirf.Reg as pReg\n",
    "\n",
    "\n",
    "csm = pMR.CoilSensitivityData()\n",
    "csm.calculate(template_data)\n",
    "csm.fill(1 + 0. * 1j)\n",
    "\n",
    "template_img = pMR.ImageData()\n",
    "template_img.from_acquisition_data(template_data)\n",
    "\n",
    "E = pMR.AcquisitionModel(acqs=template_data, imgs=template_img)\n",
    "E.set_coil_sensitivity_maps(csm)\n",
    "\n",
    "path_input = fpath_output\n",
    "\n",
    "list_stacks = sorted(path_input.glob(\"img*\"))\n",
    "\n",
    "template_fwd = pMR.ImageData()\n",
    "template_fwd.from_acquisition_data(template_data)\n",
    "\n",
    "iy = 0\n",
    "for f in list_stacks:\n",
    "    print(\"GO {}/{}!\".format(iy, len(list_stacks)))\n",
    "    nii = pReg.ImageData(str(f))\n",
    "    template_fwd.fill(nii.as_array())\n",
    "    \n",
    "    rd = E.forward(template_fwd)\n",
    "    \n",
    "    fout = fpath_output / \"y_{}.h5\".format(iy)\n",
    "    rd.write(str(fout))\n",
    "    iy += 1"
   ]
  },
  {
   "cell_type": "code",
   "execution_count": null,
   "id": "e4a2f35d-fa01-493f-b286-e6169bcfd9ff",
   "metadata": {},
   "outputs": [],
   "source": []
  }
 ],
 "metadata": {
  "kernelspec": {
   "display_name": "Python 3 (ipykernel)",
   "language": "python",
   "name": "python3"
  },
  "language_info": {
   "codemirror_mode": {
    "name": "ipython",
    "version": 3
   },
   "file_extension": ".py",
   "mimetype": "text/x-python",
   "name": "python",
   "nbconvert_exporter": "python",
   "pygments_lexer": "ipython3",
   "version": "3.9.10"
  }
 },
 "nbformat": 4,
 "nbformat_minor": 5
}
