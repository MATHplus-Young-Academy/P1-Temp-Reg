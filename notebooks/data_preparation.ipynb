{
 "cells": [
  {
   "cell_type": "code",
   "execution_count": 1,
   "id": "83de4b6c-82ac-410f-8ca4-f0eb4904ae2c",
   "metadata": {},
   "outputs": [],
   "source": [
    "from pathlib import Path\n",
    "import nibabel as nib\n",
    "import numpy as np\n",
    "from tqdm import tqdm\n",
    "\n",
    "import sys\n",
    "sys.path.append(\"/home/jovyan/P1-Temp-Reg/notebooks\")\n",
    "\n",
    "import mathplus_p1_auxiliary_functions as aux\n",
    "\n",
    "root_path = Path(\"/mnt/materials/SIRF/MathPlusBerlin/DATA/ACDC-Daten/\")\n",
    "\n",
    "fpath_output = Path(\"/home/jovyan/InputData/\")\n",
    "fpath_output.mkdir(exist_ok=True, parents=True)\n"
   ]
  },
  {
   "cell_type": "code",
   "execution_count": 2,
   "id": "87fc548a-4124-422f-8e5b-e0a41ea2e287",
   "metadata": {},
   "outputs": [],
   "source": [
    "def get_subdirs(path: Path):\n",
    "    list_paths = []\n",
    "    for path in Path(path).iterdir():\n",
    "        if path.is_dir():\n",
    "            list_paths.append(path)\n",
    "    \n",
    "    return list_paths\n",
    "\n",
    "dirs_acdc = get_subdirs(root_path)\n"
   ]
  },
  {
   "cell_type": "code",
   "execution_count": 3,
   "id": "89d211fe-145f-4d19-bcb3-b8d7ec390587",
   "metadata": {},
   "outputs": [],
   "source": [
    "def crop_image(imgarr, cropped_size):\n",
    "    \n",
    "    imgdims = np.array(imgarr.shape)//2\n",
    "    xstart = imgdims[0] - cropped_size//2\n",
    "    xend = imgdims[0] + cropped_size//2\n",
    "    \n",
    "    ystart = imgdims[1] - cropped_size//2\n",
    "    yend = imgdims[1] + cropped_size//2\n",
    "    \n",
    "\n",
    "    return imgarr[xstart:xend, ystart:yend,...]\n",
    "\n",
    "def get_cropped_image(path: Path):\n",
    "    \n",
    "    img = nib.load(str(path / \"image.nii.gz\"))\n",
    "\n",
    "    cropsize=128\n",
    "    cropped_arr = crop_image(img.get_fdata(), cropsize)\n",
    "\n",
    "    return np.squeeze(cropped_arr)\n",
    "\n",
    "def get_formatted_image(path: Path, num_phases, time_usf):\n",
    "    img = get_cropped_image(path)\n",
    "\n",
    "    if img.shape[3] < num_phases:\n",
    "        return None\n",
    "\n",
    "    img = img[...,1:num_phases:time_usf]\n",
    "    \n",
    "    return img\n",
    "\n"
   ]
  },
  {
   "cell_type": "code",
   "execution_count": 4,
   "id": "c0e28194-8f91-42bb-a3a7-c92b65e7e38c",
   "metadata": {},
   "outputs": [
    {
     "name": "stderr",
     "output_type": "stream",
     "text": [
      "100%|██████████| 4/4 [00:10<00:00,  2.73s/it]\n"
     ]
    }
   ],
   "source": [
    "min_num_phases = 24\n",
    "time_usf = 2\n",
    "\n",
    "i=0\n",
    "for curr_dir in tqdm(dirs_acdc):\n",
    "    list_patients = get_subdirs(curr_dir)\n",
    "    \n",
    "    for pat in list_patients:\n",
    "        \n",
    "        img = get_formatted_image(pat, min_num_phases, time_usf)\n",
    "        if img is None:\n",
    "            break\n",
    "            \n",
    "        for islice in range(img.shape[2]):\n",
    "            dat = np.squeeze(img[:,:,islice,:])\n",
    "            \n",
    "            dat = np.swapaxes(dat, 0, 2)\n",
    "            nii = nib.Nifti1Image(dat, np.eye(4))\n",
    "            \n",
    "            nib.save(nii, str(fpath_output / \"img_{}.nii\".format(i)))\n",
    "            i += 1\n",
    "        "
   ]
  },
  {
   "cell_type": "markdown",
   "id": "9c0871a4-1e23-4d9a-aced-a8157b5ac6a8",
   "metadata": {},
   "source": [
    "Now we have to prepare the k-space data"
   ]
  },
  {
   "cell_type": "code",
   "execution_count": 5,
   "id": "5b274deb-0c85-419c-9e05-a8d849beba3c",
   "metadata": {},
   "outputs": [
    {
     "name": "stdout",
     "output_type": "stream",
     "text": [
      "Started reading acquisitions from /home/jovyan/InputData/template/cine_128_30ph_bc.h5\n",
      "0%..10%..20%..30%..40%..50%..60%..70%..80%..90%..100%..\n",
      "Finished reading acquisitions from /home/jovyan/InputData/template/cine_128_30ph_bc.h5\n",
      "Nky 128 - Ncph 12\n",
      "(384, 1, 128)\n"
     ]
    }
   ],
   "source": [
    "import sirf.Gadgetron as pMR\n",
    "import numpy as np\n",
    "\n",
    "\n",
    "fname_template = fpath_output / \"template/cine_128_30ph_bc.h5\"\n",
    "template_data = pMR.AcquisitionData(str(fname_template))\n",
    "\n",
    "template_data = pMR.preprocess_acquisition_data(template_data)\n",
    "template_phase = template_data.get_ISMRMRD_info(\"phase\")\n",
    "\n",
    "index_all_acquis = np.arange(template_data.number())\n",
    "\n",
    "index_interesting_acquis = template_phase < (min_num_phases// time_usf)\n",
    "index_interesting_acquis = index_all_acquis[index_interesting_acquis]\n",
    "template_data = template_data.get_subset(index_interesting_acquis)\n",
    "\n",
    "template_data = aux.undersample_cartesian_data(template_data)\n",
    "print(template_data.shape)"
   ]
  },
  {
   "cell_type": "code",
   "execution_count": 9,
   "id": "450bb544-f45f-4c66-a4ee-d5721bb229b4",
   "metadata": {},
   "outputs": [],
   "source": [
    "import sirf.Reg as pReg\n",
    "\n",
    "csm = pMR.CoilSensitivityData()\n",
    "csm.calculate(template_data)\n",
    "csm.fill(1 + 0. * 1j)\n",
    "\n",
    "template_img = pMR.ImageData()\n",
    "template_img.from_acquisition_data(template_data)\n",
    "\n",
    "E = pMR.AcquisitionModel(acqs=template_data, imgs=template_img)\n",
    "E.set_coil_sensitivity_maps(csm)\n",
    "\n",
    "template_fwd = pMR.ImageData()\n",
    "template_fwd.from_acquisition_data(template_data)\n",
    "\n",
    "path_input = fpath_output\n",
    "list_stacks = sorted(path_input.glob(\"img*\"))\n"
   ]
  },
  {
   "cell_type": "code",
   "execution_count": null,
   "id": "9e1ecac8-3bbb-4006-b216-c6947d57c5b7",
   "metadata": {},
   "outputs": [],
   "source": [
    "\n",
    "\n",
    "for f in tqdm(list_stacks):\n",
    "        \n",
    "    fileidx = str(f.stem).split('_')[1]\n",
    "        \n",
    "    nii = pReg.ImageData(str(f))\n",
    "    template_fwd.fill(nii.as_array())\n",
    "    \n",
    "    rd = E.forward(template_fwd)\n",
    "    \n",
    "    fout = fpath_output / \"y_{}.h5\".format(fileidx)\n",
    "    rd.write(str(fout))\n",
    "    "
   ]
  },
  {
   "cell_type": "code",
   "execution_count": 14,
   "id": "4875c2ee-bcd0-48d8-af9d-36e459a7e1a0",
   "metadata": {},
   "outputs": [
    {
     "name": "stderr",
     "output_type": "stream",
     "text": [
      "  0%|          | 1/325 [00:00<01:25,  3.80it/s]"
     ]
    },
    {
     "name": "stdout",
     "output_type": "stream",
     "text": [
      "Started reading acquisitions from /home/jovyan/InputData/y_0.h5\n",
      "0%..10%..20%..30%..40%..50%..60%..70%..80%..90%..99%..\n",
      "Finished reading acquisitions from /home/jovyan/InputData/y_0.h5\n"
     ]
    },
    {
     "name": "stderr",
     "output_type": "stream",
     "text": [
      "  1%|          | 2/325 [00:00<01:17,  4.19it/s]"
     ]
    },
    {
     "name": "stdout",
     "output_type": "stream",
     "text": [
      "Started reading acquisitions from /home/jovyan/InputData/y_1.h5\n",
      "0%..10%..20%..30%..40%..50%..60%..70%..80%..90%..99%..\n",
      "Finished reading acquisitions from /home/jovyan/InputData/y_1.h5\n"
     ]
    },
    {
     "name": "stderr",
     "output_type": "stream",
     "text": [
      "  1%|          | 4/325 [00:00<01:05,  4.93it/s]"
     ]
    },
    {
     "name": "stdout",
     "output_type": "stream",
     "text": [
      "Started reading acquisitions from /home/jovyan/InputData/y_10.h5\n",
      "0%..10%..20%..30%..40%..50%..60%..70%..80%..90%..99%..\n",
      "Finished reading acquisitions from /home/jovyan/InputData/y_10.h5\n",
      "Started reading acquisitions from /home/jovyan/InputData/y_100.h5\n",
      "0%..10%..20%..30%..40%..50%..60%..70%..80%..90%..99%..\n",
      "Finished reading acquisitions from /home/jovyan/InputData/y_100.h5\n",
      "Started reading acquisitions from /home/jovyan/InputData/y_101.h5\n",
      "0%..10%..20%..30%..40%..50%..60%..70%..80%..90%..99%..\n",
      "Finished reading acquisitions from /home/jovyan/InputData/y_101.h5\n"
     ]
    },
    {
     "name": "stderr",
     "output_type": "stream",
     "text": [
      "  2%|▏         | 7/325 [00:01<00:48,  6.62it/s]"
     ]
    },
    {
     "name": "stdout",
     "output_type": "stream",
     "text": [
      "Started reading acquisitions from /home/jovyan/InputData/y_102.h5\n",
      "0%..10%..20%..30%..40%..50%..60%..70%..80%..90%..99%..\n",
      "Finished reading acquisitions from /home/jovyan/InputData/y_102.h5\n",
      "Started reading acquisitions from /home/jovyan/InputData/y_103.h5\n",
      "0%..10%..20%..30%..40%..50%..60%..70%..80%..90%..99%..\n",
      "Finished reading acquisitions from /home/jovyan/InputData/y_103.h5\n",
      "Started reading acquisitions from /home/jovyan/InputData/y_104.h5\n",
      "0%..10%..20%..30%..40%..50%..60%..70%..80%..90%..99%..\n",
      "Finished reading acquisitions from /home/jovyan/InputData/y_104.h5\n"
     ]
    },
    {
     "name": "stderr",
     "output_type": "stream",
     "text": [
      "  3%|▎         | 10/325 [00:01<00:43,  7.31it/s]"
     ]
    },
    {
     "name": "stdout",
     "output_type": "stream",
     "text": [
      "Started reading acquisitions from /home/jovyan/InputData/y_105.h5\n",
      "0%..10%..20%..30%..40%..50%..60%..70%..80%..90%..99%..\n",
      "Finished reading acquisitions from /home/jovyan/InputData/y_105.h5\n",
      "Started reading acquisitions from /home/jovyan/InputData/y_106.h5\n",
      "0%..10%..20%..30%..40%..50%..60%..70%..80%..90%..99%..\n",
      "Finished reading acquisitions from /home/jovyan/InputData/y_106.h5\n",
      "Started reading acquisitions from /home/jovyan/InputData/y_107.h5\n",
      "0%..10%..20%..30%..40%..50%..60%..70%..80%..90%..99%..\n",
      "Finished reading acquisitions from /home/jovyan/InputData/y_107.h5\n"
     ]
    },
    {
     "name": "stderr",
     "output_type": "stream",
     "text": [
      "  4%|▍         | 13/325 [00:02<00:41,  7.43it/s]"
     ]
    },
    {
     "name": "stdout",
     "output_type": "stream",
     "text": [
      "Started reading acquisitions from /home/jovyan/InputData/y_108.h5\n",
      "0%..10%..20%..30%..40%..50%..60%..70%..80%..90%..99%..\n",
      "Finished reading acquisitions from /home/jovyan/InputData/y_108.h5\n",
      "Started reading acquisitions from /home/jovyan/InputData/y_109.h5\n",
      "0%..10%..20%..30%..40%..50%..60%..70%..80%..90%..99%..\n",
      "Finished reading acquisitions from /home/jovyan/InputData/y_109.h5\n",
      "Started reading acquisitions from /home/jovyan/InputData/y_11.h5\n",
      "0%..10%..20%..30%..40%..50%..60%..70%..80%..90%..99%..\n",
      "Finished reading acquisitions from /home/jovyan/InputData/y_11.h5\n"
     ]
    },
    {
     "name": "stderr",
     "output_type": "stream",
     "text": [
      "  5%|▍         | 16/325 [00:02<00:41,  7.51it/s]"
     ]
    },
    {
     "name": "stdout",
     "output_type": "stream",
     "text": [
      "Started reading acquisitions from /home/jovyan/InputData/y_110.h5\n",
      "0%..10%..20%..30%..40%..50%..60%..70%..80%..90%..99%..\n",
      "Finished reading acquisitions from /home/jovyan/InputData/y_110.h5\n",
      "Started reading acquisitions from /home/jovyan/InputData/y_111.h5\n",
      "0%..10%..20%..30%..40%..50%..60%..70%..80%..90%..99%..\n",
      "Finished reading acquisitions from /home/jovyan/InputData/y_111.h5\n",
      "Started reading acquisitions from /home/jovyan/InputData/y_112.h5\n",
      "0%..10%..20%..30%..40%..50%..60%..70%..80%..90%..99%..\n",
      "Finished reading acquisitions from /home/jovyan/InputData/y_112.h5\n"
     ]
    },
    {
     "name": "stderr",
     "output_type": "stream",
     "text": [
      "  6%|▌         | 19/325 [00:02<00:41,  7.44it/s]"
     ]
    },
    {
     "name": "stdout",
     "output_type": "stream",
     "text": [
      "Started reading acquisitions from /home/jovyan/InputData/y_113.h5\n",
      "0%..10%..20%..30%..40%..50%..60%..70%..80%..90%..99%..\n",
      "Finished reading acquisitions from /home/jovyan/InputData/y_113.h5\n",
      "Started reading acquisitions from /home/jovyan/InputData/y_114.h5\n",
      "0%..10%..20%..30%..40%..50%..60%..70%..80%..90%..99%..\n",
      "Finished reading acquisitions from /home/jovyan/InputData/y_114.h5\n",
      "Started reading acquisitions from /home/jovyan/InputData/y_115.h5\n"
     ]
    },
    {
     "name": "stderr",
     "output_type": "stream",
     "text": [
      "  6%|▋         | 21/325 [00:03<00:40,  7.44it/s]"
     ]
    },
    {
     "name": "stdout",
     "output_type": "stream",
     "text": [
      "0%..10%..20%..30%..40%..50%..60%..70%..80%..90%..99%..\n",
      "Finished reading acquisitions from /home/jovyan/InputData/y_115.h5\n",
      "Started reading acquisitions from /home/jovyan/InputData/y_116.h5\n",
      "0%..10%..20%..30%..40%..50%..60%..70%..80%..90%..99%..\n",
      "Finished reading acquisitions from /home/jovyan/InputData/y_116.h5\n",
      "Started reading acquisitions from /home/jovyan/InputData/y_117.h5\n",
      "0%..10%..20%..30%..40%..50%..60%..70%..80%..90%..99%..\n",
      "Finished reading acquisitions from /home/jovyan/InputData/y_117.h5\n"
     ]
    },
    {
     "name": "stderr",
     "output_type": "stream",
     "text": [
      "  7%|▋         | 24/325 [00:03<00:41,  7.23it/s]"
     ]
    },
    {
     "name": "stdout",
     "output_type": "stream",
     "text": [
      "Started reading acquisitions from /home/jovyan/InputData/y_118.h5\n",
      "0%..10%..20%..30%..40%..50%..60%..70%..80%..90%..99%..\n",
      "Finished reading acquisitions from /home/jovyan/InputData/y_118.h5\n",
      "Started reading acquisitions from /home/jovyan/InputData/y_119.h5\n",
      "0%..10%..20%..30%..40%..50%..60%..70%..80%..90%..99%..\n",
      "Finished reading acquisitions from /home/jovyan/InputData/y_119.h5\n",
      "Started reading acquisitions from /home/jovyan/InputData/y_12.h5\n"
     ]
    },
    {
     "name": "stderr",
     "output_type": "stream",
     "text": [
      "  8%|▊         | 26/325 [00:03<00:40,  7.29it/s]"
     ]
    },
    {
     "name": "stdout",
     "output_type": "stream",
     "text": [
      "0%..10%..20%..30%..40%..50%..60%..70%..80%..90%..99%..\n",
      "Finished reading acquisitions from /home/jovyan/InputData/y_12.h5\n",
      "Started reading acquisitions from /home/jovyan/InputData/y_120.h5\n",
      "0%..10%..20%..30%..40%..50%..60%..70%..80%..90%..99%..\n",
      "Finished reading acquisitions from /home/jovyan/InputData/y_120.h5\n",
      "Started reading acquisitions from /home/jovyan/InputData/y_121.h5\n"
     ]
    },
    {
     "name": "stderr",
     "output_type": "stream",
     "text": [
      "  9%|▊         | 28/325 [00:04<00:41,  7.23it/s]"
     ]
    },
    {
     "name": "stdout",
     "output_type": "stream",
     "text": [
      "0%..10%..20%..30%..40%..50%..60%..70%..80%..90%..99%..\n",
      "Finished reading acquisitions from /home/jovyan/InputData/y_121.h5\n",
      "Started reading acquisitions from /home/jovyan/InputData/y_122.h5\n",
      "0%..10%..20%..30%..40%..50%..60%..70%..80%..90%..99%..\n",
      "Finished reading acquisitions from /home/jovyan/InputData/y_122.h5\n"
     ]
    },
    {
     "name": "stderr",
     "output_type": "stream",
     "text": [
      "  9%|▉         | 30/325 [00:04<00:40,  7.21it/s]"
     ]
    },
    {
     "name": "stdout",
     "output_type": "stream",
     "text": [
      "Started reading acquisitions from /home/jovyan/InputData/y_123.h5\n",
      "0%..10%..20%..30%..40%..50%..60%..70%..80%..90%..99%..\n",
      "Finished reading acquisitions from /home/jovyan/InputData/y_123.h5\n",
      "Started reading acquisitions from /home/jovyan/InputData/y_124.h5\n",
      "0%..10%..20%..30%..40%..50%..60%..70%..80%..90%..99%..\n",
      "Finished reading acquisitions from /home/jovyan/InputData/y_124.h5\n"
     ]
    },
    {
     "name": "stderr",
     "output_type": "stream",
     "text": [
      " 10%|█         | 33/325 [00:04<00:40,  7.22it/s]"
     ]
    },
    {
     "name": "stdout",
     "output_type": "stream",
     "text": [
      "Started reading acquisitions from /home/jovyan/InputData/y_125.h5\n",
      "0%..10%..20%..30%..40%..50%..60%..70%..80%..90%..99%..\n",
      "Finished reading acquisitions from /home/jovyan/InputData/y_125.h5\n",
      "Started reading acquisitions from /home/jovyan/InputData/y_126.h5\n",
      "0%..10%..20%..30%..40%..50%..60%..70%..80%..90%..99%..\n",
      "Finished reading acquisitions from /home/jovyan/InputData/y_126.h5\n",
      "Started reading acquisitions from /home/jovyan/InputData/y_127.h5\n",
      "0%..10%..20%..30%..40%..50%..60%..70%..80%..90%..99%..\n",
      "Finished reading acquisitions from /home/jovyan/InputData/y_127.h5\n",
      "Started reading acquisitions from /home/jovyan/InputData/y_128.h5\n"
     ]
    },
    {
     "name": "stderr",
     "output_type": "stream",
     "text": [
      " 11%|█         | 35/325 [00:05<00:39,  7.35it/s]"
     ]
    },
    {
     "name": "stdout",
     "output_type": "stream",
     "text": [
      "0%..10%..20%..30%..40%..50%..60%..70%..80%..90%..99%..\n",
      "Finished reading acquisitions from /home/jovyan/InputData/y_128.h5\n",
      "Started reading acquisitions from /home/jovyan/InputData/y_129.h5\n",
      "0%..10%..20%..30%..40%..50%..60%..70%..80%..90%..99%..\n",
      "Finished reading acquisitions from /home/jovyan/InputData/y_129.h5\n"
     ]
    },
    {
     "name": "stderr",
     "output_type": "stream",
     "text": [
      " 11%|█▏        | 37/325 [00:05<00:39,  7.27it/s]"
     ]
    },
    {
     "name": "stdout",
     "output_type": "stream",
     "text": [
      "Started reading acquisitions from /home/jovyan/InputData/y_13.h5\n",
      "0%..10%..20%..30%..40%..50%..60%..70%..80%..90%..99%..\n",
      "Finished reading acquisitions from /home/jovyan/InputData/y_13.h5\n",
      "Started reading acquisitions from /home/jovyan/InputData/y_130.h5\n",
      "0%..10%..20%..30%..40%..50%..60%..70%..80%..90%..99%..\n",
      "Finished reading acquisitions from /home/jovyan/InputData/y_130.h5\n",
      "Started reading acquisitions from /home/jovyan/InputData/y_131.h5\n",
      "0%..10%..20%..30%..40%..50%..60%..70%..80%..90%..99%..\n",
      "Finished reading acquisitions from /home/jovyan/InputData/y_131.h5\n"
     ]
    },
    {
     "name": "stderr",
     "output_type": "stream",
     "text": [
      " 12%|█▏        | 40/325 [00:05<00:38,  7.35it/s]"
     ]
    },
    {
     "name": "stdout",
     "output_type": "stream",
     "text": [
      "Started reading acquisitions from /home/jovyan/InputData/y_132.h5\n",
      "0%..10%..20%..30%..40%..50%..60%..70%..80%..90%..99%..\n",
      "Finished reading acquisitions from /home/jovyan/InputData/y_132.h5\n",
      "Started reading acquisitions from /home/jovyan/InputData/y_133.h5\n",
      "0%..10%..20%..30%..40%..50%..60%..70%..80%..90%..99%..\n",
      "Finished reading acquisitions from /home/jovyan/InputData/y_133.h5\n",
      "Started reading acquisitions from /home/jovyan/InputData/y_134.h5\n",
      "0%..10%..20%..30%..40%..50%..60%..70%..80%..90%..99%..\n",
      "Finished reading acquisitions from /home/jovyan/InputData/y_134.h5\n"
     ]
    },
    {
     "name": "stderr",
     "output_type": "stream",
     "text": [
      " 13%|█▎        | 43/325 [00:06<00:38,  7.33it/s]"
     ]
    },
    {
     "name": "stdout",
     "output_type": "stream",
     "text": [
      "Started reading acquisitions from /home/jovyan/InputData/y_135.h5\n",
      "0%..10%..20%..30%..40%..50%..60%..70%..80%..90%..99%..\n",
      "Finished reading acquisitions from /home/jovyan/InputData/y_135.h5\n",
      "Started reading acquisitions from /home/jovyan/InputData/y_136.h5\n",
      "0%..10%..20%..30%..40%..50%..60%..70%..80%..90%..99%..\n",
      "Finished reading acquisitions from /home/jovyan/InputData/y_136.h5\n",
      "Started reading acquisitions from /home/jovyan/InputData/y_137.h5\n"
     ]
    },
    {
     "name": "stderr",
     "output_type": "stream",
     "text": [
      " 14%|█▍        | 45/325 [00:06<00:38,  7.33it/s]"
     ]
    },
    {
     "name": "stdout",
     "output_type": "stream",
     "text": [
      "0%..10%..20%..30%..40%..50%..60%..70%..80%..90%..99%..\n",
      "Finished reading acquisitions from /home/jovyan/InputData/y_137.h5\n",
      "Started reading acquisitions from /home/jovyan/InputData/y_138.h5\n",
      "0%..10%..20%..30%..40%..50%..60%..70%..80%..90%..99%..\n",
      "Finished reading acquisitions from /home/jovyan/InputData/y_138.h5\n",
      "Started reading acquisitions from /home/jovyan/InputData/y_139.h5\n",
      "0%..10%..20%..30%..40%..50%..60%..70%..80%..90%..99%..\n",
      "Finished reading acquisitions from /home/jovyan/InputData/y_139.h5\n"
     ]
    },
    {
     "name": "stderr",
     "output_type": "stream",
     "text": [
      " 15%|█▍        | 48/325 [00:06<00:37,  7.43it/s]"
     ]
    },
    {
     "name": "stdout",
     "output_type": "stream",
     "text": [
      "Started reading acquisitions from /home/jovyan/InputData/y_14.h5\n",
      "0%..10%..20%..30%..40%..50%..60%..70%..80%..90%..99%..\n",
      "Finished reading acquisitions from /home/jovyan/InputData/y_14.h5\n",
      "Started reading acquisitions from /home/jovyan/InputData/y_140.h5\n",
      "0%..10%..20%..30%..40%..50%..60%..70%..80%..90%..99%..\n",
      "Finished reading acquisitions from /home/jovyan/InputData/y_140.h5\n",
      "Started reading acquisitions from /home/jovyan/InputData/y_141.h5\n",
      "0%..10%..20%..30%..40%..50%..60%..70%..80%..90%..99%..\n",
      "Finished reading acquisitions from /home/jovyan/InputData/y_141.h5\n"
     ]
    },
    {
     "name": "stderr",
     "output_type": "stream",
     "text": [
      " 16%|█▌        | 51/325 [00:07<00:36,  7.42it/s]"
     ]
    },
    {
     "name": "stdout",
     "output_type": "stream",
     "text": [
      "Started reading acquisitions from /home/jovyan/InputData/y_142.h5\n",
      "0%..10%..20%..30%..40%..50%..60%..70%..80%..90%..99%..\n",
      "Finished reading acquisitions from /home/jovyan/InputData/y_142.h5\n",
      "Started reading acquisitions from /home/jovyan/InputData/y_143.h5\n",
      "0%..10%..20%..30%..40%..50%..60%..70%..80%..90%..99%..\n",
      "Finished reading acquisitions from /home/jovyan/InputData/y_143.h5\n",
      "Started reading acquisitions from /home/jovyan/InputData/y_144.h5\n",
      "0%..10%..20%..30%..40%..50%..60%..70%..80%..90%..99%..\n",
      "Finished reading acquisitions from /home/jovyan/InputData/y_144.h5\n"
     ]
    },
    {
     "name": "stderr",
     "output_type": "stream",
     "text": [
      " 17%|█▋        | 54/325 [00:07<00:36,  7.41it/s]"
     ]
    },
    {
     "name": "stdout",
     "output_type": "stream",
     "text": [
      "Started reading acquisitions from /home/jovyan/InputData/y_145.h5\n",
      "0%..10%..20%..30%..40%..50%..60%..70%..80%..90%..99%..\n",
      "Finished reading acquisitions from /home/jovyan/InputData/y_145.h5\n",
      "Started reading acquisitions from /home/jovyan/InputData/y_146.h5\n",
      "0%..10%..20%..30%..40%..50%..60%..70%..80%..90%..99%..\n",
      "Finished reading acquisitions from /home/jovyan/InputData/y_146.h5\n",
      "Started reading acquisitions from /home/jovyan/InputData/y_147.h5\n",
      "0%..10%..20%..30%..40%..50%..60%..70%..80%..90%..99%..\n",
      "Finished reading acquisitions from /home/jovyan/InputData/y_147.h5\n"
     ]
    },
    {
     "name": "stderr",
     "output_type": "stream",
     "text": [
      " 18%|█▊        | 57/325 [00:08<00:35,  7.45it/s]"
     ]
    },
    {
     "name": "stdout",
     "output_type": "stream",
     "text": [
      "Started reading acquisitions from /home/jovyan/InputData/y_148.h5\n",
      "0%..10%..20%..30%..40%..50%..60%..70%..80%..90%..99%..\n",
      "Finished reading acquisitions from /home/jovyan/InputData/y_148.h5\n",
      "Started reading acquisitions from /home/jovyan/InputData/y_149.h5\n",
      "0%..10%..20%..30%..40%..50%..60%..70%..80%..90%..99%..\n",
      "Finished reading acquisitions from /home/jovyan/InputData/y_149.h5\n",
      "Started reading acquisitions from /home/jovyan/InputData/y_15.h5\n",
      "0%..10%..20%..30%..40%..50%..60%..70%..80%..90%..99%..\n",
      "Finished reading acquisitions from /home/jovyan/InputData/y_15.h5\n"
     ]
    },
    {
     "name": "stderr",
     "output_type": "stream",
     "text": [
      " 18%|█▊        | 60/325 [00:08<00:36,  7.35it/s]"
     ]
    },
    {
     "name": "stdout",
     "output_type": "stream",
     "text": [
      "Started reading acquisitions from /home/jovyan/InputData/y_150.h5\n",
      "0%..10%..20%..30%..40%..50%..60%..70%..80%..90%..99%..\n",
      "Finished reading acquisitions from /home/jovyan/InputData/y_150.h5\n",
      "Started reading acquisitions from /home/jovyan/InputData/y_151.h5\n",
      "0%..10%..20%..30%..40%..50%..60%..70%..80%..90%..99%..\n",
      "Finished reading acquisitions from /home/jovyan/InputData/y_151.h5\n",
      "Started reading acquisitions from /home/jovyan/InputData/y_152.h5\n",
      "0%..10%..20%..30%..40%..50%..60%..70%..80%..90%..99%..\n",
      "Finished reading acquisitions from /home/jovyan/InputData/y_152.h5\n"
     ]
    },
    {
     "name": "stderr",
     "output_type": "stream",
     "text": [
      " 19%|█▉        | 63/325 [00:08<00:36,  7.13it/s]"
     ]
    },
    {
     "name": "stdout",
     "output_type": "stream",
     "text": [
      "Started reading acquisitions from /home/jovyan/InputData/y_153.h5\n",
      "0%..10%..20%..30%..40%..50%..60%..70%..80%..90%..99%..\n",
      "Finished reading acquisitions from /home/jovyan/InputData/y_153.h5\n",
      "Started reading acquisitions from /home/jovyan/InputData/y_154.h5\n",
      "0%..10%..20%..30%..40%..50%..60%..70%..80%..90%..99%..\n",
      "Finished reading acquisitions from /home/jovyan/InputData/y_154.h5\n",
      "Started reading acquisitions from /home/jovyan/InputData/y_155.h5\n",
      "0%..10%..20%..30%..40%..50%..60%..70%..80%..90%..99%..\n",
      "Finished reading acquisitions from /home/jovyan/InputData/y_155.h5\n"
     ]
    },
    {
     "name": "stderr",
     "output_type": "stream",
     "text": [
      " 20%|██        | 66/325 [00:09<00:34,  7.46it/s]"
     ]
    },
    {
     "name": "stdout",
     "output_type": "stream",
     "text": [
      "Started reading acquisitions from /home/jovyan/InputData/y_156.h5\n",
      "0%..10%..20%..30%..40%..50%..60%..70%..80%..90%..99%..\n",
      "Finished reading acquisitions from /home/jovyan/InputData/y_156.h5\n",
      "Started reading acquisitions from /home/jovyan/InputData/y_157.h5\n",
      "0%..10%..20%..30%..40%..50%..60%..70%..80%..90%..99%..\n",
      "Finished reading acquisitions from /home/jovyan/InputData/y_157.h5\n",
      "Started reading acquisitions from /home/jovyan/InputData/y_158.h5\n",
      "0%..10%..20%..30%..40%..50%..60%..70%..80%..90%..99%..\n",
      "Finished reading acquisitions from /home/jovyan/InputData/y_158.h5\n"
     ]
    },
    {
     "name": "stderr",
     "output_type": "stream",
     "text": [
      " 21%|██        | 69/325 [00:09<00:34,  7.43it/s]"
     ]
    },
    {
     "name": "stdout",
     "output_type": "stream",
     "text": [
      "Started reading acquisitions from /home/jovyan/InputData/y_159.h5\n",
      "0%..10%..20%..30%..40%..50%..60%..70%..80%..90%..99%..\n",
      "Finished reading acquisitions from /home/jovyan/InputData/y_159.h5\n",
      "Started reading acquisitions from /home/jovyan/InputData/y_16.h5\n",
      "0%..10%..20%..30%..40%..50%..60%..70%..80%..90%..99%..\n",
      "Finished reading acquisitions from /home/jovyan/InputData/y_16.h5\n"
     ]
    },
    {
     "name": "stderr",
     "output_type": "stream",
     "text": [
      " 22%|██▏       | 71/325 [00:09<00:34,  7.44it/s]"
     ]
    },
    {
     "name": "stdout",
     "output_type": "stream",
     "text": [
      "Started reading acquisitions from /home/jovyan/InputData/y_160.h5\n",
      "0%..10%..20%..30%..40%..50%..60%..70%..80%..90%..99%..\n",
      "Finished reading acquisitions from /home/jovyan/InputData/y_160.h5\n",
      "Started reading acquisitions from /home/jovyan/InputData/y_161.h5\n",
      "0%..10%..20%..30%..40%..50%..60%..70%..80%..90%..99%..\n",
      "Finished reading acquisitions from /home/jovyan/InputData/y_161.h5\n",
      "Started reading acquisitions from /home/jovyan/InputData/y_162.h5\n",
      "0%..10%..20%..30%..40%..50%..60%..70%..80%..90%..99%..\n",
      "Finished reading acquisitions from /home/jovyan/InputData/y_162.h5\n"
     ]
    },
    {
     "name": "stderr",
     "output_type": "stream",
     "text": [
      " 23%|██▎       | 74/325 [00:10<00:34,  7.29it/s]"
     ]
    },
    {
     "name": "stdout",
     "output_type": "stream",
     "text": [
      "Started reading acquisitions from /home/jovyan/InputData/y_163.h5\n",
      "0%..10%..20%..30%..40%..50%..60%..70%..80%..90%..99%..\n",
      "Finished reading acquisitions from /home/jovyan/InputData/y_163.h5\n",
      "Started reading acquisitions from /home/jovyan/InputData/y_164.h5\n",
      "0%..10%..20%..30%..40%..50%..60%..70%..80%..90%..99%..\n",
      "Finished reading acquisitions from /home/jovyan/InputData/y_164.h5\n",
      "Started reading acquisitions from /home/jovyan/InputData/y_165.h5\n",
      "0%..10%..20%..30%..40%..50%..60%..70%..80%..90%..99%..\n",
      "Finished reading acquisitions from /home/jovyan/InputData/y_165.h5\n"
     ]
    },
    {
     "name": "stderr",
     "output_type": "stream",
     "text": [
      " 24%|██▎       | 77/325 [00:10<00:34,  7.27it/s]"
     ]
    },
    {
     "name": "stdout",
     "output_type": "stream",
     "text": [
      "Started reading acquisitions from /home/jovyan/InputData/y_166.h5\n",
      "0%..10%..20%..30%..40%..50%..60%..70%..80%..90%..99%..\n",
      "Finished reading acquisitions from /home/jovyan/InputData/y_166.h5\n",
      "Started reading acquisitions from /home/jovyan/InputData/y_167.h5\n",
      "0%..10%..20%..30%..40%..50%..60%..70%..80%..90%..99%..\n",
      "Finished reading acquisitions from /home/jovyan/InputData/y_167.h5\n"
     ]
    },
    {
     "name": "stderr",
     "output_type": "stream",
     "text": [
      " 24%|██▍       | 79/325 [00:11<00:33,  7.30it/s]"
     ]
    },
    {
     "name": "stdout",
     "output_type": "stream",
     "text": [
      "Started reading acquisitions from /home/jovyan/InputData/y_168.h5\n",
      "0%..10%..20%..30%..40%..50%..60%..70%..80%..90%..99%..\n",
      "Finished reading acquisitions from /home/jovyan/InputData/y_168.h5\n",
      "Started reading acquisitions from /home/jovyan/InputData/y_169.h5\n",
      "0%..10%..20%..30%..40%..50%..60%..70%..80%..90%..99%..\n",
      "Finished reading acquisitions from /home/jovyan/InputData/y_169.h5\n",
      "Started reading acquisitions from /home/jovyan/InputData/y_17.h5\n",
      "0%..10%..20%..30%..40%..50%..60%..70%..80%..90%..99%..\n",
      "Finished reading acquisitions from /home/jovyan/InputData/y_17.h5\n"
     ]
    },
    {
     "name": "stderr",
     "output_type": "stream",
     "text": [
      " 25%|██▍       | 81/325 [00:11<00:33,  7.31it/s]"
     ]
    },
    {
     "name": "stdout",
     "output_type": "stream",
     "text": [
      "Started reading acquisitions from /home/jovyan/InputData/y_170.h5\n",
      "0%..10%..20%..30%..40%..50%..60%..70%..80%..90%..99%..\n",
      "Finished reading acquisitions from /home/jovyan/InputData/y_170.h5\n",
      "Started reading acquisitions from /home/jovyan/InputData/y_171.h5\n",
      "0%..10%..20%..30%..40%..50%..60%..70%..80%..90%..99%..\n",
      "Finished reading acquisitions from /home/jovyan/InputData/y_171.h5\n"
     ]
    },
    {
     "name": "stderr",
     "output_type": "stream",
     "text": [
      " 26%|██▌       | 83/325 [00:11<00:32,  7.38it/s]"
     ]
    },
    {
     "name": "stdout",
     "output_type": "stream",
     "text": [
      "Started reading acquisitions from /home/jovyan/InputData/y_172.h5\n",
      "0%..10%..20%..30%..40%..50%..60%..70%..80%..90%..99%..\n",
      "Finished reading acquisitions from /home/jovyan/InputData/y_172.h5\n",
      "Started reading acquisitions from /home/jovyan/InputData/y_173.h5\n",
      "0%..10%..20%..30%..40%..50%..60%..70%..80%..90%..99%..\n",
      "Finished reading acquisitions from /home/jovyan/InputData/y_173.h5\n"
     ]
    },
    {
     "name": "stderr",
     "output_type": "stream",
     "text": [
      " 26%|██▌       | 85/325 [00:12<00:44,  5.37it/s]"
     ]
    },
    {
     "name": "stdout",
     "output_type": "stream",
     "text": [
      "Started reading acquisitions from /home/jovyan/InputData/y_174.h5\n",
      "0%..10%..20%..30%..40%..50%..60%..70%..80%..90%..99%..\n",
      "Finished reading acquisitions from /home/jovyan/InputData/y_174.h5\n",
      "Started reading acquisitions from /home/jovyan/InputData/y_175.h5\n",
      "0%..10%..20%..30%..40%..50%..60%..70%..80%..90%..99%..\n",
      "Finished reading acquisitions from /home/jovyan/InputData/y_175.h5\n"
     ]
    },
    {
     "name": "stderr",
     "output_type": "stream",
     "text": [
      " 27%|██▋       | 88/325 [00:12<00:39,  5.97it/s]"
     ]
    },
    {
     "name": "stdout",
     "output_type": "stream",
     "text": [
      "Started reading acquisitions from /home/jovyan/InputData/y_176.h5\n",
      "0%..10%..20%..30%..40%..50%..60%..70%..80%..90%..99%..\n",
      "Finished reading acquisitions from /home/jovyan/InputData/y_176.h5\n",
      "Started reading acquisitions from /home/jovyan/InputData/y_177.h5\n",
      "0%..10%..20%..30%..40%..50%..60%..70%..80%..90%..99%..\n",
      "Finished reading acquisitions from /home/jovyan/InputData/y_177.h5\n",
      "Started reading acquisitions from /home/jovyan/InputData/y_178.h5\n",
      "0%..10%..20%..30%..40%..50%..60%..70%..80%..90%..99%..\n",
      "Finished reading acquisitions from /home/jovyan/InputData/y_178.h5\n"
     ]
    },
    {
     "name": "stderr",
     "output_type": "stream",
     "text": [
      " 28%|██▊       | 91/325 [00:12<00:34,  6.79it/s]"
     ]
    },
    {
     "name": "stdout",
     "output_type": "stream",
     "text": [
      "Started reading acquisitions from /home/jovyan/InputData/y_179.h5\n",
      "0%..10%..20%..30%..40%..50%..60%..70%..80%..90%..99%..\n",
      "Finished reading acquisitions from /home/jovyan/InputData/y_179.h5\n",
      "Started reading acquisitions from /home/jovyan/InputData/y_18.h5\n",
      "0%..10%..20%..30%..40%..50%..60%..70%..80%..90%..99%..\n",
      "Finished reading acquisitions from /home/jovyan/InputData/y_18.h5\n"
     ]
    },
    {
     "name": "stderr",
     "output_type": "stream",
     "text": [
      " 29%|██▊       | 93/325 [00:13<00:32,  7.13it/s]"
     ]
    },
    {
     "name": "stdout",
     "output_type": "stream",
     "text": [
      "Started reading acquisitions from /home/jovyan/InputData/y_180.h5\n",
      "0%..10%..20%..30%..40%..50%..60%..70%..80%..90%..99%..\n",
      "Finished reading acquisitions from /home/jovyan/InputData/y_180.h5\n",
      "Started reading acquisitions from /home/jovyan/InputData/y_181.h5\n",
      "0%..10%..20%..30%..40%..50%..60%..70%..80%..90%..99%..\n",
      "Finished reading acquisitions from /home/jovyan/InputData/y_181.h5\n",
      "Started reading acquisitions from /home/jovyan/InputData/y_182.h5\n"
     ]
    },
    {
     "name": "stderr",
     "output_type": "stream",
     "text": [
      " 29%|██▉       | 94/325 [00:13<00:32,  7.13it/s]"
     ]
    },
    {
     "name": "stdout",
     "output_type": "stream",
     "text": [
      "0%..10%..20%..30%..40%..50%..60%..70%..80%..90%..99%..\n",
      "Finished reading acquisitions from /home/jovyan/InputData/y_182.h5\n",
      "Started reading acquisitions from /home/jovyan/InputData/y_183.h5\n",
      "0%..10%..20%..30%..40%..50%..60%..70%..80%..90%..99%..\n",
      "Finished reading acquisitions from /home/jovyan/InputData/y_183.h5\n"
     ]
    },
    {
     "name": "stderr",
     "output_type": "stream",
     "text": [
      " 30%|██▉       | 96/325 [00:13<00:40,  5.64it/s]"
     ]
    },
    {
     "name": "stdout",
     "output_type": "stream",
     "text": [
      "Started reading acquisitions from /home/jovyan/InputData/y_184.h5\n",
      "0%..10%..20%..30%..40%..50%..60%..70%..80%..90%..99%..\n",
      "Finished reading acquisitions from /home/jovyan/InputData/y_184.h5\n",
      "Started reading acquisitions from /home/jovyan/InputData/y_185.h5\n",
      "0%..10%..20%..30%..40%..50%..60%..70%..80%..90%..99%..\n",
      "Finished reading acquisitions from /home/jovyan/InputData/y_185.h5\n"
     ]
    },
    {
     "name": "stderr",
     "output_type": "stream",
     "text": [
      " 30%|███       | 98/325 [00:14<00:45,  4.97it/s]"
     ]
    },
    {
     "name": "stdout",
     "output_type": "stream",
     "text": [
      "Started reading acquisitions from /home/jovyan/InputData/y_186.h5\n",
      "0%..10%..20%..30%..40%..50%..60%..70%..80%..90%..99%..\n",
      "Finished reading acquisitions from /home/jovyan/InputData/y_186.h5\n",
      "Started reading acquisitions from /home/jovyan/InputData/y_187.h5\n",
      "0%..10%..20%..30%..40%..50%..60%..70%..80%..90%..99%..\n",
      "Finished reading acquisitions from /home/jovyan/InputData/y_187.h5\n"
     ]
    },
    {
     "name": "stderr",
     "output_type": "stream",
     "text": [
      " 31%|███       | 101/325 [00:14<00:37,  6.03it/s]"
     ]
    },
    {
     "name": "stdout",
     "output_type": "stream",
     "text": [
      "Started reading acquisitions from /home/jovyan/InputData/y_188.h5\n",
      "0%..10%..20%..30%..40%..50%..60%..70%..80%..90%..99%..\n",
      "Finished reading acquisitions from /home/jovyan/InputData/y_188.h5\n",
      "Started reading acquisitions from /home/jovyan/InputData/y_189.h5\n",
      "0%..10%..20%..30%..40%..50%..60%..70%..80%..90%..99%..\n",
      "Finished reading acquisitions from /home/jovyan/InputData/y_189.h5\n",
      "Started reading acquisitions from /home/jovyan/InputData/y_19.h5\n",
      "0%..10%..20%..30%..40%..50%..60%..70%..80%..90%..99%..\n",
      "Finished reading acquisitions from /home/jovyan/InputData/y_19.h5\n"
     ]
    },
    {
     "name": "stderr",
     "output_type": "stream",
     "text": [
      " 32%|███▏      | 104/325 [00:15<00:31,  6.99it/s]"
     ]
    },
    {
     "name": "stdout",
     "output_type": "stream",
     "text": [
      "Started reading acquisitions from /home/jovyan/InputData/y_190.h5\n",
      "0%..10%..20%..30%..40%..50%..60%..70%..80%..90%..99%..\n",
      "Finished reading acquisitions from /home/jovyan/InputData/y_190.h5\n",
      "Started reading acquisitions from /home/jovyan/InputData/y_191.h5\n",
      "0%..10%..20%..30%..40%..50%..60%..70%..80%..90%..99%..\n",
      "Finished reading acquisitions from /home/jovyan/InputData/y_191.h5\n",
      "Started reading acquisitions from /home/jovyan/InputData/y_192.h5\n"
     ]
    },
    {
     "name": "stderr",
     "output_type": "stream",
     "text": [
      " 32%|███▏      | 105/325 [00:15<00:31,  7.09it/s]"
     ]
    },
    {
     "name": "stdout",
     "output_type": "stream",
     "text": [
      "0%..10%..20%..30%..40%..50%..60%..70%..80%..90%..99%..\n",
      "Finished reading acquisitions from /home/jovyan/InputData/y_192.h5\n",
      "Started reading acquisitions from /home/jovyan/InputData/y_193.h5\n",
      "0%..10%..20%..30%..40%..50%..60%..70%..80%..90%..99%..\n",
      "Finished reading acquisitions from /home/jovyan/InputData/y_193.h5\n"
     ]
    },
    {
     "name": "stderr",
     "output_type": "stream",
     "text": [
      " 33%|███▎      | 108/325 [00:15<00:33,  6.41it/s]"
     ]
    },
    {
     "name": "stdout",
     "output_type": "stream",
     "text": [
      "Started reading acquisitions from /home/jovyan/InputData/y_194.h5\n",
      "0%..10%..20%..30%..40%..50%..60%..70%..80%..90%..99%..\n",
      "Finished reading acquisitions from /home/jovyan/InputData/y_194.h5\n",
      "Started reading acquisitions from /home/jovyan/InputData/y_195.h5\n",
      "0%..10%..20%..30%..40%..50%..60%..70%..80%..90%..99%..\n",
      "Finished reading acquisitions from /home/jovyan/InputData/y_195.h5\n"
     ]
    },
    {
     "name": "stderr",
     "output_type": "stream",
     "text": [
      " 34%|███▍      | 110/325 [00:16<00:31,  6.87it/s]"
     ]
    },
    {
     "name": "stdout",
     "output_type": "stream",
     "text": [
      "Started reading acquisitions from /home/jovyan/InputData/y_196.h5\n",
      "0%..10%..20%..30%..40%..50%..60%..70%..80%..90%..99%..\n",
      "Finished reading acquisitions from /home/jovyan/InputData/y_196.h5\n",
      "Started reading acquisitions from /home/jovyan/InputData/y_197.h5\n",
      "0%..10%..20%..30%..40%..50%..60%..70%..80%..90%..99%..\n",
      "Finished reading acquisitions from /home/jovyan/InputData/y_197.h5\n"
     ]
    },
    {
     "name": "stderr",
     "output_type": "stream",
     "text": [
      " 34%|███▍      | 112/325 [00:16<00:30,  6.94it/s]"
     ]
    },
    {
     "name": "stdout",
     "output_type": "stream",
     "text": [
      "Started reading acquisitions from /home/jovyan/InputData/y_198.h5\n",
      "0%..10%..20%..30%..40%..50%..60%..70%..80%..90%..99%..\n",
      "Finished reading acquisitions from /home/jovyan/InputData/y_198.h5\n",
      "Started reading acquisitions from /home/jovyan/InputData/y_199.h5\n",
      "0%..10%..20%..30%..40%..50%..60%..70%..80%..90%..99%..\n",
      "Finished reading acquisitions from /home/jovyan/InputData/y_199.h5\n"
     ]
    },
    {
     "name": "stderr",
     "output_type": "stream",
     "text": [
      " 35%|███▌      | 114/325 [00:16<00:29,  7.11it/s]"
     ]
    },
    {
     "name": "stdout",
     "output_type": "stream",
     "text": [
      "Started reading acquisitions from /home/jovyan/InputData/y_2.h5\n",
      "0%..10%..20%..30%..40%..50%..60%..70%..80%..90%..99%..\n",
      "Finished reading acquisitions from /home/jovyan/InputData/y_2.h5\n",
      "Started reading acquisitions from /home/jovyan/InputData/y_20.h5\n",
      "0%..10%..20%..30%..40%..50%..60%..70%..80%..90%..99%..\n",
      "Finished reading acquisitions from /home/jovyan/InputData/y_20.h5\n",
      "Started reading acquisitions from /home/jovyan/InputData/y_200.h5\n",
      "0%..10%..20%..30%..40%..50%..60%..70%..80%..90%..99%..\n",
      "Finished reading acquisitions from /home/jovyan/InputData/y_200.h5\n"
     ]
    },
    {
     "name": "stderr",
     "output_type": "stream",
     "text": [
      " 36%|███▌      | 117/325 [00:16<00:28,  7.25it/s]"
     ]
    },
    {
     "name": "stdout",
     "output_type": "stream",
     "text": [
      "Started reading acquisitions from /home/jovyan/InputData/y_201.h5\n",
      "0%..10%..20%..30%..40%..50%..60%..70%..80%..90%..99%..\n",
      "Finished reading acquisitions from /home/jovyan/InputData/y_201.h5\n",
      "Started reading acquisitions from /home/jovyan/InputData/y_202.h5\n",
      "0%..10%..20%..30%..40%..50%..60%..70%..80%..90%..99%..\n",
      "Finished reading acquisitions from /home/jovyan/InputData/y_202.h5\n",
      "Started reading acquisitions from /home/jovyan/InputData/y_203.h5\n",
      "0%..10%..20%..30%..40%..50%..60%..70%..80%..90%..99%..\n",
      "Finished reading acquisitions from /home/jovyan/InputData/y_203.h5\n"
     ]
    },
    {
     "name": "stderr",
     "output_type": "stream",
     "text": [
      " 37%|███▋      | 119/325 [00:17<00:34,  6.01it/s]"
     ]
    },
    {
     "name": "stdout",
     "output_type": "stream",
     "text": [
      "Started reading acquisitions from /home/jovyan/InputData/y_204.h5\n",
      "0%..10%..20%..30%..40%..50%..60%..70%..80%..90%..99%..\n",
      "Finished reading acquisitions from /home/jovyan/InputData/y_204.h5\n",
      "Started reading acquisitions from /home/jovyan/InputData/y_205.h5\n",
      "0%..10%..20%..30%..40%..50%..60%..70%..80%..90%..99%..\n",
      "Finished reading acquisitions from /home/jovyan/InputData/y_205.h5\n"
     ]
    },
    {
     "name": "stderr",
     "output_type": "stream",
     "text": [
      " 37%|███▋      | 121/325 [00:17<00:38,  5.36it/s]"
     ]
    },
    {
     "name": "stdout",
     "output_type": "stream",
     "text": [
      "Started reading acquisitions from /home/jovyan/InputData/y_206.h5\n",
      "0%..10%..20%..30%..40%..50%..60%..70%..80%..90%..99%..\n",
      "Finished reading acquisitions from /home/jovyan/InputData/y_206.h5\n",
      "Started reading acquisitions from /home/jovyan/InputData/y_207.h5\n",
      "0%..10%..20%..30%..40%..50%..60%..70%..80%..90%..99%..\n",
      "Finished reading acquisitions from /home/jovyan/InputData/y_207.h5\n"
     ]
    },
    {
     "name": "stderr",
     "output_type": "stream",
     "text": [
      " 38%|███▊      | 124/325 [00:18<00:33,  6.07it/s]"
     ]
    },
    {
     "name": "stdout",
     "output_type": "stream",
     "text": [
      "Started reading acquisitions from /home/jovyan/InputData/y_208.h5\n",
      "0%..10%..20%..30%..40%..50%..60%..70%..80%..90%..99%..\n",
      "Finished reading acquisitions from /home/jovyan/InputData/y_208.h5\n",
      "Started reading acquisitions from /home/jovyan/InputData/y_209.h5\n",
      "0%..10%..20%..30%..40%..50%..60%..70%..80%..90%..99%..\n",
      "Finished reading acquisitions from /home/jovyan/InputData/y_209.h5\n",
      "Started reading acquisitions from /home/jovyan/InputData/y_21.h5\n",
      "0%..10%..20%..30%..40%..50%..60%..70%..80%..90%..99%..\n",
      "Finished reading acquisitions from /home/jovyan/InputData/y_21.h5\n"
     ]
    },
    {
     "name": "stderr",
     "output_type": "stream",
     "text": [
      " 39%|███▉      | 126/325 [00:18<00:32,  6.04it/s]"
     ]
    },
    {
     "name": "stdout",
     "output_type": "stream",
     "text": [
      "Started reading acquisitions from /home/jovyan/InputData/y_210.h5\n",
      "0%..10%..20%..30%..40%..50%..60%..70%..80%..90%..99%..\n",
      "Finished reading acquisitions from /home/jovyan/InputData/y_210.h5\n",
      "Started reading acquisitions from /home/jovyan/InputData/y_211.h5\n",
      "0%..10%..20%..30%..40%..50%..60%..70%..80%..90%..99%..\n",
      "Finished reading acquisitions from /home/jovyan/InputData/y_211.h5\n"
     ]
    },
    {
     "name": "stderr",
     "output_type": "stream",
     "text": [
      " 39%|███▉      | 128/325 [00:18<00:37,  5.32it/s]"
     ]
    },
    {
     "name": "stdout",
     "output_type": "stream",
     "text": [
      "Started reading acquisitions from /home/jovyan/InputData/y_212.h5\n",
      "0%..10%..20%..30%..40%..50%..60%..70%..80%..90%..99%..\n",
      "Finished reading acquisitions from /home/jovyan/InputData/y_212.h5\n",
      "Started reading acquisitions from /home/jovyan/InputData/y_213.h5\n",
      "0%..10%..20%..30%..40%..50%..60%..70%..80%..90%..99%..\n",
      "Finished reading acquisitions from /home/jovyan/InputData/y_213.h5\n"
     ]
    },
    {
     "name": "stderr",
     "output_type": "stream",
     "text": [
      " 40%|████      | 131/325 [00:19<00:32,  6.02it/s]"
     ]
    },
    {
     "name": "stdout",
     "output_type": "stream",
     "text": [
      "Started reading acquisitions from /home/jovyan/InputData/y_214.h5\n",
      "0%..10%..20%..30%..40%..50%..60%..70%..80%..90%..99%..\n",
      "Finished reading acquisitions from /home/jovyan/InputData/y_214.h5\n",
      "Started reading acquisitions from /home/jovyan/InputData/y_215.h5\n",
      "0%..10%..20%..30%..40%..50%..60%..70%..80%..90%..99%..\n",
      "Finished reading acquisitions from /home/jovyan/InputData/y_215.h5\n",
      "Started reading acquisitions from /home/jovyan/InputData/y_216.h5\n",
      "0%..10%..20%..30%..40%..50%..60%..70%..80%..90%..99%..\n",
      "Finished reading acquisitions from /home/jovyan/InputData/y_216.h5\n"
     ]
    },
    {
     "name": "stderr",
     "output_type": "stream",
     "text": [
      " 41%|████      | 134/325 [00:19<00:27,  6.89it/s]"
     ]
    },
    {
     "name": "stdout",
     "output_type": "stream",
     "text": [
      "Started reading acquisitions from /home/jovyan/InputData/y_217.h5\n",
      "0%..10%..20%..30%..40%..50%..60%..70%..80%..90%..99%..\n",
      "Finished reading acquisitions from /home/jovyan/InputData/y_217.h5\n",
      "Started reading acquisitions from /home/jovyan/InputData/y_218.h5\n",
      "0%..10%..20%..30%..40%..50%..60%..70%..80%..90%..99%..\n",
      "Finished reading acquisitions from /home/jovyan/InputData/y_218.h5\n",
      "Started reading acquisitions from /home/jovyan/InputData/y_219.h5\n",
      "0%..10%..20%..30%..40%..50%..60%..70%..80%..90%..99%..\n",
      "Finished reading acquisitions from /home/jovyan/InputData/y_219.h5\n"
     ]
    },
    {
     "name": "stderr",
     "output_type": "stream",
     "text": [
      " 42%|████▏     | 136/325 [00:20<00:26,  7.08it/s]"
     ]
    },
    {
     "name": "stdout",
     "output_type": "stream",
     "text": [
      "Started reading acquisitions from /home/jovyan/InputData/y_22.h5\n",
      "0%..10%..20%..30%..40%..50%..60%..70%..80%..90%..99%..\n",
      "Finished reading acquisitions from /home/jovyan/InputData/y_22.h5\n",
      "Started reading acquisitions from /home/jovyan/InputData/y_220.h5\n",
      "0%..10%..20%..30%..40%..50%..60%..70%..80%..90%..99%..\n",
      "Finished reading acquisitions from /home/jovyan/InputData/y_220.h5\n"
     ]
    },
    {
     "name": "stderr",
     "output_type": "stream",
     "text": [
      " 42%|████▏     | 138/325 [00:20<00:34,  5.45it/s]"
     ]
    },
    {
     "name": "stdout",
     "output_type": "stream",
     "text": [
      "Started reading acquisitions from /home/jovyan/InputData/y_221.h5\n",
      "0%..10%..20%..30%..40%..50%..60%..70%..80%..90%..99%..\n",
      "Finished reading acquisitions from /home/jovyan/InputData/y_221.h5\n",
      "Started reading acquisitions from /home/jovyan/InputData/y_222.h5\n",
      "0%..10%..20%..30%..40%..50%..60%..70%..80%..90%..99%..\n",
      "Finished reading acquisitions from /home/jovyan/InputData/y_222.h5\n"
     ]
    },
    {
     "name": "stderr",
     "output_type": "stream",
     "text": [
      " 43%|████▎     | 141/325 [00:21<00:34,  5.36it/s]"
     ]
    },
    {
     "name": "stdout",
     "output_type": "stream",
     "text": [
      "Started reading acquisitions from /home/jovyan/InputData/y_223.h5\n",
      "0%..10%..20%..30%..40%..50%..60%..70%..80%..90%..99%..\n",
      "Finished reading acquisitions from /home/jovyan/InputData/y_223.h5\n",
      "Started reading acquisitions from /home/jovyan/InputData/y_224.h5\n",
      "0%..10%..20%..30%..40%..50%..60%..70%..80%..90%..99%..\n",
      "Finished reading acquisitions from /home/jovyan/InputData/y_224.h5\n",
      "Started reading acquisitions from /home/jovyan/InputData/y_225.h5\n",
      "0%..10%..20%..30%..40%..50%..60%..70%..80%..90%..99%..\n",
      "Finished reading acquisitions from /home/jovyan/InputData/y_225.h5\n"
     ]
    },
    {
     "name": "stderr",
     "output_type": "stream",
     "text": [
      " 44%|████▍     | 144/325 [00:21<00:27,  6.61it/s]"
     ]
    },
    {
     "name": "stdout",
     "output_type": "stream",
     "text": [
      "Started reading acquisitions from /home/jovyan/InputData/y_226.h5\n",
      "0%..10%..20%..30%..40%..50%..60%..70%..80%..90%..99%..\n",
      "Finished reading acquisitions from /home/jovyan/InputData/y_226.h5\n",
      "Started reading acquisitions from /home/jovyan/InputData/y_227.h5\n",
      "0%..10%..20%..30%..40%..50%..60%..70%..80%..90%..99%..\n",
      "Finished reading acquisitions from /home/jovyan/InputData/y_227.h5\n",
      "Started reading acquisitions from /home/jovyan/InputData/y_228.h5\n",
      "0%..10%..20%..30%..40%..50%..60%..70%..80%..90%..99%..\n",
      "Finished reading acquisitions from /home/jovyan/InputData/y_228.h5\n"
     ]
    },
    {
     "name": "stderr",
     "output_type": "stream",
     "text": [
      " 45%|████▍     | 146/325 [00:21<00:25,  7.02it/s]"
     ]
    },
    {
     "name": "stdout",
     "output_type": "stream",
     "text": [
      "Started reading acquisitions from /home/jovyan/InputData/y_229.h5\n",
      "0%..10%..20%..30%..40%..50%..60%..70%..80%..90%..99%..\n",
      "Finished reading acquisitions from /home/jovyan/InputData/y_229.h5\n",
      "Started reading acquisitions from /home/jovyan/InputData/y_23.h5\n",
      "0%..10%..20%..30%..40%..50%..60%..70%..80%..90%..99%..\n",
      "Finished reading acquisitions from /home/jovyan/InputData/y_23.h5\n"
     ]
    },
    {
     "name": "stderr",
     "output_type": "stream",
     "text": [
      " 46%|████▌     | 148/325 [00:22<00:33,  5.34it/s]"
     ]
    },
    {
     "name": "stdout",
     "output_type": "stream",
     "text": [
      "Started reading acquisitions from /home/jovyan/InputData/y_230.h5\n",
      "0%..10%..20%..30%..40%..50%..60%..70%..80%..90%..99%..\n",
      "Finished reading acquisitions from /home/jovyan/InputData/y_230.h5\n",
      "Started reading acquisitions from /home/jovyan/InputData/y_231.h5\n",
      "0%..10%..20%..30%..40%..50%..60%..70%..80%..90%..99%..\n",
      "Finished reading acquisitions from /home/jovyan/InputData/y_231.h5\n"
     ]
    },
    {
     "name": "stderr",
     "output_type": "stream",
     "text": [
      " 46%|████▋     | 151/325 [00:22<00:28,  6.05it/s]"
     ]
    },
    {
     "name": "stdout",
     "output_type": "stream",
     "text": [
      "Started reading acquisitions from /home/jovyan/InputData/y_232.h5\n",
      "0%..10%..20%..30%..40%..50%..60%..70%..80%..90%..99%..\n",
      "Finished reading acquisitions from /home/jovyan/InputData/y_232.h5\n",
      "Started reading acquisitions from /home/jovyan/InputData/y_233.h5\n",
      "0%..10%..20%..30%..40%..50%..60%..70%..80%..90%..99%..\n",
      "Finished reading acquisitions from /home/jovyan/InputData/y_233.h5\n"
     ]
    },
    {
     "name": "stderr",
     "output_type": "stream",
     "text": [
      " 47%|████▋     | 153/325 [00:23<00:25,  6.76it/s]"
     ]
    },
    {
     "name": "stdout",
     "output_type": "stream",
     "text": [
      "Started reading acquisitions from /home/jovyan/InputData/y_234.h5\n",
      "0%..10%..20%..30%..40%..50%..60%..70%..80%..90%..99%..\n",
      "Finished reading acquisitions from /home/jovyan/InputData/y_234.h5\n",
      "Started reading acquisitions from /home/jovyan/InputData/y_235.h5\n",
      "0%..10%..20%..30%..40%..50%..60%..70%..80%..90%..99%..\n",
      "Finished reading acquisitions from /home/jovyan/InputData/y_235.h5\n",
      "Started reading acquisitions from /home/jovyan/InputData/y_236.h5\n",
      "0%..10%..20%..30%..40%..50%..60%..70%..80%..90%..99%..\n",
      "Finished reading acquisitions from /home/jovyan/InputData/y_236.h5\n"
     ]
    },
    {
     "name": "stderr",
     "output_type": "stream",
     "text": [
      " 48%|████▊     | 156/325 [00:23<00:23,  7.25it/s]"
     ]
    },
    {
     "name": "stdout",
     "output_type": "stream",
     "text": [
      "Started reading acquisitions from /home/jovyan/InputData/y_237.h5\n",
      "0%..10%..20%..30%..40%..50%..60%..70%..80%..90%..99%..\n",
      "Finished reading acquisitions from /home/jovyan/InputData/y_237.h5\n",
      "Started reading acquisitions from /home/jovyan/InputData/y_238.h5\n",
      "0%..10%..20%..30%..40%..50%..60%..70%..80%..90%..99%..\n",
      "Finished reading acquisitions from /home/jovyan/InputData/y_238.h5\n"
     ]
    },
    {
     "name": "stderr",
     "output_type": "stream",
     "text": [
      " 49%|████▊     | 158/325 [00:23<00:22,  7.34it/s]"
     ]
    },
    {
     "name": "stdout",
     "output_type": "stream",
     "text": [
      "Started reading acquisitions from /home/jovyan/InputData/y_239.h5\n",
      "0%..10%..20%..30%..40%..50%..60%..70%..80%..90%..99%..\n",
      "Finished reading acquisitions from /home/jovyan/InputData/y_239.h5\n",
      "Started reading acquisitions from /home/jovyan/InputData/y_24.h5\n",
      "0%..10%..20%..30%..40%..50%..60%..70%..80%..90%..99%..\n",
      "Finished reading acquisitions from /home/jovyan/InputData/y_24.h5\n"
     ]
    },
    {
     "name": "stderr",
     "output_type": "stream",
     "text": [
      " 49%|████▉     | 160/325 [00:23<00:22,  7.46it/s]"
     ]
    },
    {
     "name": "stdout",
     "output_type": "stream",
     "text": [
      "Started reading acquisitions from /home/jovyan/InputData/y_240.h5\n",
      "0%..10%..20%..30%..40%..50%..60%..70%..80%..90%..99%..\n",
      "Finished reading acquisitions from /home/jovyan/InputData/y_240.h5\n",
      "Started reading acquisitions from /home/jovyan/InputData/y_241.h5\n",
      "0%..10%..20%..30%..40%..50%..60%..70%..80%..90%..99%..\n",
      "Finished reading acquisitions from /home/jovyan/InputData/y_241.h5\n",
      "Started reading acquisitions from /home/jovyan/InputData/y_242.h5\n",
      "0%..10%..20%..30%..40%..50%..60%..70%..80%..90%..99%..\n",
      "Finished reading acquisitions from /home/jovyan/InputData/y_242.h5\n"
     ]
    },
    {
     "name": "stderr",
     "output_type": "stream",
     "text": [
      " 50%|█████     | 163/325 [00:24<00:21,  7.53it/s]"
     ]
    },
    {
     "name": "stdout",
     "output_type": "stream",
     "text": [
      "Started reading acquisitions from /home/jovyan/InputData/y_243.h5\n",
      "0%..10%..20%..30%..40%..50%..60%..70%..80%..90%..99%..\n",
      "Finished reading acquisitions from /home/jovyan/InputData/y_243.h5\n",
      "Started reading acquisitions from /home/jovyan/InputData/y_244.h5\n",
      "0%..10%..20%..30%..40%..50%..60%..70%..80%..90%..99%..\n",
      "Finished reading acquisitions from /home/jovyan/InputData/y_244.h5\n",
      "Started reading acquisitions from /home/jovyan/InputData/y_245.h5\n",
      "0%..10%..20%..30%..40%..50%..60%..70%..80%..90%..99%..\n",
      "Finished reading acquisitions from /home/jovyan/InputData/y_245.h5\n"
     ]
    },
    {
     "name": "stderr",
     "output_type": "stream",
     "text": [
      " 51%|█████     | 166/325 [00:24<00:21,  7.39it/s]"
     ]
    },
    {
     "name": "stdout",
     "output_type": "stream",
     "text": [
      "Started reading acquisitions from /home/jovyan/InputData/y_246.h5\n",
      "0%..10%..20%..30%..40%..50%..60%..70%..80%..90%..99%..\n",
      "Finished reading acquisitions from /home/jovyan/InputData/y_246.h5\n",
      "Started reading acquisitions from /home/jovyan/InputData/y_247.h5\n",
      "0%..10%..20%..30%..40%..50%..60%..70%..80%..90%..99%..\n",
      "Finished reading acquisitions from /home/jovyan/InputData/y_247.h5\n",
      "Started reading acquisitions from /home/jovyan/InputData/y_248.h5\n",
      "0%..10%..20%..30%..40%..50%..60%..70%..80%..90%..99%..\n",
      "Finished reading acquisitions from /home/jovyan/InputData/y_248.h5\n"
     ]
    },
    {
     "name": "stderr",
     "output_type": "stream",
     "text": [
      " 52%|█████▏    | 169/325 [00:25<00:20,  7.45it/s]"
     ]
    },
    {
     "name": "stdout",
     "output_type": "stream",
     "text": [
      "Started reading acquisitions from /home/jovyan/InputData/y_249.h5\n",
      "0%..10%..20%..30%..40%..50%..60%..70%..80%..90%..99%..\n",
      "Finished reading acquisitions from /home/jovyan/InputData/y_249.h5\n",
      "Started reading acquisitions from /home/jovyan/InputData/y_25.h5\n",
      "0%..10%..20%..30%..40%..50%..60%..70%..80%..90%..99%..\n",
      "Finished reading acquisitions from /home/jovyan/InputData/y_25.h5\n",
      "Started reading acquisitions from /home/jovyan/InputData/y_250.h5\n",
      "0%..10%..20%..30%..40%..50%..60%..70%..80%..90%..99%..\n",
      "Finished reading acquisitions from /home/jovyan/InputData/y_250.h5\n"
     ]
    },
    {
     "name": "stderr",
     "output_type": "stream",
     "text": [
      " 53%|█████▎    | 172/325 [00:25<00:20,  7.49it/s]"
     ]
    },
    {
     "name": "stdout",
     "output_type": "stream",
     "text": [
      "Started reading acquisitions from /home/jovyan/InputData/y_251.h5\n",
      "0%..10%..20%..30%..40%..50%..60%..70%..80%..90%..99%..\n",
      "Finished reading acquisitions from /home/jovyan/InputData/y_251.h5\n",
      "Started reading acquisitions from /home/jovyan/InputData/y_252.h5\n",
      "0%..10%..20%..30%..40%..50%..60%..70%..80%..90%..99%..\n",
      "Finished reading acquisitions from /home/jovyan/InputData/y_252.h5\n",
      "Started reading acquisitions from /home/jovyan/InputData/y_253.h5\n",
      "0%..10%..20%..30%..40%..50%..60%..70%..80%..90%..99%..\n",
      "Finished reading acquisitions from /home/jovyan/InputData/y_253.h5\n"
     ]
    },
    {
     "name": "stderr",
     "output_type": "stream",
     "text": [
      " 54%|█████▍    | 175/325 [00:25<00:19,  7.51it/s]"
     ]
    },
    {
     "name": "stdout",
     "output_type": "stream",
     "text": [
      "Started reading acquisitions from /home/jovyan/InputData/y_254.h5\n",
      "0%..10%..20%..30%..40%..50%..60%..70%..80%..90%..99%..\n",
      "Finished reading acquisitions from /home/jovyan/InputData/y_254.h5\n",
      "Started reading acquisitions from /home/jovyan/InputData/y_255.h5\n",
      "0%..10%..20%..30%..40%..50%..60%..70%..80%..90%..99%..\n",
      "Finished reading acquisitions from /home/jovyan/InputData/y_255.h5\n",
      "Started reading acquisitions from /home/jovyan/InputData/y_256.h5\n",
      "0%..10%..20%..30%..40%..50%..60%..70%..80%..90%..99%..\n",
      "Finished reading acquisitions from /home/jovyan/InputData/y_256.h5\n"
     ]
    },
    {
     "name": "stderr",
     "output_type": "stream",
     "text": [
      " 54%|█████▍    | 177/325 [00:26<00:25,  5.72it/s]"
     ]
    },
    {
     "name": "stdout",
     "output_type": "stream",
     "text": [
      "Started reading acquisitions from /home/jovyan/InputData/y_257.h5\n",
      "0%..10%..20%..30%..40%..50%..60%..70%..80%..90%..99%..\n",
      "Finished reading acquisitions from /home/jovyan/InputData/y_257.h5\n",
      "Started reading acquisitions from /home/jovyan/InputData/y_258.h5\n",
      "0%..10%..20%..30%..40%..50%..60%..70%..80%..90%..99%..\n",
      "Finished reading acquisitions from /home/jovyan/InputData/y_258.h5\n"
     ]
    },
    {
     "name": "stderr",
     "output_type": "stream",
     "text": [
      " 55%|█████▌    | 179/325 [00:26<00:28,  5.12it/s]"
     ]
    },
    {
     "name": "stdout",
     "output_type": "stream",
     "text": [
      "Started reading acquisitions from /home/jovyan/InputData/y_259.h5\n",
      "0%..10%..20%..30%..40%..50%..60%..70%..80%..90%..99%..\n",
      "Finished reading acquisitions from /home/jovyan/InputData/y_259.h5\n",
      "Started reading acquisitions from /home/jovyan/InputData/y_26.h5\n",
      "0%..10%..20%..30%..40%..50%..60%..70%..80%..90%..99%..\n",
      "Finished reading acquisitions from /home/jovyan/InputData/y_26.h5\n"
     ]
    },
    {
     "name": "stderr",
     "output_type": "stream",
     "text": [
      " 56%|█████▌    | 182/325 [00:27<00:22,  6.23it/s]"
     ]
    },
    {
     "name": "stdout",
     "output_type": "stream",
     "text": [
      "Started reading acquisitions from /home/jovyan/InputData/y_260.h5\n",
      "0%..10%..20%..30%..40%..50%..60%..70%..80%..90%..99%..\n",
      "Finished reading acquisitions from /home/jovyan/InputData/y_260.h5\n",
      "Started reading acquisitions from /home/jovyan/InputData/y_261.h5\n",
      "0%..10%..20%..30%..40%..50%..60%..70%..80%..90%..99%..\n",
      "Finished reading acquisitions from /home/jovyan/InputData/y_261.h5\n",
      "Started reading acquisitions from /home/jovyan/InputData/y_262.h5\n",
      "0%..10%..20%..30%..40%..50%..60%..70%..80%..90%..99%..\n",
      "Finished reading acquisitions from /home/jovyan/InputData/y_262.h5\n"
     ]
    },
    {
     "name": "stderr",
     "output_type": "stream",
     "text": [
      " 57%|█████▋    | 184/325 [00:27<00:20,  6.85it/s]"
     ]
    },
    {
     "name": "stdout",
     "output_type": "stream",
     "text": [
      "Started reading acquisitions from /home/jovyan/InputData/y_263.h5\n",
      "0%..10%..20%..30%..40%..50%..60%..70%..80%..90%..99%..\n",
      "Finished reading acquisitions from /home/jovyan/InputData/y_263.h5\n"
     ]
    },
    {
     "name": "stderr",
     "output_type": "stream",
     "text": [
      " 57%|█████▋    | 186/325 [00:28<00:26,  5.19it/s]"
     ]
    },
    {
     "name": "stdout",
     "output_type": "stream",
     "text": [
      "Started reading acquisitions from /home/jovyan/InputData/y_264.h5\n",
      "0%..10%..20%..30%..40%..50%..60%..70%..80%..90%..99%..\n",
      "Finished reading acquisitions from /home/jovyan/InputData/y_264.h5\n",
      "Started reading acquisitions from /home/jovyan/InputData/y_265.h5\n",
      "0%..10%..20%..30%..40%..50%..60%..70%..80%..90%..99%..\n",
      "Finished reading acquisitions from /home/jovyan/InputData/y_265.h5\n"
     ]
    },
    {
     "name": "stderr",
     "output_type": "stream",
     "text": [
      " 58%|█████▊    | 188/325 [00:28<00:28,  4.82it/s]"
     ]
    },
    {
     "name": "stdout",
     "output_type": "stream",
     "text": [
      "Started reading acquisitions from /home/jovyan/InputData/y_266.h5\n",
      "0%..10%..20%..30%..40%..50%..60%..70%..80%..90%..99%..\n",
      "Finished reading acquisitions from /home/jovyan/InputData/y_266.h5\n",
      "Started reading acquisitions from /home/jovyan/InputData/y_267.h5\n",
      "0%..10%..20%..30%..40%..50%..60%..70%..80%..90%..99%..\n",
      "Finished reading acquisitions from /home/jovyan/InputData/y_267.h5\n",
      "Started reading acquisitions from /home/jovyan/InputData/y_268.h5\n",
      "0%..10%..20%..30%..40%..50%..60%..70%..80%..90%..99%..\n",
      "Finished reading acquisitions from /home/jovyan/InputData/y_268.h5\n"
     ]
    },
    {
     "name": "stderr",
     "output_type": "stream",
     "text": [
      " 59%|█████▉    | 191/325 [00:28<00:22,  5.84it/s]"
     ]
    },
    {
     "name": "stdout",
     "output_type": "stream",
     "text": [
      "Started reading acquisitions from /home/jovyan/InputData/y_269.h5\n",
      "0%..10%..20%..30%..40%..50%..60%..70%..80%..90%..99%..\n",
      "Finished reading acquisitions from /home/jovyan/InputData/y_269.h5\n",
      "Started reading acquisitions from /home/jovyan/InputData/y_27.h5\n",
      "0%..10%..20%..30%..40%..50%..60%..70%..80%..90%..99%..\n",
      "Finished reading acquisitions from /home/jovyan/InputData/y_27.h5\n",
      "Started reading acquisitions from /home/jovyan/InputData/y_270.h5\n",
      "0%..10%..20%..30%..40%..50%..60%..70%..80%..90%..99%..\n",
      "Finished reading acquisitions from /home/jovyan/InputData/y_270.h5\n"
     ]
    },
    {
     "name": "stderr",
     "output_type": "stream",
     "text": [
      " 59%|█████▉    | 193/325 [00:29<00:24,  5.30it/s]"
     ]
    },
    {
     "name": "stdout",
     "output_type": "stream",
     "text": [
      "Started reading acquisitions from /home/jovyan/InputData/y_271.h5\n",
      "0%..10%..20%..30%..40%..50%..60%..70%..80%..90%..99%..\n",
      "Finished reading acquisitions from /home/jovyan/InputData/y_271.h5\n",
      "Started reading acquisitions from /home/jovyan/InputData/y_272.h5\n"
     ]
    },
    {
     "name": "stderr",
     "output_type": "stream",
     "text": [
      " 60%|█████▉    | 194/325 [00:29<00:26,  5.01it/s]"
     ]
    },
    {
     "name": "stdout",
     "output_type": "stream",
     "text": [
      "0%..10%..20%..30%..40%..50%..60%..70%..80%..90%..99%..\n",
      "Finished reading acquisitions from /home/jovyan/InputData/y_272.h5\n",
      "Started reading acquisitions from /home/jovyan/InputData/y_273.h5\n",
      "0%..10%..20%..30%..40%..50%..60%..70%..80%..90%..99%..\n",
      "Finished reading acquisitions from /home/jovyan/InputData/y_273.h5\n"
     ]
    },
    {
     "name": "stderr",
     "output_type": "stream",
     "text": [
      " 61%|██████    | 197/325 [00:30<00:22,  5.71it/s]"
     ]
    },
    {
     "name": "stdout",
     "output_type": "stream",
     "text": [
      "Started reading acquisitions from /home/jovyan/InputData/y_274.h5\n",
      "0%..10%..20%..30%..40%..50%..60%..70%..80%..90%..99%..\n",
      "Finished reading acquisitions from /home/jovyan/InputData/y_274.h5\n",
      "Started reading acquisitions from /home/jovyan/InputData/y_275.h5\n",
      "0%..10%..20%..30%..40%..50%..60%..70%..80%..90%..99%..\n",
      "Finished reading acquisitions from /home/jovyan/InputData/y_275.h5\n",
      "Started reading acquisitions from /home/jovyan/InputData/y_276.h5\n",
      "0%..10%..20%..30%..40%..50%..60%..70%..80%..90%..99%..\n",
      "Finished reading acquisitions from /home/jovyan/InputData/y_276.h5\n"
     ]
    },
    {
     "name": "stderr",
     "output_type": "stream",
     "text": [
      " 62%|██████▏   | 200/325 [00:30<00:18,  6.68it/s]"
     ]
    },
    {
     "name": "stdout",
     "output_type": "stream",
     "text": [
      "Started reading acquisitions from /home/jovyan/InputData/y_277.h5\n",
      "0%..10%..20%..30%..40%..50%..60%..70%..80%..90%..99%..\n",
      "Finished reading acquisitions from /home/jovyan/InputData/y_277.h5\n",
      "Started reading acquisitions from /home/jovyan/InputData/y_278.h5\n",
      "0%..10%..20%..30%..40%..50%..60%..70%..80%..90%..99%..\n",
      "Finished reading acquisitions from /home/jovyan/InputData/y_278.h5\n",
      "Started reading acquisitions from /home/jovyan/InputData/y_279.h5\n",
      "0%..10%..20%..30%..40%..50%..60%..70%..80%..90%..99%..\n",
      "Finished reading acquisitions from /home/jovyan/InputData/y_279.h5\n"
     ]
    },
    {
     "name": "stderr",
     "output_type": "stream",
     "text": [
      " 62%|██████▏   | 203/325 [00:30<00:17,  7.13it/s]"
     ]
    },
    {
     "name": "stdout",
     "output_type": "stream",
     "text": [
      "Started reading acquisitions from /home/jovyan/InputData/y_28.h5\n",
      "0%..10%..20%..30%..40%..50%..60%..70%..80%..90%..99%..\n",
      "Finished reading acquisitions from /home/jovyan/InputData/y_28.h5\n",
      "Started reading acquisitions from /home/jovyan/InputData/y_280.h5\n",
      "0%..10%..20%..30%..40%..50%..60%..70%..80%..90%..99%..\n",
      "Finished reading acquisitions from /home/jovyan/InputData/y_280.h5\n",
      "Started reading acquisitions from /home/jovyan/InputData/y_281.h5\n",
      "0%..10%..20%..30%..40%..50%..60%..70%..80%..90%..99%..\n",
      "Finished reading acquisitions from /home/jovyan/InputData/y_281.h5\n"
     ]
    },
    {
     "name": "stderr",
     "output_type": "stream",
     "text": [
      " 63%|██████▎   | 206/325 [00:31<00:16,  7.34it/s]"
     ]
    },
    {
     "name": "stdout",
     "output_type": "stream",
     "text": [
      "Started reading acquisitions from /home/jovyan/InputData/y_282.h5\n",
      "0%..10%..20%..30%..40%..50%..60%..70%..80%..90%..99%..\n",
      "Finished reading acquisitions from /home/jovyan/InputData/y_282.h5\n",
      "Started reading acquisitions from /home/jovyan/InputData/y_283.h5\n",
      "0%..10%..20%..30%..40%..50%..60%..70%..80%..90%..99%..\n",
      "Finished reading acquisitions from /home/jovyan/InputData/y_283.h5\n",
      "Started reading acquisitions from /home/jovyan/InputData/y_284.h5\n"
     ]
    },
    {
     "name": "stderr",
     "output_type": "stream",
     "text": [
      " 64%|██████▍   | 208/325 [00:31<00:15,  7.37it/s]"
     ]
    },
    {
     "name": "stdout",
     "output_type": "stream",
     "text": [
      "0%..10%..20%..30%..40%..50%..60%..70%..80%..90%..99%..\n",
      "Finished reading acquisitions from /home/jovyan/InputData/y_284.h5\n",
      "Started reading acquisitions from /home/jovyan/InputData/y_285.h5\n",
      "0%..10%..20%..30%..40%..50%..60%..70%..80%..90%..99%..\n",
      "Finished reading acquisitions from /home/jovyan/InputData/y_285.h5\n",
      "Started reading acquisitions from /home/jovyan/InputData/y_286.h5\n",
      "0%..10%..20%..30%..40%..50%..60%..70%..80%..90%..99%..\n",
      "Finished reading acquisitions from /home/jovyan/InputData/y_286.h5\n"
     ]
    },
    {
     "name": "stderr",
     "output_type": "stream",
     "text": [
      " 65%|██████▍   | 211/325 [00:31<00:15,  7.32it/s]"
     ]
    },
    {
     "name": "stdout",
     "output_type": "stream",
     "text": [
      "Started reading acquisitions from /home/jovyan/InputData/y_287.h5\n",
      "0%..10%..20%..30%..40%..50%..60%..70%..80%..90%..99%..\n",
      "Finished reading acquisitions from /home/jovyan/InputData/y_287.h5\n",
      "Started reading acquisitions from /home/jovyan/InputData/y_288.h5\n",
      "0%..10%..20%..30%..40%..50%..60%..70%..80%..90%..99%..\n",
      "Finished reading acquisitions from /home/jovyan/InputData/y_288.h5\n"
     ]
    },
    {
     "name": "stderr",
     "output_type": "stream",
     "text": [
      " 66%|██████▌   | 213/325 [00:32<00:15,  7.30it/s]"
     ]
    },
    {
     "name": "stdout",
     "output_type": "stream",
     "text": [
      "Started reading acquisitions from /home/jovyan/InputData/y_289.h5\n",
      "0%..10%..20%..30%..40%..50%..60%..70%..80%..90%..99%..\n",
      "Finished reading acquisitions from /home/jovyan/InputData/y_289.h5\n",
      "Started reading acquisitions from /home/jovyan/InputData/y_29.h5\n",
      "0%..10%..20%..30%..40%..50%..60%..70%..80%..90%..99%..\n",
      "Finished reading acquisitions from /home/jovyan/InputData/y_29.h5\n",
      "Started reading acquisitions from /home/jovyan/InputData/y_290.h5\n",
      "0%..10%..20%..30%..40%..50%..60%..70%..80%..90%..99%..\n",
      "Finished reading acquisitions from /home/jovyan/InputData/y_290.h5\n"
     ]
    },
    {
     "name": "stderr",
     "output_type": "stream",
     "text": [
      " 66%|██████▋   | 216/325 [00:32<00:14,  7.35it/s]"
     ]
    },
    {
     "name": "stdout",
     "output_type": "stream",
     "text": [
      "Started reading acquisitions from /home/jovyan/InputData/y_291.h5\n",
      "0%..10%..20%..30%..40%..50%..60%..70%..80%..90%..99%..\n",
      "Finished reading acquisitions from /home/jovyan/InputData/y_291.h5\n",
      "Started reading acquisitions from /home/jovyan/InputData/y_292.h5\n",
      "0%..10%..20%..30%..40%..50%..60%..70%..80%..90%..99%..\n",
      "Finished reading acquisitions from /home/jovyan/InputData/y_292.h5\n",
      "Started reading acquisitions from /home/jovyan/InputData/y_293.h5\n"
     ]
    },
    {
     "name": "stderr",
     "output_type": "stream",
     "text": [
      " 67%|██████▋   | 218/325 [00:32<00:14,  7.35it/s]"
     ]
    },
    {
     "name": "stdout",
     "output_type": "stream",
     "text": [
      "0%..10%..20%..30%..40%..50%..60%..70%..80%..90%..99%..\n",
      "Finished reading acquisitions from /home/jovyan/InputData/y_293.h5\n",
      "Started reading acquisitions from /home/jovyan/InputData/y_294.h5\n",
      "0%..10%..20%..30%..40%..50%..60%..70%..80%..90%..99%..\n",
      "Finished reading acquisitions from /home/jovyan/InputData/y_294.h5\n",
      "Started reading acquisitions from /home/jovyan/InputData/y_295.h5\n",
      "0%..10%..20%..30%..40%..50%..60%..70%..80%..90%..99%..\n",
      "Finished reading acquisitions from /home/jovyan/InputData/y_295.h5\n"
     ]
    },
    {
     "name": "stderr",
     "output_type": "stream",
     "text": [
      " 68%|██████▊   | 220/325 [00:33<00:17,  5.85it/s]"
     ]
    },
    {
     "name": "stdout",
     "output_type": "stream",
     "text": [
      "Started reading acquisitions from /home/jovyan/InputData/y_296.h5\n",
      "0%..10%..20%..30%..40%..50%..60%..70%..80%..90%..99%..\n",
      "Finished reading acquisitions from /home/jovyan/InputData/y_296.h5\n",
      "Started reading acquisitions from /home/jovyan/InputData/y_297.h5\n",
      "0%..10%..20%..30%..40%..50%..60%..70%..80%..90%..99%..\n",
      "Finished reading acquisitions from /home/jovyan/InputData/y_297.h5\n"
     ]
    },
    {
     "name": "stderr",
     "output_type": "stream",
     "text": [
      " 68%|██████▊   | 222/325 [00:33<00:19,  5.23it/s]"
     ]
    },
    {
     "name": "stdout",
     "output_type": "stream",
     "text": [
      "Started reading acquisitions from /home/jovyan/InputData/y_298.h5\n",
      "0%..10%..20%..30%..40%..50%..60%..70%..80%..90%..99%..\n",
      "Finished reading acquisitions from /home/jovyan/InputData/y_298.h5\n",
      "Started reading acquisitions from /home/jovyan/InputData/y_299.h5\n",
      "0%..10%..20%..30%..40%..50%..60%..70%..80%..90%..99%..\n",
      "Finished reading acquisitions from /home/jovyan/InputData/y_299.h5\n"
     ]
    },
    {
     "name": "stderr",
     "output_type": "stream",
     "text": [
      " 69%|██████▉   | 225/325 [00:34<00:17,  5.80it/s]"
     ]
    },
    {
     "name": "stdout",
     "output_type": "stream",
     "text": [
      "Started reading acquisitions from /home/jovyan/InputData/y_3.h5\n",
      "0%..10%..20%..30%..40%..50%..60%..70%..80%..90%..99%..\n",
      "Finished reading acquisitions from /home/jovyan/InputData/y_3.h5\n",
      "Started reading acquisitions from /home/jovyan/InputData/y_30.h5\n",
      "0%..10%..20%..30%..40%..50%..60%..70%..80%..90%..99%..\n",
      "Finished reading acquisitions from /home/jovyan/InputData/y_30.h5\n",
      "Started reading acquisitions from /home/jovyan/InputData/y_300.h5\n"
     ]
    },
    {
     "name": "stderr",
     "output_type": "stream",
     "text": [
      " 70%|██████▉   | 227/325 [00:34<00:14,  6.54it/s]"
     ]
    },
    {
     "name": "stdout",
     "output_type": "stream",
     "text": [
      "0%..10%..20%..30%..40%..50%..60%..70%..80%..90%..99%..\n",
      "Finished reading acquisitions from /home/jovyan/InputData/y_300.h5\n",
      "Started reading acquisitions from /home/jovyan/InputData/y_301.h5\n",
      "0%..10%..20%..30%..40%..50%..60%..70%..80%..90%..99%..\n",
      "Finished reading acquisitions from /home/jovyan/InputData/y_301.h5\n",
      "Started reading acquisitions from /home/jovyan/InputData/y_302.h5\n"
     ]
    },
    {
     "name": "stderr",
     "output_type": "stream",
     "text": [
      " 70%|███████   | 229/325 [00:34<00:13,  6.91it/s]"
     ]
    },
    {
     "name": "stdout",
     "output_type": "stream",
     "text": [
      "0%..10%..20%..30%..40%..50%..60%..70%..80%..90%..99%..\n",
      "Finished reading acquisitions from /home/jovyan/InputData/y_302.h5\n",
      "Started reading acquisitions from /home/jovyan/InputData/y_303.h5\n",
      "0%..10%..20%..30%..40%..50%..60%..70%..80%..90%..99%..\n",
      "Finished reading acquisitions from /home/jovyan/InputData/y_303.h5\n",
      "Started reading acquisitions from /home/jovyan/InputData/y_304.h5\n"
     ]
    },
    {
     "name": "stderr",
     "output_type": "stream",
     "text": [
      " 71%|███████   | 231/325 [00:35<00:13,  7.10it/s]"
     ]
    },
    {
     "name": "stdout",
     "output_type": "stream",
     "text": [
      "0%..10%..20%..30%..40%..50%..60%..70%..80%..90%..99%..\n",
      "Finished reading acquisitions from /home/jovyan/InputData/y_304.h5\n",
      "Started reading acquisitions from /home/jovyan/InputData/y_305.h5\n",
      "0%..10%..20%..30%..40%..50%..60%..70%..80%..90%..99%..\n",
      "Finished reading acquisitions from /home/jovyan/InputData/y_305.h5\n",
      "Started reading acquisitions from /home/jovyan/InputData/y_306.h5\n",
      "0%..10%..20%..30%..40%..50%..60%..70%..80%..90%..99%..\n",
      "Finished reading acquisitions from /home/jovyan/InputData/y_306.h5\n"
     ]
    },
    {
     "name": "stderr",
     "output_type": "stream",
     "text": [
      " 72%|███████▏  | 234/325 [00:35<00:12,  7.30it/s]"
     ]
    },
    {
     "name": "stdout",
     "output_type": "stream",
     "text": [
      "Started reading acquisitions from /home/jovyan/InputData/y_307.h5\n",
      "0%..10%..20%..30%..40%..50%..60%..70%..80%..90%..99%..\n",
      "Finished reading acquisitions from /home/jovyan/InputData/y_307.h5\n",
      "Started reading acquisitions from /home/jovyan/InputData/y_308.h5\n",
      "0%..10%..20%..30%..40%..50%..60%..70%..80%..90%..99%..\n",
      "Finished reading acquisitions from /home/jovyan/InputData/y_308.h5\n",
      "Started reading acquisitions from /home/jovyan/InputData/y_309.h5\n",
      "0%..10%..20%..30%..40%..50%..60%..70%..80%..90%..99%..\n",
      "Finished reading acquisitions from /home/jovyan/InputData/y_309.h5\n"
     ]
    },
    {
     "name": "stderr",
     "output_type": "stream",
     "text": [
      " 73%|███████▎  | 237/325 [00:35<00:11,  7.43it/s]"
     ]
    },
    {
     "name": "stdout",
     "output_type": "stream",
     "text": [
      "Started reading acquisitions from /home/jovyan/InputData/y_31.h5\n",
      "0%..10%..20%..30%..40%..50%..60%..70%..80%..90%..99%..\n",
      "Finished reading acquisitions from /home/jovyan/InputData/y_31.h5\n",
      "Started reading acquisitions from /home/jovyan/InputData/y_310.h5\n",
      "0%..10%..20%..30%..40%..50%..60%..70%..80%..90%..99%..\n",
      "Finished reading acquisitions from /home/jovyan/InputData/y_310.h5\n",
      "Started reading acquisitions from /home/jovyan/InputData/y_311.h5\n",
      "0%..10%..20%..30%..40%..50%..60%..70%..80%..90%..99%..\n",
      "Finished reading acquisitions from /home/jovyan/InputData/y_311.h5\n"
     ]
    },
    {
     "name": "stderr",
     "output_type": "stream",
     "text": [
      " 74%|███████▍  | 240/325 [00:36<00:11,  7.42it/s]"
     ]
    },
    {
     "name": "stdout",
     "output_type": "stream",
     "text": [
      "Started reading acquisitions from /home/jovyan/InputData/y_312.h5\n",
      "0%..10%..20%..30%..40%..50%..60%..70%..80%..90%..99%..\n",
      "Finished reading acquisitions from /home/jovyan/InputData/y_312.h5\n",
      "Started reading acquisitions from /home/jovyan/InputData/y_313.h5\n",
      "0%..10%..20%..30%..40%..50%..60%..70%..80%..90%..99%..\n",
      "Finished reading acquisitions from /home/jovyan/InputData/y_313.h5\n",
      "Started reading acquisitions from /home/jovyan/InputData/y_314.h5\n"
     ]
    },
    {
     "name": "stderr",
     "output_type": "stream",
     "text": [
      " 74%|███████▍  | 242/325 [00:36<00:11,  7.40it/s]"
     ]
    },
    {
     "name": "stdout",
     "output_type": "stream",
     "text": [
      "0%..10%..20%..30%..40%..50%..60%..70%..80%..90%..99%..\n",
      "Finished reading acquisitions from /home/jovyan/InputData/y_314.h5\n",
      "Started reading acquisitions from /home/jovyan/InputData/y_315.h5\n",
      "0%..10%..20%..30%..40%..50%..60%..70%..80%..90%..99%..\n",
      "Finished reading acquisitions from /home/jovyan/InputData/y_315.h5\n",
      "Started reading acquisitions from /home/jovyan/InputData/y_316.h5\n"
     ]
    },
    {
     "name": "stderr",
     "output_type": "stream",
     "text": [
      " 75%|███████▌  | 244/325 [00:36<00:10,  7.46it/s]"
     ]
    },
    {
     "name": "stdout",
     "output_type": "stream",
     "text": [
      "0%..10%..20%..30%..40%..50%..60%..70%..80%..90%..99%..\n",
      "Finished reading acquisitions from /home/jovyan/InputData/y_316.h5\n",
      "Started reading acquisitions from /home/jovyan/InputData/y_317.h5\n",
      "0%..10%..20%..30%..40%..50%..60%..70%..80%..90%..99%..\n",
      "Finished reading acquisitions from /home/jovyan/InputData/y_317.h5\n",
      "Started reading acquisitions from /home/jovyan/InputData/y_318.h5\n",
      "0%..10%..20%..30%..40%..50%..60%..70%..80%..90%..99%..\n",
      "Finished reading acquisitions from /home/jovyan/InputData/y_318.h5\n"
     ]
    },
    {
     "name": "stderr",
     "output_type": "stream",
     "text": [
      " 76%|███████▌  | 246/325 [00:37<00:10,  7.38it/s]"
     ]
    },
    {
     "name": "stdout",
     "output_type": "stream",
     "text": [
      "Started reading acquisitions from /home/jovyan/InputData/y_319.h5\n",
      "0%..10%..20%..30%..40%..50%..60%..70%..80%..90%..99%..\n",
      "Finished reading acquisitions from /home/jovyan/InputData/y_319.h5\n",
      "Started reading acquisitions from /home/jovyan/InputData/y_32.h5\n",
      "0%..10%..20%..30%..40%..50%..60%..70%..80%..90%..99%..\n",
      "Finished reading acquisitions from /home/jovyan/InputData/y_32.h5\n"
     ]
    },
    {
     "name": "stderr",
     "output_type": "stream",
     "text": [
      " 77%|███████▋  | 249/325 [00:37<00:10,  7.42it/s]"
     ]
    },
    {
     "name": "stdout",
     "output_type": "stream",
     "text": [
      "Started reading acquisitions from /home/jovyan/InputData/y_320.h5\n",
      "0%..10%..20%..30%..40%..50%..60%..70%..80%..90%..99%..\n",
      "Finished reading acquisitions from /home/jovyan/InputData/y_320.h5\n",
      "Started reading acquisitions from /home/jovyan/InputData/y_321.h5\n",
      "0%..10%..20%..30%..40%..50%..60%..70%..80%..90%..99%..\n",
      "Finished reading acquisitions from /home/jovyan/InputData/y_321.h5\n"
     ]
    },
    {
     "name": "stderr",
     "output_type": "stream",
     "text": [
      " 77%|███████▋  | 251/325 [00:37<00:09,  7.46it/s]"
     ]
    },
    {
     "name": "stdout",
     "output_type": "stream",
     "text": [
      "Started reading acquisitions from /home/jovyan/InputData/y_322.h5\n",
      "0%..10%..20%..30%..40%..50%..60%..70%..80%..90%..99%..\n",
      "Finished reading acquisitions from /home/jovyan/InputData/y_322.h5\n",
      "Started reading acquisitions from /home/jovyan/InputData/y_323.h5\n",
      "0%..10%..20%..30%..40%..50%..60%..70%..80%..90%..99%..\n",
      "Finished reading acquisitions from /home/jovyan/InputData/y_323.h5\n",
      "Started reading acquisitions from /home/jovyan/InputData/y_324.h5\n",
      "0%..10%..20%..30%..40%..50%..60%..70%..80%..90%..99%..\n",
      "Finished reading acquisitions from /home/jovyan/InputData/y_324.h5\n"
     ]
    },
    {
     "name": "stderr",
     "output_type": "stream",
     "text": [
      " 78%|███████▊  | 254/325 [00:38<00:09,  7.43it/s]"
     ]
    },
    {
     "name": "stdout",
     "output_type": "stream",
     "text": [
      "Started reading acquisitions from /home/jovyan/InputData/y_33.h5\n",
      "0%..10%..20%..30%..40%..50%..60%..70%..80%..90%..99%..\n",
      "Finished reading acquisitions from /home/jovyan/InputData/y_33.h5\n",
      "Started reading acquisitions from /home/jovyan/InputData/y_34.h5\n",
      "0%..10%..20%..30%..40%..50%..60%..70%..80%..90%..99%..\n",
      "Finished reading acquisitions from /home/jovyan/InputData/y_34.h5\n"
     ]
    },
    {
     "name": "stderr",
     "output_type": "stream",
     "text": [
      " 78%|███████▊  | 255/325 [00:38<00:12,  5.47it/s]"
     ]
    },
    {
     "name": "stdout",
     "output_type": "stream",
     "text": [
      "Started reading acquisitions from /home/jovyan/InputData/y_35.h5\n",
      "0%..10%..20%..30%..40%..50%..60%..70%..80%..90%..99%..\n",
      "Finished reading acquisitions from /home/jovyan/InputData/y_35.h5\n"
     ]
    },
    {
     "name": "stderr",
     "output_type": "stream",
     "text": [
      " 79%|███████▉  | 257/325 [00:38<00:11,  5.70it/s]"
     ]
    },
    {
     "name": "stdout",
     "output_type": "stream",
     "text": [
      "Started reading acquisitions from /home/jovyan/InputData/y_36.h5\n",
      "0%..10%..20%..30%..40%..50%..60%..70%..80%..90%..99%..\n",
      "Finished reading acquisitions from /home/jovyan/InputData/y_36.h5\n",
      "Started reading acquisitions from /home/jovyan/InputData/y_37.h5\n",
      "0%..10%..20%..30%..40%..50%..60%..70%..80%..90%..99%..\n",
      "Finished reading acquisitions from /home/jovyan/InputData/y_37.h5\n"
     ]
    },
    {
     "name": "stderr",
     "output_type": "stream",
     "text": [
      " 80%|███████▉  | 259/325 [00:39<00:10,  6.43it/s]"
     ]
    },
    {
     "name": "stdout",
     "output_type": "stream",
     "text": [
      "Started reading acquisitions from /home/jovyan/InputData/y_38.h5\n",
      "0%..10%..20%..30%..40%..50%..60%..70%..80%..90%..99%..\n",
      "Finished reading acquisitions from /home/jovyan/InputData/y_38.h5\n",
      "Started reading acquisitions from /home/jovyan/InputData/y_39.h5\n",
      "0%..10%..20%..30%..40%..50%..60%..70%..80%..90%..99%..\n",
      "Finished reading acquisitions from /home/jovyan/InputData/y_39.h5\n",
      "Started reading acquisitions from /home/jovyan/InputData/y_4.h5\n",
      "0%..10%..20%..30%..40%..50%..60%..70%..80%..90%..99%..\n",
      "Finished reading acquisitions from /home/jovyan/InputData/y_4.h5\n"
     ]
    },
    {
     "name": "stderr",
     "output_type": "stream",
     "text": [
      " 80%|████████  | 261/325 [00:39<00:11,  5.37it/s]"
     ]
    },
    {
     "name": "stdout",
     "output_type": "stream",
     "text": [
      "Started reading acquisitions from /home/jovyan/InputData/y_40.h5\n",
      "0%..10%..20%..30%..40%..50%..60%..70%..80%..90%..99%..\n",
      "Finished reading acquisitions from /home/jovyan/InputData/y_40.h5\n",
      "Started reading acquisitions from /home/jovyan/InputData/y_41.h5\n",
      "0%..10%..20%..30%..40%..50%..60%..70%..80%..90%..99%..\n",
      "Finished reading acquisitions from /home/jovyan/InputData/y_41.h5\n"
     ]
    },
    {
     "name": "stderr",
     "output_type": "stream",
     "text": [
      " 81%|████████  | 263/325 [00:39<00:12,  4.89it/s]"
     ]
    },
    {
     "name": "stdout",
     "output_type": "stream",
     "text": [
      "Started reading acquisitions from /home/jovyan/InputData/y_42.h5\n",
      "0%..10%..20%..30%..40%..50%..60%..70%..80%..90%..99%..\n",
      "Finished reading acquisitions from /home/jovyan/InputData/y_42.h5\n",
      "Started reading acquisitions from /home/jovyan/InputData/y_43.h5\n",
      "0%..10%..20%..30%..40%..50%..60%..70%..80%..90%..99%..\n",
      "Finished reading acquisitions from /home/jovyan/InputData/y_43.h5\n"
     ]
    },
    {
     "name": "stderr",
     "output_type": "stream",
     "text": [
      " 82%|████████▏ | 265/325 [00:40<00:12,  4.62it/s]"
     ]
    },
    {
     "name": "stdout",
     "output_type": "stream",
     "text": [
      "Started reading acquisitions from /home/jovyan/InputData/y_44.h5\n",
      "0%..10%..20%..30%..40%..50%..60%..70%..80%..90%..99%..\n",
      "Finished reading acquisitions from /home/jovyan/InputData/y_44.h5\n",
      "Started reading acquisitions from /home/jovyan/InputData/y_45.h5\n",
      "0%..10%..20%..30%..40%..50%..60%..70%..80%..90%..99%..\n",
      "Finished reading acquisitions from /home/jovyan/InputData/y_45.h5\n"
     ]
    },
    {
     "name": "stderr",
     "output_type": "stream",
     "text": [
      " 82%|████████▏ | 268/325 [00:40<00:09,  5.83it/s]"
     ]
    },
    {
     "name": "stdout",
     "output_type": "stream",
     "text": [
      "Started reading acquisitions from /home/jovyan/InputData/y_46.h5\n",
      "0%..10%..20%..30%..40%..50%..60%..70%..80%..90%..99%..\n",
      "Finished reading acquisitions from /home/jovyan/InputData/y_46.h5\n",
      "Started reading acquisitions from /home/jovyan/InputData/y_47.h5\n",
      "0%..10%..20%..30%..40%..50%..60%..70%..80%..90%..99%..\n",
      "Finished reading acquisitions from /home/jovyan/InputData/y_47.h5\n",
      "Started reading acquisitions from /home/jovyan/InputData/y_48.h5\n",
      "0%..10%..20%..30%..40%..50%..60%..70%..80%..90%..99%..\n",
      "Finished reading acquisitions from /home/jovyan/InputData/y_48.h5\n"
     ]
    },
    {
     "name": "stderr",
     "output_type": "stream",
     "text": [
      " 83%|████████▎ | 271/325 [00:41<00:07,  6.79it/s]"
     ]
    },
    {
     "name": "stdout",
     "output_type": "stream",
     "text": [
      "Started reading acquisitions from /home/jovyan/InputData/y_49.h5\n",
      "0%..10%..20%..30%..40%..50%..60%..70%..80%..90%..99%..\n",
      "Finished reading acquisitions from /home/jovyan/InputData/y_49.h5\n",
      "Started reading acquisitions from /home/jovyan/InputData/y_5.h5\n",
      "0%..10%..20%..30%..40%..50%..60%..70%..80%..90%..99%..\n",
      "Finished reading acquisitions from /home/jovyan/InputData/y_5.h5\n",
      "Started reading acquisitions from /home/jovyan/InputData/y_50.h5\n"
     ]
    },
    {
     "name": "stderr",
     "output_type": "stream",
     "text": [
      " 84%|████████▍ | 273/325 [00:41<00:07,  7.05it/s]"
     ]
    },
    {
     "name": "stdout",
     "output_type": "stream",
     "text": [
      "0%..10%..20%..30%..40%..50%..60%..70%..80%..90%..99%..\n",
      "Finished reading acquisitions from /home/jovyan/InputData/y_50.h5\n",
      "Started reading acquisitions from /home/jovyan/InputData/y_51.h5\n",
      "0%..10%..20%..30%..40%..50%..60%..70%..80%..90%..99%..\n",
      "Finished reading acquisitions from /home/jovyan/InputData/y_51.h5\n",
      "Started reading acquisitions from /home/jovyan/InputData/y_52.h5\n",
      "0%..10%..20%..30%..40%..50%..60%..70%..80%..90%..99%..\n",
      "Finished reading acquisitions from /home/jovyan/InputData/y_52.h5\n"
     ]
    },
    {
     "name": "stderr",
     "output_type": "stream",
     "text": [
      " 85%|████████▍ | 276/325 [00:41<00:06,  7.34it/s]"
     ]
    },
    {
     "name": "stdout",
     "output_type": "stream",
     "text": [
      "Started reading acquisitions from /home/jovyan/InputData/y_53.h5\n",
      "0%..10%..20%..30%..40%..50%..60%..70%..80%..90%..99%..\n",
      "Finished reading acquisitions from /home/jovyan/InputData/y_53.h5\n",
      "Started reading acquisitions from /home/jovyan/InputData/y_54.h5\n",
      "0%..10%..20%..30%..40%..50%..60%..70%..80%..90%..99%..\n",
      "Finished reading acquisitions from /home/jovyan/InputData/y_54.h5\n",
      "Started reading acquisitions from /home/jovyan/InputData/y_55.h5\n",
      "0%..10%..20%..30%..40%..50%..60%..70%..80%..90%..99%..\n",
      "Finished reading acquisitions from /home/jovyan/InputData/y_55.h5\n"
     ]
    },
    {
     "name": "stderr",
     "output_type": "stream",
     "text": [
      " 86%|████████▌ | 279/325 [00:42<00:06,  7.32it/s]"
     ]
    },
    {
     "name": "stdout",
     "output_type": "stream",
     "text": [
      "Started reading acquisitions from /home/jovyan/InputData/y_56.h5\n",
      "0%..10%..20%..30%..40%..50%..60%..70%..80%..90%..99%..\n",
      "Finished reading acquisitions from /home/jovyan/InputData/y_56.h5\n",
      "Started reading acquisitions from /home/jovyan/InputData/y_57.h5\n",
      "0%..10%..20%..30%..40%..50%..60%..70%..80%..90%..99%..\n",
      "Finished reading acquisitions from /home/jovyan/InputData/y_57.h5\n",
      "Started reading acquisitions from /home/jovyan/InputData/y_58.h5\n",
      "0%..10%..20%..30%..40%..50%..60%..70%..80%..90%..99%..\n",
      "Finished reading acquisitions from /home/jovyan/InputData/y_58.h5\n"
     ]
    },
    {
     "name": "stderr",
     "output_type": "stream",
     "text": [
      " 86%|████████▋ | 281/325 [00:42<00:07,  5.63it/s]"
     ]
    },
    {
     "name": "stdout",
     "output_type": "stream",
     "text": [
      "Started reading acquisitions from /home/jovyan/InputData/y_59.h5\n",
      "0%..10%..20%..30%..40%..50%..60%..70%..80%..90%..99%..\n",
      "Finished reading acquisitions from /home/jovyan/InputData/y_59.h5\n"
     ]
    },
    {
     "name": "stderr",
     "output_type": "stream",
     "text": [
      " 87%|████████▋ | 282/325 [00:43<00:08,  5.18it/s]"
     ]
    },
    {
     "name": "stdout",
     "output_type": "stream",
     "text": [
      "Started reading acquisitions from /home/jovyan/InputData/y_6.h5\n",
      "0%..10%..20%..30%..40%..50%..60%..70%..80%..90%..99%..\n",
      "Finished reading acquisitions from /home/jovyan/InputData/y_6.h5\n",
      "Started reading acquisitions from /home/jovyan/InputData/y_60.h5\n"
     ]
    },
    {
     "name": "stderr",
     "output_type": "stream",
     "text": [
      " 87%|████████▋ | 284/325 [00:43<00:07,  5.37it/s]"
     ]
    },
    {
     "name": "stdout",
     "output_type": "stream",
     "text": [
      "0%..10%..20%..30%..40%..50%..60%..70%..80%..90%..99%..\n",
      "Finished reading acquisitions from /home/jovyan/InputData/y_60.h5\n",
      "Started reading acquisitions from /home/jovyan/InputData/y_61.h5\n",
      "0%..10%..20%..30%..40%..50%..60%..70%..80%..90%..99%..\n",
      "Finished reading acquisitions from /home/jovyan/InputData/y_61.h5\n",
      "Started reading acquisitions from /home/jovyan/InputData/y_62.h5\n",
      "0%..10%..20%..30%..40%..50%..60%..70%..80%..90%..99%..\n",
      "Finished reading acquisitions from /home/jovyan/InputData/y_62.h5\n"
     ]
    },
    {
     "name": "stderr",
     "output_type": "stream",
     "text": [
      " 88%|████████▊ | 286/325 [00:43<00:07,  5.01it/s]"
     ]
    },
    {
     "name": "stdout",
     "output_type": "stream",
     "text": [
      "Started reading acquisitions from /home/jovyan/InputData/y_63.h5\n",
      "0%..10%..20%..30%..40%..50%..60%..70%..80%..90%..99%..\n",
      "Finished reading acquisitions from /home/jovyan/InputData/y_63.h5\n",
      "Started reading acquisitions from /home/jovyan/InputData/y_64.h5\n",
      "0%..10%..20%..30%..40%..50%..60%..70%..80%..90%..99%..\n",
      "Finished reading acquisitions from /home/jovyan/InputData/y_64.h5\n"
     ]
    },
    {
     "name": "stderr",
     "output_type": "stream",
     "text": [
      " 89%|████████▊ | 288/325 [00:44<00:09,  3.73it/s]"
     ]
    },
    {
     "name": "stdout",
     "output_type": "stream",
     "text": [
      "Started reading acquisitions from /home/jovyan/InputData/y_65.h5\n",
      "0%..10%..20%..30%..40%..50%..60%..70%..80%..90%..99%..\n",
      "Finished reading acquisitions from /home/jovyan/InputData/y_65.h5\n",
      "Started reading acquisitions from /home/jovyan/InputData/y_66.h5\n"
     ]
    },
    {
     "name": "stderr",
     "output_type": "stream",
     "text": [
      " 89%|████████▉ | 289/325 [00:44<00:09,  3.68it/s]"
     ]
    },
    {
     "name": "stdout",
     "output_type": "stream",
     "text": [
      "0%..10%..20%..30%..40%..50%..60%..70%..80%..90%..99%..\n",
      "Finished reading acquisitions from /home/jovyan/InputData/y_66.h5\n"
     ]
    },
    {
     "name": "stderr",
     "output_type": "stream",
     "text": [
      " 89%|████████▉ | 290/325 [00:45<00:09,  3.74it/s]"
     ]
    },
    {
     "name": "stdout",
     "output_type": "stream",
     "text": [
      "Started reading acquisitions from /home/jovyan/InputData/y_67.h5\n",
      "0%..10%..20%..30%..40%..50%..60%..70%..80%..90%..99%..\n",
      "Finished reading acquisitions from /home/jovyan/InputData/y_67.h5\n"
     ]
    },
    {
     "name": "stderr",
     "output_type": "stream",
     "text": [
      " 90%|████████▉ | 291/325 [00:45<00:08,  3.87it/s]"
     ]
    },
    {
     "name": "stdout",
     "output_type": "stream",
     "text": [
      "Started reading acquisitions from /home/jovyan/InputData/y_68.h5\n",
      "0%..10%..20%..30%..40%..50%..60%..70%..80%..90%..99%..\n",
      "Finished reading acquisitions from /home/jovyan/InputData/y_68.h5\n",
      "Started reading acquisitions from /home/jovyan/InputData/y_69.h5\n"
     ]
    },
    {
     "name": "stderr",
     "output_type": "stream",
     "text": [
      " 90%|█████████ | 293/325 [00:45<00:07,  4.48it/s]"
     ]
    },
    {
     "name": "stdout",
     "output_type": "stream",
     "text": [
      "0%..10%..20%..30%..40%..50%..60%..70%..80%..90%..99%..\n",
      "Finished reading acquisitions from /home/jovyan/InputData/y_69.h5\n",
      "Started reading acquisitions from /home/jovyan/InputData/y_7.h5\n",
      "0%..10%..20%..30%..40%..50%..60%..70%..80%..90%..99%..\n",
      "Finished reading acquisitions from /home/jovyan/InputData/y_7.h5\n"
     ]
    },
    {
     "name": "stderr",
     "output_type": "stream",
     "text": [
      " 91%|█████████ | 295/325 [00:45<00:05,  5.40it/s]"
     ]
    },
    {
     "name": "stdout",
     "output_type": "stream",
     "text": [
      "Started reading acquisitions from /home/jovyan/InputData/y_70.h5\n",
      "0%..10%..20%..30%..40%..50%..60%..70%..80%..90%..99%..\n",
      "Finished reading acquisitions from /home/jovyan/InputData/y_70.h5\n",
      "Started reading acquisitions from /home/jovyan/InputData/y_71.h5\n",
      "0%..10%..20%..30%..40%..50%..60%..70%..80%..90%..99%..\n",
      "Finished reading acquisitions from /home/jovyan/InputData/y_71.h5\n",
      "Started reading acquisitions from /home/jovyan/InputData/y_72.h5\n",
      "0%..10%..20%..30%..40%..50%..60%..70%..80%..90%..99%..\n",
      "Finished reading acquisitions from /home/jovyan/InputData/y_72.h5\n"
     ]
    },
    {
     "name": "stderr",
     "output_type": "stream",
     "text": [
      " 92%|█████████▏| 298/325 [00:46<00:04,  6.39it/s]"
     ]
    },
    {
     "name": "stdout",
     "output_type": "stream",
     "text": [
      "Started reading acquisitions from /home/jovyan/InputData/y_73.h5\n",
      "0%..10%..20%..30%..40%..50%..60%..70%..80%..90%..99%..\n",
      "Finished reading acquisitions from /home/jovyan/InputData/y_73.h5\n",
      "Started reading acquisitions from /home/jovyan/InputData/y_74.h5\n",
      "0%..10%..20%..30%..40%..50%..60%..70%..80%..90%..99%..\n",
      "Finished reading acquisitions from /home/jovyan/InputData/y_74.h5\n",
      "Started reading acquisitions from /home/jovyan/InputData/y_75.h5\n",
      "0%..10%..20%..30%..40%..50%..60%..70%..80%..90%..99%..\n",
      "Finished reading acquisitions from /home/jovyan/InputData/y_75.h5\n"
     ]
    },
    {
     "name": "stderr",
     "output_type": "stream",
     "text": [
      " 93%|█████████▎| 301/325 [00:46<00:03,  6.94it/s]"
     ]
    },
    {
     "name": "stdout",
     "output_type": "stream",
     "text": [
      "Started reading acquisitions from /home/jovyan/InputData/y_76.h5\n",
      "0%..10%..20%..30%..40%..50%..60%..70%..80%..90%..99%..\n",
      "Finished reading acquisitions from /home/jovyan/InputData/y_76.h5\n",
      "Started reading acquisitions from /home/jovyan/InputData/y_77.h5\n",
      "0%..10%..20%..30%..40%..50%..60%..70%..80%..90%..99%..\n",
      "Finished reading acquisitions from /home/jovyan/InputData/y_77.h5\n",
      "Started reading acquisitions from /home/jovyan/InputData/y_78.h5\n",
      "0%..10%..20%..30%..40%..50%..60%..70%..80%..90%..99%..\n",
      "Finished reading acquisitions from /home/jovyan/InputData/y_78.h5\n"
     ]
    },
    {
     "name": "stderr",
     "output_type": "stream",
     "text": [
      " 94%|█████████▎| 304/325 [00:47<00:02,  7.18it/s]"
     ]
    },
    {
     "name": "stdout",
     "output_type": "stream",
     "text": [
      "Started reading acquisitions from /home/jovyan/InputData/y_79.h5\n",
      "0%..10%..20%..30%..40%..50%..60%..70%..80%..90%..99%..\n",
      "Finished reading acquisitions from /home/jovyan/InputData/y_79.h5\n",
      "Started reading acquisitions from /home/jovyan/InputData/y_8.h5\n",
      "0%..10%..20%..30%..40%..50%..60%..70%..80%..90%..99%..\n",
      "Finished reading acquisitions from /home/jovyan/InputData/y_8.h5\n",
      "Started reading acquisitions from /home/jovyan/InputData/y_80.h5\n",
      "0%..10%..20%..30%..40%..50%..60%..70%..80%..90%..99%..\n",
      "Finished reading acquisitions from /home/jovyan/InputData/y_80.h5\n"
     ]
    },
    {
     "name": "stderr",
     "output_type": "stream",
     "text": [
      " 94%|█████████▍| 307/325 [00:47<00:02,  7.39it/s]"
     ]
    },
    {
     "name": "stdout",
     "output_type": "stream",
     "text": [
      "Started reading acquisitions from /home/jovyan/InputData/y_81.h5\n",
      "0%..10%..20%..30%..40%..50%..60%..70%..80%..90%..99%..\n",
      "Finished reading acquisitions from /home/jovyan/InputData/y_81.h5\n",
      "Started reading acquisitions from /home/jovyan/InputData/y_82.h5\n",
      "0%..10%..20%..30%..40%..50%..60%..70%..80%..90%..99%..\n",
      "Finished reading acquisitions from /home/jovyan/InputData/y_82.h5\n"
     ]
    },
    {
     "name": "stderr",
     "output_type": "stream",
     "text": [
      " 95%|█████████▍| 308/325 [00:47<00:02,  6.48it/s]"
     ]
    },
    {
     "name": "stdout",
     "output_type": "stream",
     "text": [
      "Started reading acquisitions from /home/jovyan/InputData/y_83.h5\n",
      "0%..10%..20%..30%..40%..50%..60%..70%..80%..90%..99%..\n",
      "Finished reading acquisitions from /home/jovyan/InputData/y_83.h5\n"
     ]
    },
    {
     "name": "stderr",
     "output_type": "stream",
     "text": [
      " 95%|█████████▌| 309/325 [00:48<00:02,  5.73it/s]"
     ]
    },
    {
     "name": "stdout",
     "output_type": "stream",
     "text": [
      "Started reading acquisitions from /home/jovyan/InputData/y_84.h5\n",
      "0%..10%..20%..30%..40%..50%..60%..70%..80%..90%..99%..\n",
      "Finished reading acquisitions from /home/jovyan/InputData/y_84.h5\n"
     ]
    },
    {
     "name": "stderr",
     "output_type": "stream",
     "text": [
      " 95%|█████████▌| 310/325 [00:48<00:02,  5.25it/s]"
     ]
    },
    {
     "name": "stdout",
     "output_type": "stream",
     "text": [
      "Started reading acquisitions from /home/jovyan/InputData/y_85.h5\n",
      "0%..10%..20%..30%..40%..50%..60%..70%..80%..90%..99%..\n",
      "Finished reading acquisitions from /home/jovyan/InputData/y_85.h5\n"
     ]
    },
    {
     "name": "stderr",
     "output_type": "stream",
     "text": [
      " 96%|█████████▌| 311/325 [00:48<00:02,  4.99it/s]"
     ]
    },
    {
     "name": "stdout",
     "output_type": "stream",
     "text": [
      "Started reading acquisitions from /home/jovyan/InputData/y_86.h5\n",
      "0%..10%..20%..30%..40%..50%..60%..70%..80%..90%..99%..\n",
      "Finished reading acquisitions from /home/jovyan/InputData/y_86.h5\n",
      "Started reading acquisitions from /home/jovyan/InputData/y_87.h5\n",
      "0%..10%..20%..30%..40%..50%..60%..70%..80%..90%..99%..\n",
      "Finished reading acquisitions from /home/jovyan/InputData/y_87.h5\n"
     ]
    },
    {
     "name": "stderr",
     "output_type": "stream",
     "text": [
      " 97%|█████████▋| 314/325 [00:48<00:01,  6.04it/s]"
     ]
    },
    {
     "name": "stdout",
     "output_type": "stream",
     "text": [
      "Started reading acquisitions from /home/jovyan/InputData/y_88.h5\n",
      "0%..10%..20%..30%..40%..50%..60%..70%..80%..90%..99%..\n",
      "Finished reading acquisitions from /home/jovyan/InputData/y_88.h5\n",
      "Started reading acquisitions from /home/jovyan/InputData/y_89.h5\n",
      "0%..10%..20%..30%..40%..50%..60%..70%..80%..90%..99%..\n",
      "Finished reading acquisitions from /home/jovyan/InputData/y_89.h5\n"
     ]
    },
    {
     "name": "stderr",
     "output_type": "stream",
     "text": [
      " 97%|█████████▋| 316/325 [00:49<00:01,  6.59it/s]"
     ]
    },
    {
     "name": "stdout",
     "output_type": "stream",
     "text": [
      "Started reading acquisitions from /home/jovyan/InputData/y_9.h5\n",
      "0%..10%..20%..30%..40%..50%..60%..70%..80%..90%..99%..\n",
      "Finished reading acquisitions from /home/jovyan/InputData/y_9.h5\n",
      "Started reading acquisitions from /home/jovyan/InputData/y_90.h5\n",
      "0%..10%..20%..30%..40%..50%..60%..70%..80%..90%..99%..\n",
      "Finished reading acquisitions from /home/jovyan/InputData/y_90.h5\n",
      "Started reading acquisitions from /home/jovyan/InputData/y_91.h5\n",
      "0%..10%..20%..30%..40%..50%..60%..70%..80%..90%..99%..\n",
      "Finished reading acquisitions from /home/jovyan/InputData/y_91.h5\n"
     ]
    },
    {
     "name": "stderr",
     "output_type": "stream",
     "text": [
      " 98%|█████████▊| 318/325 [00:49<00:01,  6.88it/s]"
     ]
    },
    {
     "name": "stdout",
     "output_type": "stream",
     "text": [
      "Started reading acquisitions from /home/jovyan/InputData/y_92.h5\n",
      "0%..10%..20%..30%..40%..50%..60%..70%..80%..90%..99%..\n",
      "Finished reading acquisitions from /home/jovyan/InputData/y_92.h5\n",
      "Started reading acquisitions from /home/jovyan/InputData/y_93.h5\n",
      "0%..10%..20%..30%..40%..50%..60%..70%..80%..90%..99%..\n",
      "Finished reading acquisitions from /home/jovyan/InputData/y_93.h5\n"
     ]
    },
    {
     "name": "stderr",
     "output_type": "stream",
     "text": [
      " 99%|█████████▉| 321/325 [00:50<00:00,  5.56it/s]"
     ]
    },
    {
     "name": "stdout",
     "output_type": "stream",
     "text": [
      "Started reading acquisitions from /home/jovyan/InputData/y_94.h5\n",
      "0%..10%..20%..30%..40%..50%..60%..70%..80%..90%..99%..\n",
      "Finished reading acquisitions from /home/jovyan/InputData/y_94.h5\n",
      "Started reading acquisitions from /home/jovyan/InputData/y_95.h5\n",
      "0%..10%..20%..30%..40%..50%..60%..70%..80%..90%..99%..\n",
      "Finished reading acquisitions from /home/jovyan/InputData/y_95.h5\n",
      "Started reading acquisitions from /home/jovyan/InputData/y_96.h5\n",
      "0%..10%..20%..30%..40%..50%..60%..70%..80%..90%..99%..\n",
      "Finished reading acquisitions from /home/jovyan/InputData/y_96.h5\n"
     ]
    },
    {
     "name": "stderr",
     "output_type": "stream",
     "text": [
      "100%|█████████▉| 324/325 [00:50<00:00,  6.52it/s]"
     ]
    },
    {
     "name": "stdout",
     "output_type": "stream",
     "text": [
      "Started reading acquisitions from /home/jovyan/InputData/y_97.h5\n",
      "0%..10%..20%..30%..40%..50%..60%..70%..80%..90%..99%..\n",
      "Finished reading acquisitions from /home/jovyan/InputData/y_97.h5\n",
      "Started reading acquisitions from /home/jovyan/InputData/y_98.h5\n",
      "0%..10%..20%..30%..40%..50%..60%..70%..80%..90%..99%..\n",
      "Finished reading acquisitions from /home/jovyan/InputData/y_98.h5\n"
     ]
    },
    {
     "name": "stderr",
     "output_type": "stream",
     "text": [
      "100%|██████████| 325/325 [00:50<00:00,  6.41it/s]"
     ]
    },
    {
     "name": "stdout",
     "output_type": "stream",
     "text": [
      "Started reading acquisitions from /home/jovyan/InputData/y_99.h5\n",
      "0%..10%..20%..30%..40%..50%..60%..70%..80%..90%..99%..\n",
      "Finished reading acquisitions from /home/jovyan/InputData/y_99.h5\n"
     ]
    },
    {
     "name": "stderr",
     "output_type": "stream",
     "text": [
      "\n"
     ]
    }
   ],
   "source": [
    "\n",
    "list_rawdata = sorted(path_input.glob(\"y_*\"))\n",
    "\n",
    "for f in tqdm(list_rawdata):\n",
    "        \n",
    "    fileidx = str(f.stem).split('_')[1]\n",
    "    ytmp = pMR.AcquisitionData(str(f))\n",
    "    \n",
    "    itmp = E.backward(ytmp)\n",
    "    \n",
    "    nii = nib.Nifti1Image(itmp.as_array(), np.eye(4))\n",
    "    fout = fpath_output / \"cmplx_zfrecon_{}.nii\".format(fileidx)\n",
    "    nib.save(nii,str(fout))\n",
    "    \n",
    "    \n",
    "    nii = nib.Nifti1Image(np.abs(itmp.as_array()), np.eye(4))\n",
    "    fout = fpath_output / \"zfrecon_{}.nii\".format(fileidx)\n",
    "    nib.save(nii,str(fout))\n",
    "    \n",
    "    "
   ]
  },
  {
   "cell_type": "code",
   "execution_count": null,
   "id": "2f35620b-696f-48c6-999a-cd268afc7820",
   "metadata": {},
   "outputs": [],
   "source": []
  }
 ],
 "metadata": {
  "kernelspec": {
   "display_name": "Python 3 (ipykernel)",
   "language": "python",
   "name": "python3"
  },
  "language_info": {
   "codemirror_mode": {
    "name": "ipython",
    "version": 3
   },
   "file_extension": ".py",
   "mimetype": "text/x-python",
   "name": "python",
   "nbconvert_exporter": "python",
   "pygments_lexer": "ipython3",
   "version": "3.9.10"
  }
 },
 "nbformat": 4,
 "nbformat_minor": 5
}
