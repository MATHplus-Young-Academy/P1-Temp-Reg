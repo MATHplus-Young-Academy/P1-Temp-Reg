{
 "cells": [
  {
   "cell_type": "code",
   "execution_count": 1,
   "id": "870439ff-75b3-4f41-ac06-dcf1bdc54a71",
   "metadata": {},
   "outputs": [],
   "source": [
    "# First version: 18th of March 2022\n",
    "# Author: Evangelos Papoutsellis\n",
    "# Copyright 2022 Science and Techonology Facilities Council\n",
    "\n",
    "# This software was developed during the Math+ “Maths meets Image” hackathon 2022.\n",
    "\n",
    "# Licensed under the Apache License, Version 2.0 (the \"License\"); you may not use this file except in compliance\n",
    "# with the License. You may obtain a copy of the License at http://www.apache.org/licenses/LICENSE-2.0 Unless\n",
    "# required by applicable law or agreed to in writing, software distributed under the License is distributed on an\n",
    "# \"AS IS\" BASIS, WITHOUT WARRANTIES OR CONDITIONS OF ANY KIND, either express or implied. See the License\n",
    "# for the specific language governing permissions and limitations under the License.\n",
    "\n",
    "\n",
    "from cil.utilities.noise import gaussian\n",
    "from cil.utilities.display import show2D\n",
    "from cil.optimisation.operators import FiniteDifferenceOperator, GradientOperator, BlockOperator\n",
    "from cil.optimisation.functions import L1Norm, MixedL21Norm, L2NormSquared, BlockFunction\n",
    "from cil.optimisation.algorithms import PDHG\n",
    "from cil.utilities.jupyter import islicer\n",
    "from cil.framework import ImageGeometry\n",
    "\n",
    "import nibabel as nib\n",
    "import os\n",
    "import numpy as np\n"
   ]
  },
  {
   "cell_type": "markdown",
   "id": "25e77101-0547-435a-ba6e-4e20b4423c5f",
   "metadata": {},
   "source": [
    "# Dynamic denoising with isotropic-spatial TV coupled anisotropic with temporal TV\n",
    "\n",
    "$$ \\underset{u}{\\mathrm{argmin}} \\big\\{\\frac{1}{2}\\| u - g \\|^{2} + \\alpha\\|\\partial_{t} u\\|_{1} + \\beta\\|\\nabla u\\|_{2} \\big\\}$$\n",
    "\n",
    "\n",
    "$$ \\underset{u}{\\mathrm{argmin}} \\mathcal{F}(Ku) + \\mathcal{G}(u)$$\n",
    "\n",
    "\n",
    "### Algorithm used :  Primal-Dual Hybrid algorithm"
   ]
  },
  {
   "cell_type": "code",
   "execution_count": 2,
   "id": "ccab6e5c-d1ff-4cd5-bfb0-da3c33848f10",
   "metadata": {},
   "outputs": [],
   "source": [
    "def plot_2d_image(idx,vol,title,clims=None,cmap=\"viridis\"):\n",
    "    \"\"\"Customized version of subplot to plot 2D image\"\"\"\n",
    "    plt.subplot(*idx)\n",
    "    plt.imshow(vol,cmap=cmap)\n",
    "    if not clims is None:\n",
    "        plt.clim(clims)\n",
    "    plt.colorbar()\n",
    "    plt.title(title)\n",
    "    plt.axis(\"off\")\n",
    "\n",
    "\n",
    "def crop_and_fill(templ_im, vol):\n",
    "    \"\"\"Crop volumetric image data and replace image content in template image object\"\"\"\n",
    "    # Get size of template image and crop\n",
    "    idim_orig = templ_im.as_array().shape\n",
    "    idim = (1,)*(3-len(idim_orig)) + idim_orig\n",
    "    offset = (numpy.array(vol.shape) - numpy.array(idim)) // 2\n",
    "    vol = vol[offset[0]:offset[0]+idim[0], offset[1]:offset[1]+idim[1], offset[2]:offset[2]+idim[2]]\n",
    "    \n",
    "    # Make a copy of the template to ensure we do not overwrite it\n",
    "    templ_im_out = templ_im.copy()\n",
    "    \n",
    "    # Fill image content \n",
    "    templ_im_out.fill(numpy.reshape(vol, idim_orig))\n",
    "    return(templ_im_out)"
   ]
  },
  {
   "cell_type": "code",
   "execution_count": 3,
   "id": "0fed4d99-c824-48aa-b8b3-37a6a1a3bd06",
   "metadata": {},
   "outputs": [],
   "source": [
    "\n",
    "data_path = '/mnt/materials/SIRF/MathPlusBerlin/DATA/ACDC-Daten/NOR/patient071/'\n",
    "example_ni1 = os.path.join(data_path, 'image.nii.gz')\n",
    "n1_img = nib.load(example_ni1).get_fdata() #get a numpy\n"
   ]
  },
  {
   "cell_type": "code",
   "execution_count": 4,
   "id": "12836c0d-ed7f-41be-bdcf-249eab6d2f07",
   "metadata": {},
   "outputs": [
    {
     "name": "stdout",
     "output_type": "stream",
     "text": [
      " Shape is (192, 256, 30)\n"
     ]
    }
   ],
   "source": [
    "dynamic_img = n1_img[:,:,5,0,:,0] # what are the last 3 slices???\n",
    "print(\" Shape is {}\".format(dynamic_img.shape))"
   ]
  },
  {
   "cell_type": "markdown",
   "id": "05464d0c-f898-47a0-b270-5926e6a038da",
   "metadata": {},
   "source": [
    "### Make a cil object, Add gaussian noise"
   ]
  },
  {
   "cell_type": "code",
   "execution_count": 5,
   "id": "60f8b18e-a907-43bb-9a72-129e12f637bb",
   "metadata": {},
   "outputs": [],
   "source": [
    "\n",
    "ig = ImageGeometry(voxel_num_x = dynamic_img.shape[1], \n",
    "                   voxel_num_y = dynamic_img.shape[0], \n",
    "                   channels = 30)\n",
    "tmp_data = ig.allocate()\n",
    "tmp_data.fill(np.moveaxis(dynamic_img, 2, 0)) # change order of axis\n",
    "tmp_data_res = tmp_data/tmp_data.max() \n",
    "noisy_data = gaussian(tmp_data_res, seed=10, var = 0.001) # add noise gaussian"
   ]
  },
  {
   "cell_type": "code",
   "execution_count": 6,
   "id": "8f53c2fc-e104-4660-92d9-47c97ad386e3",
   "metadata": {},
   "outputs": [
    {
     "data": {
      "application/vnd.jupyter.widget-view+json": {
<<<<<<< HEAD
       "model_id": "8546c550b37e4f8f8b50e343212a64ef",
=======
       "model_id": "3d333c19779b470298303ae83425e6a0",
>>>>>>> e58ef60c8b896fe73b2d2c20f7a158dfd2246332
       "version_major": 2,
       "version_minor": 0
      },
      "text/plain": [
       "interactive(children=(IntSlider(value=15, continuous_update=False, description='X', max=29), FloatRangeSlider(…"
      ]
     },
     "metadata": {},
     "output_type": "display_data"
    },
    {
     "data": {
      "application/vnd.jupyter.widget-view+json": {
<<<<<<< HEAD
       "model_id": "34d92e9a939d4278919164b9445ef824",
=======
       "model_id": "0d395bea1e4a430ca347b37d3da2725b",
>>>>>>> e58ef60c8b896fe73b2d2c20f7a158dfd2246332
       "version_major": 2,
       "version_minor": 0
      },
      "text/plain": [
       "IntSlider(value=15, continuous_update=False, description='X', max=29)"
      ]
     },
     "metadata": {},
     "output_type": "display_data"
    }
   ],
   "source": [
    "islicer(tmp_data.array, direction=0)"
   ]
  },
  {
   "cell_type": "code",
   "execution_count": 19,
   "id": "0524f002-9417-499b-ad4f-a2b6991e3efc",
   "metadata": {},
   "outputs": [
    {
     "ename": "SyntaxError",
     "evalue": "invalid character '‘' (U+2018) (892415224.py, line 15)",
     "output_type": "error",
     "traceback": [
      "\u001b[0;36m  Input \u001b[0;32mIn [21]\u001b[0;36m\u001b[0m\n\u001b[0;31m    raise ValueError(‘__call__ expected BlockDataContainer, got {}’.format(type(x)))\u001b[0m\n\u001b[0m                     ^\u001b[0m\n\u001b[0;31mSyntaxError\u001b[0m\u001b[0;31m:\u001b[0m invalid character '‘' (U+2018)\n"
     ]
    }
   ],
   "source": [
    "alpha = 0.001\n",
    "beta = 0.001\n",
    "Dt = FiniteDifferenceOperator(ig, direction=0) # time is first\n",
    "Grad = GradientOperator(ig, correlation=\"Space\")\n",
    "\n",
    "print(\" Range of Dt = {}\".format(Dt.range.shape))\n",
    "print(\" Range of Grad = {}\".format(Grad.range.shape))\n",
    "\n",
    "f1 = alpha * L1Norm()\n",
    "f2 = beta * MixedL21Norm()\n",
    "\n",
<<<<<<< HEAD
    "\n",
=======
    "# there is a problem with the ScaledFunction and the convex_conjugate (???)\n",
    "from cil.framework import BlockDataContainer\n",
    "def convex_conjugate(x):\n",
    "\n",
    "    if not isinstance(x, BlockDataContainer):\n",
    "        raise ValueError('__call__ expected BlockDataContainer, got {}'.format(type(x))) \n",
    "\n",
    "    tmp = ((x/alpha).pnorm(2).max())\n",
    "    if tmp<=1.0 + 1e-4:# hard-coded threshold\n",
    "        return 0\n",
    "    else:\n",
    "        return np.inf\n",
    "\n",
    "f2.convex_conjugate = convex_conjugate\n",
>>>>>>> e58ef60c8b896fe73b2d2c20f7a158dfd2246332
    "\n",
    "\n",
    "K = BlockOperator(Dt, Grad)\n",
    "F = BlockFunction(f1, f2)\n",
    "G = L2NormSquared(b = noisy_data)"
   ]
  },
  {
   "cell_type": "code",
   "execution_count": 20,
   "id": "be83f640-c5d5-4308-9963-e3be2c2f7d1c",
   "metadata": {},
   "outputs": [
    {
     "name": "stdout",
     "output_type": "stream",
     "text": [
      "PDHG setting up\n",
      "PDHG configured\n",
      "     Iter   Max Iter     Time/Iter        Primal          Dual     Primal-Dual\n",
      "                               [s]     Objective     Objective             Gap\n",
<<<<<<< HEAD
      "        0        300         0.000    2.03755e+04  -0.00000e+00    2.03755e+04\n",
      "       10        300         0.072    1.30812e+02          -inf            inf\n",
      "       20        300         0.073    1.22933e+02          -inf            inf\n",
      "       30        300         0.072    1.22878e+02          -inf            inf\n",
      "       40        300         0.072    1.22876e+02          -inf            inf\n",
      "       50        300         0.072    1.22876e+02          -inf            inf\n",
      "       60        300         0.073    1.22876e+02          -inf            inf\n",
      "       70        300         0.072    1.22876e+02          -inf            inf\n",
      "       80        300         0.072    1.22876e+02          -inf            inf\n",
      "       90        300         0.072    1.22876e+02          -inf            inf\n",
      "      100        300         0.072    1.22876e+02          -inf            inf\n",
      "      110        300         0.072    1.22876e+02          -inf            inf\n",
      "      120        300         0.073    1.22876e+02          -inf            inf\n",
      "      130        300         0.072    1.22876e+02          -inf            inf\n",
      "      140        300         0.072    1.22876e+02          -inf            inf\n",
      "      150        300         0.073    1.22876e+02          -inf            inf\n",
      "      160        300         0.072    1.22876e+02          -inf            inf\n",
      "      170        300         0.072    1.22876e+02          -inf            inf\n",
      "      180        300         0.072    1.22876e+02          -inf            inf\n",
      "      190        300         0.072    1.22876e+02          -inf            inf\n",
      "      200        300         0.072    1.22876e+02          -inf            inf\n",
      "      210        300         0.072    1.22876e+02          -inf            inf\n",
      "      220        300         0.072    1.22876e+02          -inf            inf\n",
      "      230        300         0.072    1.22876e+02          -inf            inf\n",
      "      240        300         0.072    1.22876e+02          -inf            inf\n",
      "      250        300         0.072    1.22876e+02          -inf            inf\n",
      "      260        300         0.072    1.22876e+02          -inf            inf\n",
      "      270        300         0.072    1.22876e+02          -inf            inf\n",
      "      280        300         0.072    1.22876e+02          -inf            inf\n",
      "      290        300         0.072    1.22876e+02          -inf            inf\n",
      "      300        300         0.072    1.22876e+02          -inf            inf\n",
      "----------------------------------------------------------------------------\n",
      "      300        300         0.072    1.22876e+02          -inf            inf\n",
=======
      "        0        100         0.000    2.03755e+04  -0.00000e+00    2.03755e+04\n"
     ]
    },
    {
     "name": "stderr",
     "output_type": "stream",
     "text": [
      "/opt/SIRF-SuperBuild/INSTALL/python/cil/framework/framework.py:2381: RuntimeWarning: invalid value encountered in true_divide\n",
      "  pwop(self.as_array(), x2.as_array(), *args, **kwargs )\n"
     ]
    },
    {
     "name": "stdout",
     "output_type": "stream",
     "text": [
      "       10        100         0.116    1.23628e+02   1.22875e+02    7.53290e-01\n",
      "       20        100         0.098    1.22877e+02   1.22876e+02    1.18389e-03\n",
      "       30        100         0.092    1.22877e+02   1.22876e+02    5.84467e-04\n",
      "       40        100         0.089    1.22876e+02   1.22876e+02    3.24081e-04\n",
      "       50        100         0.088    1.22876e+02   1.22876e+02    2.10854e-04\n",
      "       60        100         0.087    1.22876e+02   1.22876e+02    1.47858e-04\n",
      "       70        100         0.086    1.22876e+02   1.22876e+02    1.12297e-04\n",
      "       80        100         0.085    1.22876e+02   1.22876e+02    9.47647e-05\n",
      "       90        100         0.084    1.22876e+02   1.22876e+02    7.51781e-05\n",
      "      100        100         0.084    1.22876e+02   1.22876e+02    6.69250e-05\n",
      "----------------------------------------------------------------------------\n",
      "      100        100         0.084    1.22876e+02   1.22876e+02    6.69250e-05\n",
>>>>>>> e58ef60c8b896fe73b2d2c20f7a158dfd2246332
      "Stop criterion has been reached.\n",
      "\n"
     ]
    }
   ],
   "source": [
<<<<<<< HEAD
    "pdhg = PDHG(f=F, g=G, operator=K, max_iteration=300, \n",
    "            update_objective_interval=10, gamma_g=0.3)\n",
=======
    "pdhg = PDHG(f=F, g=G, operator=K, max_iteration=100, \n",
    "            update_objective_interval=10, check_convergence=False)\n",
>>>>>>> e58ef60c8b896fe73b2d2c20f7a158dfd2246332
    "pdhg.run(verbose=2)"
   ]
  },
  {
   "cell_type": "code",
   "execution_count": 18,
   "id": "357c0681-8673-4d5e-a74d-320335b9ddd0",
   "metadata": {},
   "outputs": [
    {
     "data": {
      "application/vnd.jupyter.widget-view+json": {
<<<<<<< HEAD
       "model_id": "d7b613b2254447c8a2fdd8557c687dab",
=======
       "model_id": "396720581e3341c49a2641ccbac9c9bb",
>>>>>>> e58ef60c8b896fe73b2d2c20f7a158dfd2246332
       "version_major": 2,
       "version_minor": 0
      },
      "text/plain": [
       "interactive(children=(IntSlider(value=15, continuous_update=False, description='channel', max=29), FloatRangeS…"
      ]
     },
     "metadata": {},
     "output_type": "display_data"
    },
    {
     "data": {
      "application/vnd.jupyter.widget-view+json": {
<<<<<<< HEAD
       "model_id": "55cd8fb2a1e349d6844f33e185e75e05",
=======
       "model_id": "1a99b7537e054a45b51fbe03b6d59ebe",
>>>>>>> e58ef60c8b896fe73b2d2c20f7a158dfd2246332
       "version_major": 2,
       "version_minor": 0
      },
      "text/plain": [
       "IntSlider(value=15, continuous_update=False, description='channel', max=29)"
      ]
     },
     "metadata": {},
     "output_type": "display_data"
    }
   ],
   "source": [
    "sol = pdhg.solution\n",
    "islicer(sol, direction=0)"
   ]
  },
  {
<<<<<<< HEAD
   "cell_type": "code",
   "execution_count": null,
   "id": "846a9a4d-5652-473e-9cfb-c2324324b377",
=======
   "cell_type": "markdown",
   "id": "689cd66b-a4e1-4d69-9c76-1b900b13f429",
   "metadata": {},
   "source": [
    "# Dynamic denoising with anisotropic spatiotemporal TV, i.e. uncouple all dims.\n",
    "\n",
    "$$ \\underset{u}{\\mathrm{argmin}} \\big\\{\\| u - g \\|^{2} + \\alpha ( \\|\\partial_{t} u\\|_{1} + \\|\\partial_{y} u\\|_{1} + \\|\\partial_{x} u\\|_{1})$$\n"
   ]
  },
  {
   "cell_type": "code",
   "execution_count": 10,
   "id": "1e13adc6-59cd-435d-a755-56efc416d206",
   "metadata": {},
   "outputs": [
    {
     "name": "stdout",
     "output_type": "stream",
     "text": [
      "PDHG setting up\n",
      "PDHG configured\n",
      "     Iter   Max Iter     Time/Iter        Primal          Dual     Primal-Dual\n",
      "                               [s]     Objective     Objective             Gap\n",
      "        0        100         0.000    2.03755e+04  -0.00000e+00    2.03755e+04\n",
      "       10        100         0.101    1.02265e+04   3.18912e+03    7.03742e+03\n",
      "       20        100         0.093    8.32820e+03   3.82117e+03    4.50703e+03\n",
      "       30        100         0.090    7.70286e+03   4.17435e+03    3.52851e+03\n",
      "       40        100         0.088    7.36151e+03   4.40579e+03    2.95572e+03\n",
      "       50        100         0.087    7.13953e+03   4.57124e+03    2.56829e+03\n",
      "       60        100         0.088    6.97868e+03   4.69594e+03    2.28274e+03\n",
      "       70        100         0.086    6.85710e+03   4.79417e+03    2.06293e+03\n",
      "       80        100         0.084    6.76262e+03   4.87378e+03    1.88884e+03\n",
      "       90        100         0.083    6.68676e+03   4.93965e+03    1.74711e+03\n",
      "      100        100         0.082    6.62469e+03   4.99532e+03    1.62937e+03\n",
      "----------------------------------------------------------------------------\n",
      "      100        100         0.082    6.62469e+03   4.99532e+03    1.62937e+03\n",
      "Stop criterion has been reached.\n",
      "\n"
     ]
    }
   ],
   "source": [
    "Dt = FiniteDifferenceOperator(ig, direction=0) \n",
    "Dy = FiniteDifferenceOperator(ig, direction=1) \n",
    "Dx = FiniteDifferenceOperator(ig, direction=2) \n",
    "K = BlockOperator(Dt, Dy, Dx)\n",
    "\n",
    "# avoid inf values, dual objective\n",
    "def convex_conjugate(self,x):\n",
    "\n",
    "    tmp = x.abs().max()\n",
    "    if tmp<=1.+1e-4:            \n",
    "        if self.b is not None:\n",
    "            return self.b.dot(x)\n",
    "        else:\n",
    "            return 0.\n",
    "    return np.inf\n",
    "\n",
    "L1Norm.convex_conjugate = convex_conjugate\n",
    "f1 = L1Norm()\n",
    "f2 = L1Norm()\n",
    "f3 = L1Norm()\n",
    "\n",
    "alpha = 0.5\n",
    "F = alpha * BlockFunction(f1, f2, f3)\n",
    "G = L2NormSquared(b=noisy_data)\n",
    "\n",
    "pdhg_uncouple = PDHG(f=F, g=G, operator=K, max_iteration=100, \n",
    "            update_objective_interval=10, check_convergence=False)\n",
    "pdhg_uncouple.run(verbose=2)\n",
    "\n",
    "\n"
   ]
  },
  {
   "cell_type": "code",
   "execution_count": 11,
   "id": "2910485a-fa3d-4800-ab40-1b3697237620",
   "metadata": {},
   "outputs": [
    {
     "data": {
      "application/vnd.jupyter.widget-view+json": {
       "model_id": "f1cccdd591414c6ba7370f56fa2fbe17",
       "version_major": 2,
       "version_minor": 0
      },
      "text/plain": [
       "interactive(children=(IntSlider(value=15, continuous_update=False, description='channel', max=29), FloatRangeS…"
      ]
     },
     "metadata": {},
     "output_type": "display_data"
    },
    {
     "data": {
      "application/vnd.jupyter.widget-view+json": {
       "model_id": "f9d9c8f5c7d34db99cecf9b93270ff49",
       "version_major": 2,
       "version_minor": 0
      },
      "text/plain": [
       "IntSlider(value=15, continuous_update=False, description='channel', max=29)"
      ]
     },
     "metadata": {},
     "output_type": "display_data"
    }
   ],
   "source": [
    "sol = pdhg_uncouple.solution\n",
    "islicer(sol, direction=0)"
   ]
  },
  {
   "cell_type": "code",
   "execution_count": null,
   "id": "68f5096e-0361-4f19-9992-7bbb98c88ca3",
>>>>>>> e58ef60c8b896fe73b2d2c20f7a158dfd2246332
   "metadata": {},
   "outputs": [],
   "source": []
  }
 ],
 "metadata": {
  "kernelspec": {
   "display_name": "Python 3 (ipykernel)",
   "language": "python",
   "name": "python3"
  },
  "language_info": {
   "codemirror_mode": {
    "name": "ipython",
    "version": 3
   },
   "file_extension": ".py",
   "mimetype": "text/x-python",
   "name": "python",
   "nbconvert_exporter": "python",
   "pygments_lexer": "ipython3",
   "version": "3.9.10"
  }
 },
 "nbformat": 4,
 "nbformat_minor": 5
}
