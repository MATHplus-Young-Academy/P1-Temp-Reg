{
 "cells": [
  {
   "cell_type": "code",
   "execution_count": 23,
   "id": "8f1e1efd-45d2-4204-b9f7-982261462680",
   "metadata": {},
   "outputs": [],
   "source": [
    "import sirf.Gadgetron as MR"
   ]
  },
  {
   "cell_type": "code",
   "execution_count": 24,
   "id": "3534b961-542b-4e37-8821-55621c1dda81",
   "metadata": {},
   "outputs": [
    {
     "name": "stdout",
     "output_type": "stream",
     "text": [
      "Started reading acquisitions from /home/jovyan/P1-Temp-Reg/y_4.h5\n",
      "0%..10%..20%..30%..40%..50%..60%..70%..80%..90%..99%..\n",
      "Finished reading acquisitions from /home/jovyan/P1-Temp-Reg/y_4.h5\n"
     ]
    }
   ],
   "source": [
    "filepath_y = \"/home/jovyan/P1-Temp-Reg/y_4.h5\"\n",
    "y = MR.AcquisitionData(filepath_y)\n",
    "csm = MR.CoilSensitivityData()\n",
    "csm.calculate(y)\n",
    "u = MR.ImageData()\n",
    "u.from_acquisition_data(y)\n",
    "A= MR.AcquisitionModel(acqs=y, imgs=u)"
   ]
  },
  {
   "cell_type": "code",
   "execution_count": 25,
   "id": "d61f8f85-1ee9-45c1-b5c4-bed8918afd0f",
   "metadata": {},
   "outputs": [
    {
     "name": "stdout",
     "output_type": "stream",
     "text": [
      "(12, 128, 128)\n",
      "(384, 1, 128)\n"
     ]
    }
   ],
   "source": [
    "A.set_coil_sensitivity_maps(csm)\n",
    "z = A.backward(y)\n",
    "print(z.shape)\n",
    "\n",
    "zfwd = A.forward(z)\n",
    "print(zfwd.shape)"
   ]
  },
  {
   "cell_type": "code",
   "execution_count": null,
   "id": "b5ad82a5-1fed-442f-90d8-507d8b0f0333",
   "metadata": {},
   "outputs": [],
   "source": []
  }
 ],
 "metadata": {
  "kernelspec": {
   "display_name": "Python 3 (ipykernel)",
   "language": "python",
   "name": "python3"
  },
  "language_info": {
   "codemirror_mode": {
    "name": "ipython",
    "version": 3
   },
   "file_extension": ".py",
   "mimetype": "text/x-python",
   "name": "python",
   "nbconvert_exporter": "python",
   "pygments_lexer": "ipython3",
   "version": "3.9.10"
  }
 },
 "nbformat": 4,
 "nbformat_minor": 5
}
